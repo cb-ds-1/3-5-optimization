{
 "cells": [
  {
   "source": [
    "## Martin Dionne"
   ],
   "cell_type": "markdown",
   "metadata": {}
  },
  {
   "cell_type": "code",
   "execution_count": 1,
   "metadata": {},
   "outputs": [],
   "source": [
    "import pandas as pd \n",
    "import numpy as np \n",
    "import matplotlib.pyplot as plt\n",
    "import statsmodels.api as sm\n",
    "import scipy.optimize as opt"
   ]
  },
  {
   "cell_type": "markdown",
   "metadata": {},
   "source": [
    "# 1. Bisection\n",
    "\n",
    "\n",
    "One of the most common algorithms for numerical root-finding is *bisection*.\n",
    "\n",
    "To understand the idea, recall the well-known game where:\n",
    "\n",
    "- Player A thinks of a secret number between 1 and 100  \n",
    "- Player B asks if it’s less than 50  \n",
    "  \n",
    "  - If yes, B asks if it’s less than 25  \n",
    "  - If no, B asks if it’s less than 75  \n",
    "  \n",
    "\n",
    "And so on.\n",
    "\n",
    "This is bisection, a relative of [binary search](https://en.wikipedia.org/wiki/Binary_search_algorithm). It works for all sufficiently well behaved increasing continuous functions with $ f(a) < 0 < f(b) $. \n",
    "\n",
    "Write an implementation of the bisection algorith, `bisect(f, lower, upper, tol)` which, given a function `f`, a lower bound `lower` and an upper bound `upper` finds the point `x` where `f(x) = 0`. The parameter `tol` is a numerical tolerance, you should stop once your step size is smaller than `tol`.\n",
    "\n",
    "\n",
    "Use it to minimize the function:\n",
    "\n",
    "$$\n",
    "f(x) = \\sin(4 (x - 1/4)) + x + x^{20} - 1 \\tag{2}\n",
    "$$\n",
    "\n",
    "in python: `lambda x: np.sin(4 * (x - 1/4)) + x + x**20 - 1`\n",
    "\n",
    "The value where f(x) = 0 should be around `0.408`"
   ]
  },
  {
   "cell_type": "code",
   "execution_count": 2,
   "metadata": {},
   "outputs": [
    {
     "output_type": "execute_result",
     "data": {
      "text/plain": [
       "[<matplotlib.lines.Line2D at 0x29a6b463bb0>]"
      ]
     },
     "metadata": {},
     "execution_count": 2
    },
    {
     "output_type": "display_data",
     "data": {
      "text/plain": "<Figure size 432x288 with 1 Axes>",
      "image/svg+xml": "<?xml version=\"1.0\" encoding=\"utf-8\" standalone=\"no\"?>\r\n<!DOCTYPE svg PUBLIC \"-//W3C//DTD SVG 1.1//EN\"\r\n  \"http://www.w3.org/Graphics/SVG/1.1/DTD/svg11.dtd\">\r\n<!-- Created with matplotlib (https://matplotlib.org/) -->\r\n<svg height=\"248.518125pt\" version=\"1.1\" viewBox=\"0 0 380.482812 248.518125\" width=\"380.482812pt\" xmlns=\"http://www.w3.org/2000/svg\" xmlns:xlink=\"http://www.w3.org/1999/xlink\">\r\n <defs>\r\n  <style type=\"text/css\">\r\n*{stroke-linecap:butt;stroke-linejoin:round;}\r\n  </style>\r\n </defs>\r\n <g id=\"figure_1\">\r\n  <g id=\"patch_1\">\r\n   <path d=\"M -0 248.518125 \r\nL 380.482812 248.518125 \r\nL 380.482812 0 \r\nL -0 0 \r\nz\r\n\" style=\"fill:none;\"/>\r\n  </g>\r\n  <g id=\"axes_1\">\r\n   <g id=\"patch_2\">\r\n    <path d=\"M 38.482813 224.64 \r\nL 373.282813 224.64 \r\nL 373.282813 7.2 \r\nL 38.482813 7.2 \r\nz\r\n\" style=\"fill:#ffffff;\"/>\r\n   </g>\r\n   <g id=\"matplotlib.axis_1\">\r\n    <g id=\"xtick_1\">\r\n     <g id=\"line2d_1\">\r\n      <defs>\r\n       <path d=\"M 0 0 \r\nL 0 3.5 \r\n\" id=\"m941f709a06\" style=\"stroke:#000000;stroke-width:0.8;\"/>\r\n      </defs>\r\n      <g>\r\n       <use style=\"stroke:#000000;stroke-width:0.8;\" x=\"53.700994\" xlink:href=\"#m941f709a06\" y=\"224.64\"/>\r\n      </g>\r\n     </g>\r\n     <g id=\"text_1\">\r\n      <!-- −1.00 -->\r\n      <defs>\r\n       <path d=\"M 10.59375 35.5 \r\nL 73.1875 35.5 \r\nL 73.1875 27.203125 \r\nL 10.59375 27.203125 \r\nz\r\n\" id=\"DejaVuSans-8722\"/>\r\n       <path d=\"M 12.40625 8.296875 \r\nL 28.515625 8.296875 \r\nL 28.515625 63.921875 \r\nL 10.984375 60.40625 \r\nL 10.984375 69.390625 \r\nL 28.421875 72.90625 \r\nL 38.28125 72.90625 \r\nL 38.28125 8.296875 \r\nL 54.390625 8.296875 \r\nL 54.390625 0 \r\nL 12.40625 0 \r\nz\r\n\" id=\"DejaVuSans-49\"/>\r\n       <path d=\"M 10.6875 12.40625 \r\nL 21 12.40625 \r\nL 21 0 \r\nL 10.6875 0 \r\nz\r\n\" id=\"DejaVuSans-46\"/>\r\n       <path d=\"M 31.78125 66.40625 \r\nQ 24.171875 66.40625 20.328125 58.90625 \r\nQ 16.5 51.421875 16.5 36.375 \r\nQ 16.5 21.390625 20.328125 13.890625 \r\nQ 24.171875 6.390625 31.78125 6.390625 \r\nQ 39.453125 6.390625 43.28125 13.890625 \r\nQ 47.125 21.390625 47.125 36.375 \r\nQ 47.125 51.421875 43.28125 58.90625 \r\nQ 39.453125 66.40625 31.78125 66.40625 \r\nz\r\nM 31.78125 74.21875 \r\nQ 44.046875 74.21875 50.515625 64.515625 \r\nQ 56.984375 54.828125 56.984375 36.375 \r\nQ 56.984375 17.96875 50.515625 8.265625 \r\nQ 44.046875 -1.421875 31.78125 -1.421875 \r\nQ 19.53125 -1.421875 13.0625 8.265625 \r\nQ 6.59375 17.96875 6.59375 36.375 \r\nQ 6.59375 54.828125 13.0625 64.515625 \r\nQ 19.53125 74.21875 31.78125 74.21875 \r\nz\r\n\" id=\"DejaVuSans-48\"/>\r\n      </defs>\r\n      <g transform=\"translate(38.378338 239.238437)scale(0.1 -0.1)\">\r\n       <use xlink:href=\"#DejaVuSans-8722\"/>\r\n       <use x=\"83.789062\" xlink:href=\"#DejaVuSans-49\"/>\r\n       <use x=\"147.412109\" xlink:href=\"#DejaVuSans-46\"/>\r\n       <use x=\"179.199219\" xlink:href=\"#DejaVuSans-48\"/>\r\n       <use x=\"242.822266\" xlink:href=\"#DejaVuSans-48\"/>\r\n      </g>\r\n     </g>\r\n    </g>\r\n    <g id=\"xtick_2\">\r\n     <g id=\"line2d_2\">\r\n      <g>\r\n       <use style=\"stroke:#000000;stroke-width:0.8;\" x=\"91.746449\" xlink:href=\"#m941f709a06\" y=\"224.64\"/>\r\n      </g>\r\n     </g>\r\n     <g id=\"text_2\">\r\n      <!-- −0.75 -->\r\n      <defs>\r\n       <path d=\"M 8.203125 72.90625 \r\nL 55.078125 72.90625 \r\nL 55.078125 68.703125 \r\nL 28.609375 0 \r\nL 18.3125 0 \r\nL 43.21875 64.59375 \r\nL 8.203125 64.59375 \r\nz\r\n\" id=\"DejaVuSans-55\"/>\r\n       <path d=\"M 10.796875 72.90625 \r\nL 49.515625 72.90625 \r\nL 49.515625 64.59375 \r\nL 19.828125 64.59375 \r\nL 19.828125 46.734375 \r\nQ 21.96875 47.46875 24.109375 47.828125 \r\nQ 26.265625 48.1875 28.421875 48.1875 \r\nQ 40.625 48.1875 47.75 41.5 \r\nQ 54.890625 34.8125 54.890625 23.390625 \r\nQ 54.890625 11.625 47.5625 5.09375 \r\nQ 40.234375 -1.421875 26.90625 -1.421875 \r\nQ 22.3125 -1.421875 17.546875 -0.640625 \r\nQ 12.796875 0.140625 7.71875 1.703125 \r\nL 7.71875 11.625 \r\nQ 12.109375 9.234375 16.796875 8.0625 \r\nQ 21.484375 6.890625 26.703125 6.890625 \r\nQ 35.15625 6.890625 40.078125 11.328125 \r\nQ 45.015625 15.765625 45.015625 23.390625 \r\nQ 45.015625 31 40.078125 35.4375 \r\nQ 35.15625 39.890625 26.703125 39.890625 \r\nQ 22.75 39.890625 18.8125 39.015625 \r\nQ 14.890625 38.140625 10.796875 36.28125 \r\nz\r\n\" id=\"DejaVuSans-53\"/>\r\n      </defs>\r\n      <g transform=\"translate(76.423793 239.238437)scale(0.1 -0.1)\">\r\n       <use xlink:href=\"#DejaVuSans-8722\"/>\r\n       <use x=\"83.789062\" xlink:href=\"#DejaVuSans-48\"/>\r\n       <use x=\"147.412109\" xlink:href=\"#DejaVuSans-46\"/>\r\n       <use x=\"179.199219\" xlink:href=\"#DejaVuSans-55\"/>\r\n       <use x=\"242.822266\" xlink:href=\"#DejaVuSans-53\"/>\r\n      </g>\r\n     </g>\r\n    </g>\r\n    <g id=\"xtick_3\">\r\n     <g id=\"line2d_3\">\r\n      <g>\r\n       <use style=\"stroke:#000000;stroke-width:0.8;\" x=\"129.791903\" xlink:href=\"#m941f709a06\" y=\"224.64\"/>\r\n      </g>\r\n     </g>\r\n     <g id=\"text_3\">\r\n      <!-- −0.50 -->\r\n      <g transform=\"translate(114.469247 239.238437)scale(0.1 -0.1)\">\r\n       <use xlink:href=\"#DejaVuSans-8722\"/>\r\n       <use x=\"83.789062\" xlink:href=\"#DejaVuSans-48\"/>\r\n       <use x=\"147.412109\" xlink:href=\"#DejaVuSans-46\"/>\r\n       <use x=\"179.199219\" xlink:href=\"#DejaVuSans-53\"/>\r\n       <use x=\"242.822266\" xlink:href=\"#DejaVuSans-48\"/>\r\n      </g>\r\n     </g>\r\n    </g>\r\n    <g id=\"xtick_4\">\r\n     <g id=\"line2d_4\">\r\n      <g>\r\n       <use style=\"stroke:#000000;stroke-width:0.8;\" x=\"167.837358\" xlink:href=\"#m941f709a06\" y=\"224.64\"/>\r\n      </g>\r\n     </g>\r\n     <g id=\"text_4\">\r\n      <!-- −0.25 -->\r\n      <defs>\r\n       <path d=\"M 19.1875 8.296875 \r\nL 53.609375 8.296875 \r\nL 53.609375 0 \r\nL 7.328125 0 \r\nL 7.328125 8.296875 \r\nQ 12.9375 14.109375 22.625 23.890625 \r\nQ 32.328125 33.6875 34.8125 36.53125 \r\nQ 39.546875 41.84375 41.421875 45.53125 \r\nQ 43.3125 49.21875 43.3125 52.78125 \r\nQ 43.3125 58.59375 39.234375 62.25 \r\nQ 35.15625 65.921875 28.609375 65.921875 \r\nQ 23.96875 65.921875 18.8125 64.3125 \r\nQ 13.671875 62.703125 7.8125 59.421875 \r\nL 7.8125 69.390625 \r\nQ 13.765625 71.78125 18.9375 73 \r\nQ 24.125 74.21875 28.421875 74.21875 \r\nQ 39.75 74.21875 46.484375 68.546875 \r\nQ 53.21875 62.890625 53.21875 53.421875 \r\nQ 53.21875 48.921875 51.53125 44.890625 \r\nQ 49.859375 40.875 45.40625 35.40625 \r\nQ 44.1875 33.984375 37.640625 27.21875 \r\nQ 31.109375 20.453125 19.1875 8.296875 \r\nz\r\n\" id=\"DejaVuSans-50\"/>\r\n      </defs>\r\n      <g transform=\"translate(152.514702 239.238437)scale(0.1 -0.1)\">\r\n       <use xlink:href=\"#DejaVuSans-8722\"/>\r\n       <use x=\"83.789062\" xlink:href=\"#DejaVuSans-48\"/>\r\n       <use x=\"147.412109\" xlink:href=\"#DejaVuSans-46\"/>\r\n       <use x=\"179.199219\" xlink:href=\"#DejaVuSans-50\"/>\r\n       <use x=\"242.822266\" xlink:href=\"#DejaVuSans-53\"/>\r\n      </g>\r\n     </g>\r\n    </g>\r\n    <g id=\"xtick_5\">\r\n     <g id=\"line2d_5\">\r\n      <g>\r\n       <use style=\"stroke:#000000;stroke-width:0.8;\" x=\"205.882812\" xlink:href=\"#m941f709a06\" y=\"224.64\"/>\r\n      </g>\r\n     </g>\r\n     <g id=\"text_5\">\r\n      <!-- 0.00 -->\r\n      <g transform=\"translate(194.75 239.238437)scale(0.1 -0.1)\">\r\n       <use xlink:href=\"#DejaVuSans-48\"/>\r\n       <use x=\"63.623047\" xlink:href=\"#DejaVuSans-46\"/>\r\n       <use x=\"95.410156\" xlink:href=\"#DejaVuSans-48\"/>\r\n       <use x=\"159.033203\" xlink:href=\"#DejaVuSans-48\"/>\r\n      </g>\r\n     </g>\r\n    </g>\r\n    <g id=\"xtick_6\">\r\n     <g id=\"line2d_6\">\r\n      <g>\r\n       <use style=\"stroke:#000000;stroke-width:0.8;\" x=\"243.928267\" xlink:href=\"#m941f709a06\" y=\"224.64\"/>\r\n      </g>\r\n     </g>\r\n     <g id=\"text_6\">\r\n      <!-- 0.25 -->\r\n      <g transform=\"translate(232.795455 239.238437)scale(0.1 -0.1)\">\r\n       <use xlink:href=\"#DejaVuSans-48\"/>\r\n       <use x=\"63.623047\" xlink:href=\"#DejaVuSans-46\"/>\r\n       <use x=\"95.410156\" xlink:href=\"#DejaVuSans-50\"/>\r\n       <use x=\"159.033203\" xlink:href=\"#DejaVuSans-53\"/>\r\n      </g>\r\n     </g>\r\n    </g>\r\n    <g id=\"xtick_7\">\r\n     <g id=\"line2d_7\">\r\n      <g>\r\n       <use style=\"stroke:#000000;stroke-width:0.8;\" x=\"281.973722\" xlink:href=\"#m941f709a06\" y=\"224.64\"/>\r\n      </g>\r\n     </g>\r\n     <g id=\"text_7\">\r\n      <!-- 0.50 -->\r\n      <g transform=\"translate(270.840909 239.238437)scale(0.1 -0.1)\">\r\n       <use xlink:href=\"#DejaVuSans-48\"/>\r\n       <use x=\"63.623047\" xlink:href=\"#DejaVuSans-46\"/>\r\n       <use x=\"95.410156\" xlink:href=\"#DejaVuSans-53\"/>\r\n       <use x=\"159.033203\" xlink:href=\"#DejaVuSans-48\"/>\r\n      </g>\r\n     </g>\r\n    </g>\r\n    <g id=\"xtick_8\">\r\n     <g id=\"line2d_8\">\r\n      <g>\r\n       <use style=\"stroke:#000000;stroke-width:0.8;\" x=\"320.019176\" xlink:href=\"#m941f709a06\" y=\"224.64\"/>\r\n      </g>\r\n     </g>\r\n     <g id=\"text_8\">\r\n      <!-- 0.75 -->\r\n      <g transform=\"translate(308.886364 239.238437)scale(0.1 -0.1)\">\r\n       <use xlink:href=\"#DejaVuSans-48\"/>\r\n       <use x=\"63.623047\" xlink:href=\"#DejaVuSans-46\"/>\r\n       <use x=\"95.410156\" xlink:href=\"#DejaVuSans-55\"/>\r\n       <use x=\"159.033203\" xlink:href=\"#DejaVuSans-53\"/>\r\n      </g>\r\n     </g>\r\n    </g>\r\n    <g id=\"xtick_9\">\r\n     <g id=\"line2d_9\">\r\n      <g>\r\n       <use style=\"stroke:#000000;stroke-width:0.8;\" x=\"358.064631\" xlink:href=\"#m941f709a06\" y=\"224.64\"/>\r\n      </g>\r\n     </g>\r\n     <g id=\"text_9\">\r\n      <!-- 1.00 -->\r\n      <g transform=\"translate(346.931818 239.238437)scale(0.1 -0.1)\">\r\n       <use xlink:href=\"#DejaVuSans-49\"/>\r\n       <use x=\"63.623047\" xlink:href=\"#DejaVuSans-46\"/>\r\n       <use x=\"95.410156\" xlink:href=\"#DejaVuSans-48\"/>\r\n       <use x=\"159.033203\" xlink:href=\"#DejaVuSans-48\"/>\r\n      </g>\r\n     </g>\r\n    </g>\r\n   </g>\r\n   <g id=\"matplotlib.axis_2\">\r\n    <g id=\"ytick_1\">\r\n     <g id=\"line2d_10\">\r\n      <defs>\r\n       <path d=\"M 0 0 \r\nL -3.5 0 \r\n\" id=\"m0d129e6962\" style=\"stroke:#000000;stroke-width:0.8;\"/>\r\n      </defs>\r\n      <g>\r\n       <use style=\"stroke:#000000;stroke-width:0.8;\" x=\"38.482813\" xlink:href=\"#m0d129e6962\" y=\"204.39173\"/>\r\n      </g>\r\n     </g>\r\n     <g id=\"text_10\">\r\n      <!-- −2.0 -->\r\n      <g transform=\"translate(7.2 208.190949)scale(0.1 -0.1)\">\r\n       <use xlink:href=\"#DejaVuSans-8722\"/>\r\n       <use x=\"83.789062\" xlink:href=\"#DejaVuSans-50\"/>\r\n       <use x=\"147.412109\" xlink:href=\"#DejaVuSans-46\"/>\r\n       <use x=\"179.199219\" xlink:href=\"#DejaVuSans-48\"/>\r\n      </g>\r\n     </g>\r\n    </g>\r\n    <g id=\"ytick_2\">\r\n     <g id=\"line2d_11\">\r\n      <g>\r\n       <use style=\"stroke:#000000;stroke-width:0.8;\" x=\"38.482813\" xlink:href=\"#m0d129e6962\" y=\"174.576235\"/>\r\n      </g>\r\n     </g>\r\n     <g id=\"text_11\">\r\n      <!-- −1.5 -->\r\n      <g transform=\"translate(7.2 178.375454)scale(0.1 -0.1)\">\r\n       <use xlink:href=\"#DejaVuSans-8722\"/>\r\n       <use x=\"83.789062\" xlink:href=\"#DejaVuSans-49\"/>\r\n       <use x=\"147.412109\" xlink:href=\"#DejaVuSans-46\"/>\r\n       <use x=\"179.199219\" xlink:href=\"#DejaVuSans-53\"/>\r\n      </g>\r\n     </g>\r\n    </g>\r\n    <g id=\"ytick_3\">\r\n     <g id=\"line2d_12\">\r\n      <g>\r\n       <use style=\"stroke:#000000;stroke-width:0.8;\" x=\"38.482813\" xlink:href=\"#m0d129e6962\" y=\"144.760741\"/>\r\n      </g>\r\n     </g>\r\n     <g id=\"text_12\">\r\n      <!-- −1.0 -->\r\n      <g transform=\"translate(7.2 148.559959)scale(0.1 -0.1)\">\r\n       <use xlink:href=\"#DejaVuSans-8722\"/>\r\n       <use x=\"83.789062\" xlink:href=\"#DejaVuSans-49\"/>\r\n       <use x=\"147.412109\" xlink:href=\"#DejaVuSans-46\"/>\r\n       <use x=\"179.199219\" xlink:href=\"#DejaVuSans-48\"/>\r\n      </g>\r\n     </g>\r\n    </g>\r\n    <g id=\"ytick_4\">\r\n     <g id=\"line2d_13\">\r\n      <g>\r\n       <use style=\"stroke:#000000;stroke-width:0.8;\" x=\"38.482813\" xlink:href=\"#m0d129e6962\" y=\"114.945246\"/>\r\n      </g>\r\n     </g>\r\n     <g id=\"text_13\">\r\n      <!-- −0.5 -->\r\n      <g transform=\"translate(7.2 118.744465)scale(0.1 -0.1)\">\r\n       <use xlink:href=\"#DejaVuSans-8722\"/>\r\n       <use x=\"83.789062\" xlink:href=\"#DejaVuSans-48\"/>\r\n       <use x=\"147.412109\" xlink:href=\"#DejaVuSans-46\"/>\r\n       <use x=\"179.199219\" xlink:href=\"#DejaVuSans-53\"/>\r\n      </g>\r\n     </g>\r\n    </g>\r\n    <g id=\"ytick_5\">\r\n     <g id=\"line2d_14\">\r\n      <g>\r\n       <use style=\"stroke:#000000;stroke-width:0.8;\" x=\"38.482813\" xlink:href=\"#m0d129e6962\" y=\"85.129751\"/>\r\n      </g>\r\n     </g>\r\n     <g id=\"text_14\">\r\n      <!-- 0.0 -->\r\n      <g transform=\"translate(15.579688 88.92897)scale(0.1 -0.1)\">\r\n       <use xlink:href=\"#DejaVuSans-48\"/>\r\n       <use x=\"63.623047\" xlink:href=\"#DejaVuSans-46\"/>\r\n       <use x=\"95.410156\" xlink:href=\"#DejaVuSans-48\"/>\r\n      </g>\r\n     </g>\r\n    </g>\r\n    <g id=\"ytick_6\">\r\n     <g id=\"line2d_15\">\r\n      <g>\r\n       <use style=\"stroke:#000000;stroke-width:0.8;\" x=\"38.482813\" xlink:href=\"#m0d129e6962\" y=\"55.314257\"/>\r\n      </g>\r\n     </g>\r\n     <g id=\"text_15\">\r\n      <!-- 0.5 -->\r\n      <g transform=\"translate(15.579688 59.113475)scale(0.1 -0.1)\">\r\n       <use xlink:href=\"#DejaVuSans-48\"/>\r\n       <use x=\"63.623047\" xlink:href=\"#DejaVuSans-46\"/>\r\n       <use x=\"95.410156\" xlink:href=\"#DejaVuSans-53\"/>\r\n      </g>\r\n     </g>\r\n    </g>\r\n    <g id=\"ytick_7\">\r\n     <g id=\"line2d_16\">\r\n      <g>\r\n       <use style=\"stroke:#000000;stroke-width:0.8;\" x=\"38.482813\" xlink:href=\"#m0d129e6962\" y=\"25.498762\"/>\r\n      </g>\r\n     </g>\r\n     <g id=\"text_16\">\r\n      <!-- 1.0 -->\r\n      <g transform=\"translate(15.579688 29.297981)scale(0.1 -0.1)\">\r\n       <use xlink:href=\"#DejaVuSans-49\"/>\r\n       <use x=\"63.623047\" xlink:href=\"#DejaVuSans-46\"/>\r\n       <use x=\"95.410156\" xlink:href=\"#DejaVuSans-48\"/>\r\n      </g>\r\n     </g>\r\n    </g>\r\n   </g>\r\n   <g id=\"line2d_17\">\r\n    <path clip-path=\"url(#pec1f9cbbc7)\" d=\"M 53.700994 87.579138 \r\nL 56.775374 105.180356 \r\nL 59.849755 116.688028 \r\nL 62.924135 124.13 \r\nL 65.998515 128.923956 \r\nL 69.072895 132.052398 \r\nL 72.147275 134.189502 \r\nL 75.221655 135.792446 \r\nL 78.296036 137.166687 \r\nL 81.370416 138.512279 \r\nL 84.444796 139.956478 \r\nL 87.519176 141.576521 \r\nL 90.593556 143.415414 \r\nL 93.667936 145.492793 \r\nL 96.742317 147.812335 \r\nL 99.816697 150.366793 \r\nL 102.891077 153.141394 \r\nL 105.965457 156.116132 \r\nL 109.039837 159.267324 \r\nL 112.114217 162.568673 \r\nL 115.188598 165.992013 \r\nL 118.262978 169.507853 \r\nL 121.337358 173.085787 \r\nL 124.411738 176.694824 \r\nL 127.486118 180.303665 \r\nL 130.560498 183.880961 \r\nL 133.634879 187.395533 \r\nL 136.709259 190.8166 \r\nL 139.783639 194.113979 \r\nL 142.858019 197.258292 \r\nL 145.932399 200.221157 \r\nL 149.006779 202.975378 \r\nL 152.08116 205.495115 \r\nL 155.15554 207.756064 \r\nL 158.22992 209.735605 \r\nL 161.3043 211.412958 \r\nL 164.37868 212.769313 \r\nL 167.45306 213.787956 \r\nL 170.527441 214.454376 \r\nL 173.601821 214.756364 \r\nL 176.676201 214.684084 \r\nL 179.750581 214.230148 \r\nL 182.824961 213.389655 \r\nL 185.899341 212.160228 \r\nL 188.973722 210.54203 \r\nL 192.048102 208.537759 \r\nL 195.122482 206.152634 \r\nL 198.196862 203.394358 \r\nL 201.271242 200.273072 \r\nL 204.345622 196.801284 \r\nL 207.420003 192.993789 \r\nL 210.494383 188.867576 \r\nL 213.568763 184.441711 \r\nL 216.643143 179.737217 \r\nL 219.717523 174.776935 \r\nL 222.791903 169.585377 \r\nL 225.866284 164.188561 \r\nL 228.940664 158.613848 \r\nL 232.015044 152.889758 \r\nL 235.089424 147.045786 \r\nL 238.163804 141.112212 \r\nL 241.238184 135.119897 \r\nL 244.312565 129.100087 \r\nL 247.386945 123.084208 \r\nL 250.461325 117.103661 \r\nL 253.535705 111.189613 \r\nL 256.610085 105.372801 \r\nL 259.684465 99.683325 \r\nL 262.758846 94.150454 \r\nL 265.833226 88.802437 \r\nL 268.907606 83.666313 \r\nL 271.981986 78.767741 \r\nL 275.056366 74.130826 \r\nL 278.130746 69.777966 \r\nL 281.205127 65.729698 \r\nL 284.279507 62.004564 \r\nL 287.353887 58.618982 \r\nL 290.428267 55.587123 \r\nL 293.502647 52.92079 \r\nL 296.577027 50.629304 \r\nL 299.651408 48.719354 \r\nL 302.725788 47.194832 \r\nL 305.800168 46.056582 \r\nL 308.874548 45.302039 \r\nL 311.948928 44.924672 \r\nL 315.023308 44.913119 \r\nL 318.097689 45.249831 \r\nL 321.172069 45.908996 \r\nL 324.246449 46.853353 \r\nL 327.320829 48.029377 \r\nL 330.395209 49.360089 \r\nL 333.469589 50.734418 \r\nL 336.54397 51.991632 \r\nL 339.61835 52.898781 \r\nL 342.69273 53.118298 \r\nL 345.76711 52.161903 \r\nL 348.84149 49.325521 \r\nL 351.91587 43.598148 \r\nL 354.990251 33.535186 \r\nL 358.064631 17.083636 \r\n\" style=\"fill:none;stroke:#1f77b4;stroke-linecap:square;stroke-width:1.5;\"/>\r\n   </g>\r\n   <g id=\"patch_3\">\r\n    <path d=\"M 38.482813 224.64 \r\nL 38.482813 7.2 \r\n\" style=\"fill:none;stroke:#000000;stroke-linecap:square;stroke-linejoin:miter;stroke-width:0.8;\"/>\r\n   </g>\r\n   <g id=\"patch_4\">\r\n    <path d=\"M 373.282813 224.64 \r\nL 373.282813 7.2 \r\n\" style=\"fill:none;stroke:#000000;stroke-linecap:square;stroke-linejoin:miter;stroke-width:0.8;\"/>\r\n   </g>\r\n   <g id=\"patch_5\">\r\n    <path d=\"M 38.482812 224.64 \r\nL 373.282812 224.64 \r\n\" style=\"fill:none;stroke:#000000;stroke-linecap:square;stroke-linejoin:miter;stroke-width:0.8;\"/>\r\n   </g>\r\n   <g id=\"patch_6\">\r\n    <path d=\"M 38.482812 7.2 \r\nL 373.282812 7.2 \r\n\" style=\"fill:none;stroke:#000000;stroke-linecap:square;stroke-linejoin:miter;stroke-width:0.8;\"/>\r\n   </g>\r\n  </g>\r\n </g>\r\n <defs>\r\n  <clipPath id=\"pec1f9cbbc7\">\r\n   <rect height=\"217.44\" width=\"334.8\" x=\"38.482813\" y=\"7.2\"/>\r\n  </clipPath>\r\n </defs>\r\n</svg>\r\n",
      "image/png": "[encoded data removed]"
     },
     "metadata": {
      "needs_background": "light"
     }
    }
   ],
   "source": [
    "x = np.linspace(-1,1,100)\n",
    "f = lambda x: np.sin(4 * (x - 1/4)) + x + x**20 - 1\n",
    "plt.plot(x, f(x))"
   ]
  },
  {
   "cell_type": "code",
   "execution_count": 3,
   "metadata": {},
   "outputs": [],
   "source": [
    "def bisect(f, lower, upper, tol):\n",
    "    x = (upper + lower) / 2\n",
    "    if np.abs(f(x)) > tol:\n",
    "        if f(x) > 0 : \n",
    "            upper = x \n",
    "        else: \n",
    "            lower = x\n",
    "        return bisect(f, lower, upper, tol)\n",
    "    return x"
   ]
  },
  {
   "cell_type": "code",
   "execution_count": 4,
   "metadata": {},
   "outputs": [
    {
     "output_type": "execute_result",
     "data": {
      "text/plain": [
       "0.408203125"
      ]
     },
     "metadata": {},
     "execution_count": 4
    }
   ],
   "source": [
    "bisect(f, -1, 1, 0.001) # 0.408"
   ]
  },
  {
   "cell_type": "code",
   "execution_count": 5,
   "metadata": {},
   "outputs": [
    {
     "output_type": "execute_result",
     "data": {
      "text/plain": [
       "0.4082935042806639"
      ]
     },
     "metadata": {},
     "execution_count": 5
    }
   ],
   "source": [
    "# verification\n",
    "opt.bisect(f, -1, 1)"
   ]
  },
  {
   "cell_type": "markdown",
   "metadata": {},
   "source": [
    "# 1.2 (stretch) Recursive Bisect\n",
    "\n",
    "Write a recursive version of the bisection algorithm"
   ]
  },
  {
   "cell_type": "code",
   "execution_count": 6,
   "metadata": {},
   "outputs": [
    {
     "output_type": "execute_result",
     "data": {
      "text/plain": [
       "0.408203125"
      ]
     },
     "metadata": {},
     "execution_count": 6
    }
   ],
   "source": [
    "bisect(f, -1, 1, 0.001) # 0.408"
   ]
  },
  {
   "cell_type": "markdown",
   "metadata": {},
   "source": [
    "# 2.1 Movies Regression\n",
    "\n",
    "Write the best linear regression model you can on the [Movies Dataset](https://www.kaggle.com/rounakbanik/the-movies-dataset?select=ratings.csv) to predict the profitability of a movie (revenue - budget). Maintain the interpretability of the model.\n",
    "\n",
    "Few notes:\n",
    "\n",
    "1. Clean your data! Movies where the budget or revenue are invalid should be thrown out\n",
    "\n",
    "2. Be creative with feature engineering. You can include processing to one-hot encode the type of movie, etc.\n",
    "\n",
    "3. The model should be useful for someone **who is thinking about making a movie**. So features like the popularity can't be used. You could, however, use the ratings to figure out if making \"good\" or \"oscar bait\" movies is a profitable strategy."
   ]
  },
  {
   "cell_type": "code",
   "execution_count": 7,
   "metadata": {
    "colab": {},
    "colab_type": "code",
    "id": "WPi9xcx3mywk"
   },
   "outputs": [
    {
     "output_type": "execute_result",
     "data": {
      "text/plain": [
       "   adult  belongs_to_collection      budget  \\\n",
       "0      0                      1  30000000.0   \n",
       "1      0                      0  65000000.0   \n",
       "3      0                      0  16000000.0   \n",
       "5      0                      0  60000000.0   \n",
       "8      0                      0  35000000.0   \n",
       "\n",
       "                                              genres  homepage  \\\n",
       "0  [{'id': 16, 'name': 'Animation'}, {'id': 35, '...         1   \n",
       "1  [{'id': 12, 'name': 'Adventure'}, {'id': 14, '...         0   \n",
       "3  [{'id': 35, 'name': 'Comedy'}, {'id': 18, 'nam...         0   \n",
       "5  [{'id': 28, 'name': 'Action'}, {'id': 80, 'nam...         0   \n",
       "8  [{'id': 28, 'name': 'Action'}, {'id': 12, 'nam...         0   \n",
       "\n",
       "  original_language                               production_companies  \\\n",
       "0                en     [{'name': 'Pixar Animation Studios', 'id': 3}]   \n",
       "1                en  [{'name': 'TriStar Pictures', 'id': 559}, {'na...   \n",
       "3                en  [{'name': 'Twentieth Century Fox Film Corporat...   \n",
       "5                en  [{'name': 'Regency Enterprises', 'id': 508}, {...   \n",
       "8                en  [{'name': 'Universal Pictures', 'id': 33}, {'n...   \n",
       "\n",
       "                                production_countries      revenue  runtime  \\\n",
       "0  [{'iso_3166_1': 'US', 'name': 'United States o...  373554033.0     81.0   \n",
       "1  [{'iso_3166_1': 'US', 'name': 'United States o...  262797249.0    104.0   \n",
       "3  [{'iso_3166_1': 'US', 'name': 'United States o...   81452156.0    127.0   \n",
       "5  [{'iso_3166_1': 'US', 'name': 'United States o...  187436818.0    170.0   \n",
       "8  [{'iso_3166_1': 'US', 'name': 'United States o...   64350171.0    106.0   \n",
       "\n",
       "                                    spoken_languages  video  month    year  \n",
       "0           [{'iso_639_1': 'en', 'name': 'English'}]      0   10.0  1995.0  \n",
       "1  [{'iso_639_1': 'en', 'name': 'English'}, {'iso...      0   12.0  1995.0  \n",
       "3           [{'iso_639_1': 'en', 'name': 'English'}]      0   12.0  1995.0  \n",
       "5  [{'iso_639_1': 'en', 'name': 'English'}, {'iso...      0   12.0  1995.0  \n",
       "8           [{'iso_639_1': 'en', 'name': 'English'}]      0   12.0  1995.0  "
      ],
      "text/html": "<div>\n<style scoped>\n    .dataframe tbody tr th:only-of-type {\n        vertical-align: middle;\n    }\n\n    .dataframe tbody tr th {\n        vertical-align: top;\n    }\n\n    .dataframe thead th {\n        text-align: right;\n    }\n</style>\n<table border=\"1\" class=\"dataframe\">\n  <thead>\n    <tr style=\"text-align: right;\">\n      <th></th>\n      <th>adult</th>\n      <th>belongs_to_collection</th>\n      <th>budget</th>\n      <th>genres</th>\n      <th>homepage</th>\n      <th>original_language</th>\n      <th>production_companies</th>\n      <th>production_countries</th>\n      <th>revenue</th>\n      <th>runtime</th>\n      <th>spoken_languages</th>\n      <th>video</th>\n      <th>month</th>\n      <th>year</th>\n    </tr>\n  </thead>\n  <tbody>\n    <tr>\n      <th>0</th>\n      <td>0</td>\n      <td>1</td>\n      <td>30000000.0</td>\n      <td>[{'id': 16, 'name': 'Animation'}, {'id': 35, '...</td>\n      <td>1</td>\n      <td>en</td>\n      <td>[{'name': 'Pixar Animation Studios', 'id': 3}]</td>\n      <td>[{'iso_3166_1': 'US', 'name': 'United States o...</td>\n      <td>373554033.0</td>\n      <td>81.0</td>\n      <td>[{'iso_639_1': 'en', 'name': 'English'}]</td>\n      <td>0</td>\n      <td>10.0</td>\n      <td>1995.0</td>\n    </tr>\n    <tr>\n      <th>1</th>\n      <td>0</td>\n      <td>0</td>\n      <td>65000000.0</td>\n      <td>[{'id': 12, 'name': 'Adventure'}, {'id': 14, '...</td>\n      <td>0</td>\n      <td>en</td>\n      <td>[{'name': 'TriStar Pictures', 'id': 559}, {'na...</td>\n      <td>[{'iso_3166_1': 'US', 'name': 'United States o...</td>\n      <td>262797249.0</td>\n      <td>104.0</td>\n      <td>[{'iso_639_1': 'en', 'name': 'English'}, {'iso...</td>\n      <td>0</td>\n      <td>12.0</td>\n      <td>1995.0</td>\n    </tr>\n    <tr>\n      <th>3</th>\n      <td>0</td>\n      <td>0</td>\n      <td>16000000.0</td>\n      <td>[{'id': 35, 'name': 'Comedy'}, {'id': 18, 'nam...</td>\n      <td>0</td>\n      <td>en</td>\n      <td>[{'name': 'Twentieth Century Fox Film Corporat...</td>\n      <td>[{'iso_3166_1': 'US', 'name': 'United States o...</td>\n      <td>81452156.0</td>\n      <td>127.0</td>\n      <td>[{'iso_639_1': 'en', 'name': 'English'}]</td>\n      <td>0</td>\n      <td>12.0</td>\n      <td>1995.0</td>\n    </tr>\n    <tr>\n      <th>5</th>\n      <td>0</td>\n      <td>0</td>\n      <td>60000000.0</td>\n      <td>[{'id': 28, 'name': 'Action'}, {'id': 80, 'nam...</td>\n      <td>0</td>\n      <td>en</td>\n      <td>[{'name': 'Regency Enterprises', 'id': 508}, {...</td>\n      <td>[{'iso_3166_1': 'US', 'name': 'United States o...</td>\n      <td>187436818.0</td>\n      <td>170.0</td>\n      <td>[{'iso_639_1': 'en', 'name': 'English'}, {'iso...</td>\n      <td>0</td>\n      <td>12.0</td>\n      <td>1995.0</td>\n    </tr>\n    <tr>\n      <th>8</th>\n      <td>0</td>\n      <td>0</td>\n      <td>35000000.0</td>\n      <td>[{'id': 28, 'name': 'Action'}, {'id': 12, 'nam...</td>\n      <td>0</td>\n      <td>en</td>\n      <td>[{'name': 'Universal Pictures', 'id': 33}, {'n...</td>\n      <td>[{'iso_3166_1': 'US', 'name': 'United States o...</td>\n      <td>64350171.0</td>\n      <td>106.0</td>\n      <td>[{'iso_639_1': 'en', 'name': 'English'}]</td>\n      <td>0</td>\n      <td>12.0</td>\n      <td>1995.0</td>\n    </tr>\n  </tbody>\n</table>\n</div>"
     },
     "metadata": {},
     "execution_count": 7
    }
   ],
   "source": [
    "df = pd.read_csv('data/movies_metadata.csv')\n",
    "\n",
    "# drop rows of Unreleased movies\n",
    "df = df[df.status == 'Released']\n",
    "\n",
    "# drop columns unique to the row\n",
    "df = df.drop(columns=['id', 'imdb_id', 'original_title', 'overview', 'poster_path', 'tagline', 'title', 'status'])\n",
    "\n",
    "# covert to boolean\n",
    "df['adult'] = df['adult'].replace(('False', 'True'), (0,1))\n",
    "df['belongs_to_collection'] = df['belongs_to_collection'].notna().replace((False, True), (0,1))\n",
    "df['homepage'] = df['homepage'].notna().replace((False, True), (0,1))\n",
    "df['video'] = df['video'].replace((False, True), (0,1))\n",
    "\n",
    "# covert to date\n",
    "df['release_date'] = pd.to_datetime(df['release_date'], format = '%Y-%m-%d', errors='coerce')\n",
    "df['day'] = df['release_date'].dt.day\n",
    "df['month'] = df['release_date'].dt.month\n",
    "df['year'] = df['release_date'].dt.year\n",
    "\n",
    "# drop features correlated to the popularity (after the fact)\n",
    "df = df.drop(columns=['popularity', 'vote_average', 'vote_count', 'release_date', 'day'])\n",
    "\n",
    "# fix revenue = 0, NaN budget = 0\n",
    "df['budget'] = df['budget'].astype('int')\n",
    "df.loc[df['budget'] == 0, 'budget'] = np.nan\n",
    "df.loc[df['revenue'] == 0, 'revenue'] = np.nan\n",
    "\n",
    "na = df.isnull().sum().to_frame(name = 'na')\n",
    "na = na.loc[na.na != 0]\n",
    "na\n",
    "\n",
    "df = df.dropna()\n",
    "df.head(5)"
   ]
  },
  {
   "cell_type": "code",
   "execution_count": 8,
   "metadata": {},
   "outputs": [],
   "source": [
    "# drop columns non numerical columns (for now)\n",
    "#df = df.drop(columns=['genres', 'production_companies' , 'production_countries', 'spoken_languages'])\n",
    "df = df.drop(columns=['production_companies', 'production_countries', 'spoken_languages'])\n",
    "\n",
    "json_features = ['genres']\n",
    "#if 'json_featuresif' in locals():\n",
    "for f in json_features:\n",
    "    df[f] = (df[f]\n",
    "        .apply(eval)\n",
    "        .apply(lambda row : [d['name'] for d in row])\n",
    "        .astype(str)\n",
    "        .apply(eval)\n",
    "        )\n",
    "\n",
    "for f in json_features:\n",
    "    df = df.join(pd.get_dummies(df[f].apply(pd.Series), prefix=f, prefix_sep=\"_\", drop_first=True)).drop(columns=[f])\n",
    "\n",
    "df = df.join(pd.get_dummies(df['original_language'].apply(pd.Series), prefix='original_language', prefix_sep=\"_\", drop_first=True)).drop(columns=['original_language'])"
   ]
  },
  {
   "cell_type": "code",
   "execution_count": 9,
   "metadata": {},
   "outputs": [],
   "source": [
    "# drop columns containing only zeros\n",
    "df = df.drop(columns=['adult', 'video'])\n",
    "# sum columns if they have a duplicate name\n",
    "df = df.groupby(df.columns, axis=1).sum() \n",
    "# drop columns with less than 50 meaninfull entries\n",
    "df = df[df.columns[df.sum()>50]]\n",
    "#df.sum()\n",
    "#df.info()"
   ]
  },
  {
   "cell_type": "code",
   "execution_count": 10,
   "metadata": {},
   "outputs": [
    {
     "output_type": "display_data",
     "data": {
      "text/plain": "<Figure size 432x288 with 1 Axes>",
      "image/svg+xml": "<?xml version=\"1.0\" encoding=\"utf-8\" standalone=\"no\"?>\r\n<!DOCTYPE svg PUBLIC \"-//W3C//DTD SVG 1.1//EN\"\r\n  \"http://www.w3.org/Graphics/SVG/1.1/DTD/svg11.dtd\">\r\n<!-- Created with matplotlib (https://matplotlib.org/) -->\r\n<svg height=\"248.518125pt\" version=\"1.1\" viewBox=\"0 0 381.65 248.518125\" width=\"381.65pt\" xmlns=\"http://www.w3.org/2000/svg\" xmlns:xlink=\"http://www.w3.org/1999/xlink\">\r\n <defs>\r\n  <style type=\"text/css\">\r\n*{stroke-linecap:butt;stroke-linejoin:round;}\r\n  </style>\r\n </defs>\r\n <g id=\"figure_1\">\r\n  <g id=\"patch_1\">\r\n   <path d=\"M -0 248.518125 \r\nL 381.65 248.518125 \r\nL 381.65 0 \r\nL -0 0 \r\nz\r\n\" style=\"fill:none;\"/>\r\n  </g>\r\n  <g id=\"axes_1\">\r\n   <g id=\"patch_2\">\r\n    <path d=\"M 39.65 224.64 \r\nL 374.45 224.64 \r\nL 374.45 7.2 \r\nL 39.65 7.2 \r\nz\r\n\" style=\"fill:#ffffff;\"/>\r\n   </g>\r\n   <g id=\"patch_3\">\r\n    <path clip-path=\"url(#pfa949ba816)\" d=\"M 54.868182 224.64 \r\nL 65.013636 224.64 \r\nL 65.013636 223.652937 \r\nL 54.868182 223.652937 \r\nz\r\n\" style=\"fill:#1f77b4;\"/>\r\n   </g>\r\n   <g id=\"patch_4\">\r\n    <path clip-path=\"url(#pfa949ba816)\" d=\"M 65.013636 224.64 \r\nL 75.159091 224.64 \r\nL 75.159091 222.863287 \r\nL 65.013636 222.863287 \r\nz\r\n\" style=\"fill:#1f77b4;\"/>\r\n   </g>\r\n   <g id=\"patch_5\">\r\n    <path clip-path=\"url(#pfa949ba816)\" d=\"M 75.159091 224.64 \r\nL 85.304545 224.64 \r\nL 85.304545 222.863287 \r\nL 75.159091 222.863287 \r\nz\r\n\" style=\"fill:#1f77b4;\"/>\r\n   </g>\r\n   <g id=\"patch_6\">\r\n    <path clip-path=\"url(#pfa949ba816)\" d=\"M 85.304545 224.64 \r\nL 95.45 224.64 \r\nL 95.45 222.863287 \r\nL 85.304545 222.863287 \r\nz\r\n\" style=\"fill:#1f77b4;\"/>\r\n   </g>\r\n   <g id=\"patch_7\">\r\n    <path clip-path=\"url(#pfa949ba816)\" d=\"M 95.45 224.64 \r\nL 105.595455 224.64 \r\nL 105.595455 223.258112 \r\nL 95.45 223.258112 \r\nz\r\n\" style=\"fill:#1f77b4;\"/>\r\n   </g>\r\n   <g id=\"patch_8\">\r\n    <path clip-path=\"url(#pfa949ba816)\" d=\"M 105.595455 224.64 \r\nL 115.740909 224.64 \r\nL 115.740909 223.652937 \r\nL 105.595455 223.652937 \r\nz\r\n\" style=\"fill:#1f77b4;\"/>\r\n   </g>\r\n   <g id=\"patch_9\">\r\n    <path clip-path=\"url(#pfa949ba816)\" d=\"M 115.740909 224.64 \r\nL 125.886364 224.64 \r\nL 125.886364 223.0607 \r\nL 115.740909 223.0607 \r\nz\r\n\" style=\"fill:#1f77b4;\"/>\r\n   </g>\r\n   <g id=\"patch_10\">\r\n    <path clip-path=\"url(#pfa949ba816)\" d=\"M 125.886364 224.64 \r\nL 136.031818 224.64 \r\nL 136.031818 223.85035 \r\nL 125.886364 223.85035 \r\nz\r\n\" style=\"fill:#1f77b4;\"/>\r\n   </g>\r\n   <g id=\"patch_11\">\r\n    <path clip-path=\"url(#pfa949ba816)\" d=\"M 136.031818 224.64 \r\nL 146.177273 224.64 \r\nL 146.177273 224.047762 \r\nL 136.031818 224.047762 \r\nz\r\n\" style=\"fill:#1f77b4;\"/>\r\n   </g>\r\n   <g id=\"patch_12\">\r\n    <path clip-path=\"url(#pfa949ba816)\" d=\"M 146.177273 224.64 \r\nL 156.322727 224.64 \r\nL 156.322727 224.047762 \r\nL 146.177273 224.047762 \r\nz\r\n\" style=\"fill:#1f77b4;\"/>\r\n   </g>\r\n   <g id=\"patch_13\">\r\n    <path clip-path=\"url(#pfa949ba816)\" d=\"M 156.322727 224.64 \r\nL 166.468182 224.64 \r\nL 166.468182 223.85035 \r\nL 156.322727 223.85035 \r\nz\r\n\" style=\"fill:#1f77b4;\"/>\r\n   </g>\r\n   <g id=\"patch_14\">\r\n    <path clip-path=\"url(#pfa949ba816)\" d=\"M 166.468182 224.64 \r\nL 176.613636 224.64 \r\nL 176.613636 222.468462 \r\nL 166.468182 222.468462 \r\nz\r\n\" style=\"fill:#1f77b4;\"/>\r\n   </g>\r\n   <g id=\"patch_15\">\r\n    <path clip-path=\"url(#pfa949ba816)\" d=\"M 176.613636 224.64 \r\nL 186.759091 224.64 \r\nL 186.759091 220.69175 \r\nL 176.613636 220.69175 \r\nz\r\n\" style=\"fill:#1f77b4;\"/>\r\n   </g>\r\n   <g id=\"patch_16\">\r\n    <path clip-path=\"url(#pfa949ba816)\" d=\"M 186.759091 224.64 \r\nL 196.904545 224.64 \r\nL 196.904545 219.309862 \r\nL 186.759091 219.309862 \r\nz\r\n\" style=\"fill:#1f77b4;\"/>\r\n   </g>\r\n   <g id=\"patch_17\">\r\n    <path clip-path=\"url(#pfa949ba816)\" d=\"M 196.904545 224.64 \r\nL 207.05 224.64 \r\nL 207.05 216.940912 \r\nL 196.904545 216.940912 \r\nz\r\n\" style=\"fill:#1f77b4;\"/>\r\n   </g>\r\n   <g id=\"patch_18\">\r\n    <path clip-path=\"url(#pfa949ba816)\" d=\"M 207.05 224.64 \r\nL 217.195455 224.64 \r\nL 217.195455 215.1642 \r\nL 207.05 215.1642 \r\nz\r\n\" style=\"fill:#1f77b4;\"/>\r\n   </g>\r\n   <g id=\"patch_19\">\r\n    <path clip-path=\"url(#pfa949ba816)\" d=\"M 217.195455 224.64 \r\nL 227.340909 224.64 \r\nL 227.340909 210.4263 \r\nL 217.195455 210.4263 \r\nz\r\n\" style=\"fill:#1f77b4;\"/>\r\n   </g>\r\n   <g id=\"patch_20\">\r\n    <path clip-path=\"url(#pfa949ba816)\" d=\"M 227.340909 224.64 \r\nL 237.486364 224.64 \r\nL 237.486364 204.89875 \r\nL 227.340909 204.89875 \r\nz\r\n\" style=\"fill:#1f77b4;\"/>\r\n   </g>\r\n   <g id=\"patch_21\">\r\n    <path clip-path=\"url(#pfa949ba816)\" d=\"M 237.486364 224.64 \r\nL 247.631818 224.64 \r\nL 247.631818 196.607425 \r\nL 237.486364 196.607425 \r\nz\r\n\" style=\"fill:#1f77b4;\"/>\r\n   </g>\r\n   <g id=\"patch_22\">\r\n    <path clip-path=\"url(#pfa949ba816)\" d=\"M 247.631818 224.64 \r\nL 257.777273 224.64 \r\nL 257.777273 185.552325 \r\nL 247.631818 185.552325 \r\nz\r\n\" style=\"fill:#1f77b4;\"/>\r\n   </g>\r\n   <g id=\"patch_23\">\r\n    <path clip-path=\"url(#pfa949ba816)\" d=\"M 257.777273 224.64 \r\nL 267.922727 224.64 \r\nL 267.922727 162.455062 \r\nL 257.777273 162.455062 \r\nz\r\n\" style=\"fill:#1f77b4;\"/>\r\n   </g>\r\n   <g id=\"patch_24\">\r\n    <path clip-path=\"url(#pfa949ba816)\" d=\"M 267.922727 224.64 \r\nL 278.068182 224.64 \r\nL 278.068182 139.357799 \r\nL 267.922727 139.357799 \r\nz\r\n\" style=\"fill:#1f77b4;\"/>\r\n   </g>\r\n   <g id=\"patch_25\">\r\n    <path clip-path=\"url(#pfa949ba816)\" d=\"M 278.068182 224.64 \r\nL 288.213636 224.64 \r\nL 288.213636 94.742574 \r\nL 278.068182 94.742574 \r\nz\r\n\" style=\"fill:#1f77b4;\"/>\r\n   </g>\r\n   <g id=\"patch_26\">\r\n    <path clip-path=\"url(#pfa949ba816)\" d=\"M 288.213636 224.64 \r\nL 298.359091 224.64 \r\nL 298.359091 72.237549 \r\nL 288.213636 72.237549 \r\nz\r\n\" style=\"fill:#1f77b4;\"/>\r\n   </g>\r\n   <g id=\"patch_27\">\r\n    <path clip-path=\"url(#pfa949ba816)\" d=\"M 298.359091 224.64 \r\nL 308.504545 224.64 \r\nL 308.504545 63.551399 \r\nL 298.359091 63.551399 \r\nz\r\n\" style=\"fill:#1f77b4;\"/>\r\n   </g>\r\n   <g id=\"patch_28\">\r\n    <path clip-path=\"url(#pfa949ba816)\" d=\"M 308.504545 224.64 \r\nL 318.65 224.64 \r\nL 318.65 76.975449 \r\nL 308.504545 76.975449 \r\nz\r\n\" style=\"fill:#1f77b4;\"/>\r\n   </g>\r\n   <g id=\"patch_29\">\r\n    <path clip-path=\"url(#pfa949ba816)\" d=\"M 318.65 224.64 \r\nL 328.795455 224.64 \r\nL 328.795455 116.655362 \r\nL 318.65 116.655362 \r\nz\r\n\" style=\"fill:#1f77b4;\"/>\r\n   </g>\r\n   <g id=\"patch_30\">\r\n    <path clip-path=\"url(#pfa949ba816)\" d=\"M 328.795455 224.64 \r\nL 338.940909 224.64 \r\nL 338.940909 173.510162 \r\nL 328.795455 173.510162 \r\nz\r\n\" style=\"fill:#1f77b4;\"/>\r\n   </g>\r\n   <g id=\"patch_31\">\r\n    <path clip-path=\"url(#pfa949ba816)\" d=\"M 338.940909 224.64 \r\nL 349.086364 224.64 \r\nL 349.086364 205.096162 \r\nL 338.940909 205.096162 \r\nz\r\n\" style=\"fill:#1f77b4;\"/>\r\n   </g>\r\n   <g id=\"patch_32\">\r\n    <path clip-path=\"url(#pfa949ba816)\" d=\"M 349.086364 224.64 \r\nL 359.231818 224.64 \r\nL 359.231818 223.258112 \r\nL 349.086364 223.258112 \r\nz\r\n\" style=\"fill:#1f77b4;\"/>\r\n   </g>\r\n   <g id=\"patch_33\">\r\n    <path clip-path=\"url(#pfa949ba816)\" d=\"M 54.868182 224.64 \r\nL 64.083974 224.64 \r\nL 64.083974 222.863287 \r\nL 54.868182 222.863287 \r\nz\r\n\" style=\"fill:#ff7f0e;\"/>\r\n   </g>\r\n   <g id=\"patch_34\">\r\n    <path clip-path=\"url(#pfa949ba816)\" d=\"M 64.083974 224.64 \r\nL 73.299766 224.64 \r\nL 73.299766 223.652937 \r\nL 64.083974 223.652937 \r\nz\r\n\" style=\"fill:#ff7f0e;\"/>\r\n   </g>\r\n   <g id=\"patch_35\">\r\n    <path clip-path=\"url(#pfa949ba816)\" d=\"M 73.299766 224.64 \r\nL 82.515558 224.64 \r\nL 82.515558 222.665875 \r\nL 73.299766 222.665875 \r\nz\r\n\" style=\"fill:#ff7f0e;\"/>\r\n   </g>\r\n   <g id=\"patch_36\">\r\n    <path clip-path=\"url(#pfa949ba816)\" d=\"M 82.515558 224.64 \r\nL 91.73135 224.64 \r\nL 91.73135 223.258112 \r\nL 82.515558 223.258112 \r\nz\r\n\" style=\"fill:#ff7f0e;\"/>\r\n   </g>\r\n   <g id=\"patch_37\">\r\n    <path clip-path=\"url(#pfa949ba816)\" d=\"M 91.73135 224.64 \r\nL 100.947142 224.64 \r\nL 100.947142 224.047762 \r\nL 91.73135 224.047762 \r\nz\r\n\" style=\"fill:#ff7f0e;\"/>\r\n   </g>\r\n   <g id=\"patch_38\">\r\n    <path clip-path=\"url(#pfa949ba816)\" d=\"M 100.947142 224.64 \r\nL 110.162934 224.64 \r\nL 110.162934 223.85035 \r\nL 100.947142 223.85035 \r\nz\r\n\" style=\"fill:#ff7f0e;\"/>\r\n   </g>\r\n   <g id=\"patch_39\">\r\n    <path clip-path=\"url(#pfa949ba816)\" d=\"M 110.162934 224.64 \r\nL 119.378727 224.64 \r\nL 119.378727 224.245175 \r\nL 110.162934 224.245175 \r\nz\r\n\" style=\"fill:#ff7f0e;\"/>\r\n   </g>\r\n   <g id=\"patch_40\">\r\n    <path clip-path=\"url(#pfa949ba816)\" d=\"M 119.378727 224.64 \r\nL 128.594519 224.64 \r\nL 128.594519 224.047762 \r\nL 119.378727 224.047762 \r\nz\r\n\" style=\"fill:#ff7f0e;\"/>\r\n   </g>\r\n   <g id=\"patch_41\">\r\n    <path clip-path=\"url(#pfa949ba816)\" d=\"M 128.594519 224.64 \r\nL 137.810311 224.64 \r\nL 137.810311 223.652937 \r\nL 128.594519 223.652937 \r\nz\r\n\" style=\"fill:#ff7f0e;\"/>\r\n   </g>\r\n   <g id=\"patch_42\">\r\n    <path clip-path=\"url(#pfa949ba816)\" d=\"M 137.810311 224.64 \r\nL 147.026103 224.64 \r\nL 147.026103 223.652937 \r\nL 137.810311 223.652937 \r\nz\r\n\" style=\"fill:#ff7f0e;\"/>\r\n   </g>\r\n   <g id=\"patch_43\">\r\n    <path clip-path=\"url(#pfa949ba816)\" d=\"M 147.026103 224.64 \r\nL 156.241895 224.64 \r\nL 156.241895 224.64 \r\nL 147.026103 224.64 \r\nz\r\n\" style=\"fill:#ff7f0e;\"/>\r\n   </g>\r\n   <g id=\"patch_44\">\r\n    <path clip-path=\"url(#pfa949ba816)\" d=\"M 156.241895 224.64 \r\nL 165.457687 224.64 \r\nL 165.457687 224.442587 \r\nL 156.241895 224.442587 \r\nz\r\n\" style=\"fill:#ff7f0e;\"/>\r\n   </g>\r\n   <g id=\"patch_45\">\r\n    <path clip-path=\"url(#pfa949ba816)\" d=\"M 165.457687 224.64 \r\nL 174.673479 224.64 \r\nL 174.673479 224.442587 \r\nL 165.457687 224.442587 \r\nz\r\n\" style=\"fill:#ff7f0e;\"/>\r\n   </g>\r\n   <g id=\"patch_46\">\r\n    <path clip-path=\"url(#pfa949ba816)\" d=\"M 174.673479 224.64 \r\nL 183.889271 224.64 \r\nL 183.889271 223.455525 \r\nL 174.673479 223.455525 \r\nz\r\n\" style=\"fill:#ff7f0e;\"/>\r\n   </g>\r\n   <g id=\"patch_47\">\r\n    <path clip-path=\"url(#pfa949ba816)\" d=\"M 183.889271 224.64 \r\nL 193.105064 224.64 \r\nL 193.105064 222.665875 \r\nL 183.889271 222.665875 \r\nz\r\n\" style=\"fill:#ff7f0e;\"/>\r\n   </g>\r\n   <g id=\"patch_48\">\r\n    <path clip-path=\"url(#pfa949ba816)\" d=\"M 193.105064 224.64 \r\nL 202.320856 224.64 \r\nL 202.320856 222.863287 \r\nL 193.105064 222.863287 \r\nz\r\n\" style=\"fill:#ff7f0e;\"/>\r\n   </g>\r\n   <g id=\"patch_49\">\r\n    <path clip-path=\"url(#pfa949ba816)\" d=\"M 202.320856 224.64 \r\nL 211.536648 224.64 \r\nL 211.536648 221.678812 \r\nL 202.320856 221.678812 \r\nz\r\n\" style=\"fill:#ff7f0e;\"/>\r\n   </g>\r\n   <g id=\"patch_50\">\r\n    <path clip-path=\"url(#pfa949ba816)\" d=\"M 211.536648 224.64 \r\nL 220.75244 224.64 \r\nL 220.75244 216.7435 \r\nL 211.536648 216.7435 \r\nz\r\n\" style=\"fill:#ff7f0e;\"/>\r\n   </g>\r\n   <g id=\"patch_51\">\r\n    <path clip-path=\"url(#pfa949ba816)\" d=\"M 220.75244 224.64 \r\nL 229.968232 224.64 \r\nL 229.968232 213.5849 \r\nL 220.75244 213.5849 \r\nz\r\n\" style=\"fill:#ff7f0e;\"/>\r\n   </g>\r\n   <g id=\"patch_52\">\r\n    <path clip-path=\"url(#pfa949ba816)\" d=\"M 229.968232 224.64 \r\nL 239.184024 224.64 \r\nL 239.184024 205.6884 \r\nL 229.968232 205.6884 \r\nz\r\n\" style=\"fill:#ff7f0e;\"/>\r\n   </g>\r\n   <g id=\"patch_53\">\r\n    <path clip-path=\"url(#pfa949ba816)\" d=\"M 239.184024 224.64 \r\nL 248.399816 224.64 \r\nL 248.399816 191.277287 \r\nL 239.184024 191.277287 \r\nz\r\n\" style=\"fill:#ff7f0e;\"/>\r\n   </g>\r\n   <g id=\"patch_54\">\r\n    <path clip-path=\"url(#pfa949ba816)\" d=\"M 248.399816 224.64 \r\nL 257.615608 224.64 \r\nL 257.615608 192.659175 \r\nL 248.399816 192.659175 \r\nz\r\n\" style=\"fill:#ff7f0e;\"/>\r\n   </g>\r\n   <g id=\"patch_55\">\r\n    <path clip-path=\"url(#pfa949ba816)\" d=\"M 257.615608 224.64 \r\nL 266.8314 224.64 \r\nL 266.8314 144.095699 \r\nL 257.615608 144.095699 \r\nz\r\n\" style=\"fill:#ff7f0e;\"/>\r\n   </g>\r\n   <g id=\"patch_56\">\r\n    <path clip-path=\"url(#pfa949ba816)\" d=\"M 266.8314 224.64 \r\nL 276.047193 224.64 \r\nL 276.047193 101.652011 \r\nL 266.8314 101.652011 \r\nz\r\n\" style=\"fill:#ff7f0e;\"/>\r\n   </g>\r\n   <g id=\"patch_57\">\r\n    <path clip-path=\"url(#pfa949ba816)\" d=\"M 276.047193 224.64 \r\nL 285.262985 224.64 \r\nL 285.262985 71.645311 \r\nL 276.047193 71.645311 \r\nz\r\n\" style=\"fill:#ff7f0e;\"/>\r\n   </g>\r\n   <g id=\"patch_58\">\r\n    <path clip-path=\"url(#pfa949ba816)\" d=\"M 285.262985 224.64 \r\nL 294.478777 224.64 \r\nL 294.478777 17.554286 \r\nL 285.262985 17.554286 \r\nz\r\n\" style=\"fill:#ff7f0e;\"/>\r\n   </g>\r\n   <g id=\"patch_59\">\r\n    <path clip-path=\"url(#pfa949ba816)\" d=\"M 294.478777 224.64 \r\nL 303.694569 224.64 \r\nL 303.694569 40.059311 \r\nL 294.478777 40.059311 \r\nz\r\n\" style=\"fill:#ff7f0e;\"/>\r\n   </g>\r\n   <g id=\"patch_60\">\r\n    <path clip-path=\"url(#pfa949ba816)\" d=\"M 303.694569 224.64 \r\nL 312.910361 224.64 \r\nL 312.910361 97.703761 \r\nL 303.694569 97.703761 \r\nz\r\n\" style=\"fill:#ff7f0e;\"/>\r\n   </g>\r\n   <g id=\"patch_61\">\r\n    <path clip-path=\"url(#pfa949ba816)\" d=\"M 312.910361 224.64 \r\nL 322.126153 224.64 \r\nL 322.126153 171.536037 \r\nL 312.910361 171.536037 \r\nz\r\n\" style=\"fill:#ff7f0e;\"/>\r\n   </g>\r\n   <g id=\"patch_62\">\r\n    <path clip-path=\"url(#pfa949ba816)\" d=\"M 322.126153 224.64 \r\nL 331.341945 224.64 \r\nL 331.341945 213.5849 \r\nL 322.126153 213.5849 \r\nz\r\n\" style=\"fill:#ff7f0e;\"/>\r\n   </g>\r\n   <g id=\"matplotlib.axis_1\">\r\n    <g id=\"xtick_1\">\r\n     <g id=\"line2d_1\">\r\n      <path clip-path=\"url(#pfa949ba816)\" d=\"M 54.868182 224.64 \r\nL 54.868182 7.2 \r\n\" style=\"fill:none;stroke:#b0b0b0;stroke-linecap:square;stroke-width:0.8;\"/>\r\n     </g>\r\n     <g id=\"line2d_2\">\r\n      <defs>\r\n       <path d=\"M 0 0 \r\nL 0 3.5 \r\n\" id=\"m1f2c88c70f\" style=\"stroke:#000000;stroke-width:0.8;\"/>\r\n      </defs>\r\n      <g>\r\n       <use style=\"stroke:#000000;stroke-width:0.8;\" x=\"54.868182\" xlink:href=\"#m1f2c88c70f\" y=\"224.64\"/>\r\n      </g>\r\n     </g>\r\n     <g id=\"text_1\">\r\n      <!-- 0 -->\r\n      <defs>\r\n       <path d=\"M 31.78125 66.40625 \r\nQ 24.171875 66.40625 20.328125 58.90625 \r\nQ 16.5 51.421875 16.5 36.375 \r\nQ 16.5 21.390625 20.328125 13.890625 \r\nQ 24.171875 6.390625 31.78125 6.390625 \r\nQ 39.453125 6.390625 43.28125 13.890625 \r\nQ 47.125 21.390625 47.125 36.375 \r\nQ 47.125 51.421875 43.28125 58.90625 \r\nQ 39.453125 66.40625 31.78125 66.40625 \r\nz\r\nM 31.78125 74.21875 \r\nQ 44.046875 74.21875 50.515625 64.515625 \r\nQ 56.984375 54.828125 56.984375 36.375 \r\nQ 56.984375 17.96875 50.515625 8.265625 \r\nQ 44.046875 -1.421875 31.78125 -1.421875 \r\nQ 19.53125 -1.421875 13.0625 8.265625 \r\nQ 6.59375 17.96875 6.59375 36.375 \r\nQ 6.59375 54.828125 13.0625 64.515625 \r\nQ 19.53125 74.21875 31.78125 74.21875 \r\nz\r\n\" id=\"DejaVuSans-48\"/>\r\n      </defs>\r\n      <g transform=\"translate(51.686932 239.238437)scale(0.1 -0.1)\">\r\n       <use xlink:href=\"#DejaVuSans-48\"/>\r\n      </g>\r\n     </g>\r\n    </g>\r\n    <g id=\"xtick_2\">\r\n     <g id=\"line2d_3\">\r\n      <path clip-path=\"url(#pfa949ba816)\" d=\"M 124.841409 224.64 \r\nL 124.841409 7.2 \r\n\" style=\"fill:none;stroke:#b0b0b0;stroke-linecap:square;stroke-width:0.8;\"/>\r\n     </g>\r\n     <g id=\"line2d_4\">\r\n      <g>\r\n       <use style=\"stroke:#000000;stroke-width:0.8;\" x=\"124.841409\" xlink:href=\"#m1f2c88c70f\" y=\"224.64\"/>\r\n      </g>\r\n     </g>\r\n     <g id=\"text_2\">\r\n      <!-- 5 -->\r\n      <defs>\r\n       <path d=\"M 10.796875 72.90625 \r\nL 49.515625 72.90625 \r\nL 49.515625 64.59375 \r\nL 19.828125 64.59375 \r\nL 19.828125 46.734375 \r\nQ 21.96875 47.46875 24.109375 47.828125 \r\nQ 26.265625 48.1875 28.421875 48.1875 \r\nQ 40.625 48.1875 47.75 41.5 \r\nQ 54.890625 34.8125 54.890625 23.390625 \r\nQ 54.890625 11.625 47.5625 5.09375 \r\nQ 40.234375 -1.421875 26.90625 -1.421875 \r\nQ 22.3125 -1.421875 17.546875 -0.640625 \r\nQ 12.796875 0.140625 7.71875 1.703125 \r\nL 7.71875 11.625 \r\nQ 12.109375 9.234375 16.796875 8.0625 \r\nQ 21.484375 6.890625 26.703125 6.890625 \r\nQ 35.15625 6.890625 40.078125 11.328125 \r\nQ 45.015625 15.765625 45.015625 23.390625 \r\nQ 45.015625 31 40.078125 35.4375 \r\nQ 35.15625 39.890625 26.703125 39.890625 \r\nQ 22.75 39.890625 18.8125 39.015625 \r\nQ 14.890625 38.140625 10.796875 36.28125 \r\nz\r\n\" id=\"DejaVuSans-53\"/>\r\n      </defs>\r\n      <g transform=\"translate(121.660159 239.238437)scale(0.1 -0.1)\">\r\n       <use xlink:href=\"#DejaVuSans-53\"/>\r\n      </g>\r\n     </g>\r\n    </g>\r\n    <g id=\"xtick_3\">\r\n     <g id=\"line2d_5\">\r\n      <path clip-path=\"url(#pfa949ba816)\" d=\"M 194.814637 224.64 \r\nL 194.814637 7.2 \r\n\" style=\"fill:none;stroke:#b0b0b0;stroke-linecap:square;stroke-width:0.8;\"/>\r\n     </g>\r\n     <g id=\"line2d_6\">\r\n      <g>\r\n       <use style=\"stroke:#000000;stroke-width:0.8;\" x=\"194.814637\" xlink:href=\"#m1f2c88c70f\" y=\"224.64\"/>\r\n      </g>\r\n     </g>\r\n     <g id=\"text_3\">\r\n      <!-- 10 -->\r\n      <defs>\r\n       <path d=\"M 12.40625 8.296875 \r\nL 28.515625 8.296875 \r\nL 28.515625 63.921875 \r\nL 10.984375 60.40625 \r\nL 10.984375 69.390625 \r\nL 28.421875 72.90625 \r\nL 38.28125 72.90625 \r\nL 38.28125 8.296875 \r\nL 54.390625 8.296875 \r\nL 54.390625 0 \r\nL 12.40625 0 \r\nz\r\n\" id=\"DejaVuSans-49\"/>\r\n      </defs>\r\n      <g transform=\"translate(188.452137 239.238437)scale(0.1 -0.1)\">\r\n       <use xlink:href=\"#DejaVuSans-49\"/>\r\n       <use x=\"63.623047\" xlink:href=\"#DejaVuSans-48\"/>\r\n      </g>\r\n     </g>\r\n    </g>\r\n    <g id=\"xtick_4\">\r\n     <g id=\"line2d_7\">\r\n      <path clip-path=\"url(#pfa949ba816)\" d=\"M 264.787864 224.64 \r\nL 264.787864 7.2 \r\n\" style=\"fill:none;stroke:#b0b0b0;stroke-linecap:square;stroke-width:0.8;\"/>\r\n     </g>\r\n     <g id=\"line2d_8\">\r\n      <g>\r\n       <use style=\"stroke:#000000;stroke-width:0.8;\" x=\"264.787864\" xlink:href=\"#m1f2c88c70f\" y=\"224.64\"/>\r\n      </g>\r\n     </g>\r\n     <g id=\"text_4\">\r\n      <!-- 15 -->\r\n      <g transform=\"translate(258.425364 239.238437)scale(0.1 -0.1)\">\r\n       <use xlink:href=\"#DejaVuSans-49\"/>\r\n       <use x=\"63.623047\" xlink:href=\"#DejaVuSans-53\"/>\r\n      </g>\r\n     </g>\r\n    </g>\r\n    <g id=\"xtick_5\">\r\n     <g id=\"line2d_9\">\r\n      <path clip-path=\"url(#pfa949ba816)\" d=\"M 334.761092 224.64 \r\nL 334.761092 7.2 \r\n\" style=\"fill:none;stroke:#b0b0b0;stroke-linecap:square;stroke-width:0.8;\"/>\r\n     </g>\r\n     <g id=\"line2d_10\">\r\n      <g>\r\n       <use style=\"stroke:#000000;stroke-width:0.8;\" x=\"334.761092\" xlink:href=\"#m1f2c88c70f\" y=\"224.64\"/>\r\n      </g>\r\n     </g>\r\n     <g id=\"text_5\">\r\n      <!-- 20 -->\r\n      <defs>\r\n       <path d=\"M 19.1875 8.296875 \r\nL 53.609375 8.296875 \r\nL 53.609375 0 \r\nL 7.328125 0 \r\nL 7.328125 8.296875 \r\nQ 12.9375 14.109375 22.625 23.890625 \r\nQ 32.328125 33.6875 34.8125 36.53125 \r\nQ 39.546875 41.84375 41.421875 45.53125 \r\nQ 43.3125 49.21875 43.3125 52.78125 \r\nQ 43.3125 58.59375 39.234375 62.25 \r\nQ 35.15625 65.921875 28.609375 65.921875 \r\nQ 23.96875 65.921875 18.8125 64.3125 \r\nQ 13.671875 62.703125 7.8125 59.421875 \r\nL 7.8125 69.390625 \r\nQ 13.765625 71.78125 18.9375 73 \r\nQ 24.125 74.21875 28.421875 74.21875 \r\nQ 39.75 74.21875 46.484375 68.546875 \r\nQ 53.21875 62.890625 53.21875 53.421875 \r\nQ 53.21875 48.921875 51.53125 44.890625 \r\nQ 49.859375 40.875 45.40625 35.40625 \r\nQ 44.1875 33.984375 37.640625 27.21875 \r\nQ 31.109375 20.453125 19.1875 8.296875 \r\nz\r\n\" id=\"DejaVuSans-50\"/>\r\n      </defs>\r\n      <g transform=\"translate(328.398592 239.238437)scale(0.1 -0.1)\">\r\n       <use xlink:href=\"#DejaVuSans-50\"/>\r\n       <use x=\"63.623047\" xlink:href=\"#DejaVuSans-48\"/>\r\n      </g>\r\n     </g>\r\n    </g>\r\n   </g>\r\n   <g id=\"matplotlib.axis_2\">\r\n    <g id=\"ytick_1\">\r\n     <g id=\"line2d_11\">\r\n      <path clip-path=\"url(#pfa949ba816)\" d=\"M 39.65 224.64 \r\nL 374.45 224.64 \r\n\" style=\"fill:none;stroke:#b0b0b0;stroke-linecap:square;stroke-width:0.8;\"/>\r\n     </g>\r\n     <g id=\"line2d_12\">\r\n      <defs>\r\n       <path d=\"M 0 0 \r\nL -3.5 0 \r\n\" id=\"m7358476cb4\" style=\"stroke:#000000;stroke-width:0.8;\"/>\r\n      </defs>\r\n      <g>\r\n       <use style=\"stroke:#000000;stroke-width:0.8;\" x=\"39.65\" xlink:href=\"#m7358476cb4\" y=\"224.64\"/>\r\n      </g>\r\n     </g>\r\n     <g id=\"text_6\">\r\n      <!-- 0 -->\r\n      <g transform=\"translate(26.2875 228.439219)scale(0.1 -0.1)\">\r\n       <use xlink:href=\"#DejaVuSans-48\"/>\r\n      </g>\r\n     </g>\r\n    </g>\r\n    <g id=\"ytick_2\">\r\n     <g id=\"line2d_13\">\r\n      <path clip-path=\"url(#pfa949ba816)\" d=\"M 39.65 185.1575 \r\nL 374.45 185.1575 \r\n\" style=\"fill:none;stroke:#b0b0b0;stroke-linecap:square;stroke-width:0.8;\"/>\r\n     </g>\r\n     <g id=\"line2d_14\">\r\n      <g>\r\n       <use style=\"stroke:#000000;stroke-width:0.8;\" x=\"39.65\" xlink:href=\"#m7358476cb4\" y=\"185.1575\"/>\r\n      </g>\r\n     </g>\r\n     <g id=\"text_7\">\r\n      <!-- 200 -->\r\n      <g transform=\"translate(13.5625 188.956718)scale(0.1 -0.1)\">\r\n       <use xlink:href=\"#DejaVuSans-50\"/>\r\n       <use x=\"63.623047\" xlink:href=\"#DejaVuSans-48\"/>\r\n       <use x=\"127.246094\" xlink:href=\"#DejaVuSans-48\"/>\r\n      </g>\r\n     </g>\r\n    </g>\r\n    <g id=\"ytick_3\">\r\n     <g id=\"line2d_15\">\r\n      <path clip-path=\"url(#pfa949ba816)\" d=\"M 39.65 145.674999 \r\nL 374.45 145.674999 \r\n\" style=\"fill:none;stroke:#b0b0b0;stroke-linecap:square;stroke-width:0.8;\"/>\r\n     </g>\r\n     <g id=\"line2d_16\">\r\n      <g>\r\n       <use style=\"stroke:#000000;stroke-width:0.8;\" x=\"39.65\" xlink:href=\"#m7358476cb4\" y=\"145.674999\"/>\r\n      </g>\r\n     </g>\r\n     <g id=\"text_8\">\r\n      <!-- 400 -->\r\n      <defs>\r\n       <path d=\"M 37.796875 64.3125 \r\nL 12.890625 25.390625 \r\nL 37.796875 25.390625 \r\nz\r\nM 35.203125 72.90625 \r\nL 47.609375 72.90625 \r\nL 47.609375 25.390625 \r\nL 58.015625 25.390625 \r\nL 58.015625 17.1875 \r\nL 47.609375 17.1875 \r\nL 47.609375 0 \r\nL 37.796875 0 \r\nL 37.796875 17.1875 \r\nL 4.890625 17.1875 \r\nL 4.890625 26.703125 \r\nz\r\n\" id=\"DejaVuSans-52\"/>\r\n      </defs>\r\n      <g transform=\"translate(13.5625 149.474218)scale(0.1 -0.1)\">\r\n       <use xlink:href=\"#DejaVuSans-52\"/>\r\n       <use x=\"63.623047\" xlink:href=\"#DejaVuSans-48\"/>\r\n       <use x=\"127.246094\" xlink:href=\"#DejaVuSans-48\"/>\r\n      </g>\r\n     </g>\r\n    </g>\r\n    <g id=\"ytick_4\">\r\n     <g id=\"line2d_17\">\r\n      <path clip-path=\"url(#pfa949ba816)\" d=\"M 39.65 106.192499 \r\nL 374.45 106.192499 \r\n\" style=\"fill:none;stroke:#b0b0b0;stroke-linecap:square;stroke-width:0.8;\"/>\r\n     </g>\r\n     <g id=\"line2d_18\">\r\n      <g>\r\n       <use style=\"stroke:#000000;stroke-width:0.8;\" x=\"39.65\" xlink:href=\"#m7358476cb4\" y=\"106.192499\"/>\r\n      </g>\r\n     </g>\r\n     <g id=\"text_9\">\r\n      <!-- 600 -->\r\n      <defs>\r\n       <path d=\"M 33.015625 40.375 \r\nQ 26.375 40.375 22.484375 35.828125 \r\nQ 18.609375 31.296875 18.609375 23.390625 \r\nQ 18.609375 15.53125 22.484375 10.953125 \r\nQ 26.375 6.390625 33.015625 6.390625 \r\nQ 39.65625 6.390625 43.53125 10.953125 \r\nQ 47.40625 15.53125 47.40625 23.390625 \r\nQ 47.40625 31.296875 43.53125 35.828125 \r\nQ 39.65625 40.375 33.015625 40.375 \r\nz\r\nM 52.59375 71.296875 \r\nL 52.59375 62.3125 \r\nQ 48.875 64.0625 45.09375 64.984375 \r\nQ 41.3125 65.921875 37.59375 65.921875 \r\nQ 27.828125 65.921875 22.671875 59.328125 \r\nQ 17.53125 52.734375 16.796875 39.40625 \r\nQ 19.671875 43.65625 24.015625 45.921875 \r\nQ 28.375 48.1875 33.59375 48.1875 \r\nQ 44.578125 48.1875 50.953125 41.515625 \r\nQ 57.328125 34.859375 57.328125 23.390625 \r\nQ 57.328125 12.15625 50.6875 5.359375 \r\nQ 44.046875 -1.421875 33.015625 -1.421875 \r\nQ 20.359375 -1.421875 13.671875 8.265625 \r\nQ 6.984375 17.96875 6.984375 36.375 \r\nQ 6.984375 53.65625 15.1875 63.9375 \r\nQ 23.390625 74.21875 37.203125 74.21875 \r\nQ 40.921875 74.21875 44.703125 73.484375 \r\nQ 48.484375 72.75 52.59375 71.296875 \r\nz\r\n\" id=\"DejaVuSans-54\"/>\r\n      </defs>\r\n      <g transform=\"translate(13.5625 109.991718)scale(0.1 -0.1)\">\r\n       <use xlink:href=\"#DejaVuSans-54\"/>\r\n       <use x=\"63.623047\" xlink:href=\"#DejaVuSans-48\"/>\r\n       <use x=\"127.246094\" xlink:href=\"#DejaVuSans-48\"/>\r\n      </g>\r\n     </g>\r\n    </g>\r\n    <g id=\"ytick_5\">\r\n     <g id=\"line2d_19\">\r\n      <path clip-path=\"url(#pfa949ba816)\" d=\"M 39.65 66.709999 \r\nL 374.45 66.709999 \r\n\" style=\"fill:none;stroke:#b0b0b0;stroke-linecap:square;stroke-width:0.8;\"/>\r\n     </g>\r\n     <g id=\"line2d_20\">\r\n      <g>\r\n       <use style=\"stroke:#000000;stroke-width:0.8;\" x=\"39.65\" xlink:href=\"#m7358476cb4\" y=\"66.709999\"/>\r\n      </g>\r\n     </g>\r\n     <g id=\"text_10\">\r\n      <!-- 800 -->\r\n      <defs>\r\n       <path d=\"M 31.78125 34.625 \r\nQ 24.75 34.625 20.71875 30.859375 \r\nQ 16.703125 27.09375 16.703125 20.515625 \r\nQ 16.703125 13.921875 20.71875 10.15625 \r\nQ 24.75 6.390625 31.78125 6.390625 \r\nQ 38.8125 6.390625 42.859375 10.171875 \r\nQ 46.921875 13.96875 46.921875 20.515625 \r\nQ 46.921875 27.09375 42.890625 30.859375 \r\nQ 38.875 34.625 31.78125 34.625 \r\nz\r\nM 21.921875 38.8125 \r\nQ 15.578125 40.375 12.03125 44.71875 \r\nQ 8.5 49.078125 8.5 55.328125 \r\nQ 8.5 64.0625 14.71875 69.140625 \r\nQ 20.953125 74.21875 31.78125 74.21875 \r\nQ 42.671875 74.21875 48.875 69.140625 \r\nQ 55.078125 64.0625 55.078125 55.328125 \r\nQ 55.078125 49.078125 51.53125 44.71875 \r\nQ 48 40.375 41.703125 38.8125 \r\nQ 48.828125 37.15625 52.796875 32.3125 \r\nQ 56.78125 27.484375 56.78125 20.515625 \r\nQ 56.78125 9.90625 50.3125 4.234375 \r\nQ 43.84375 -1.421875 31.78125 -1.421875 \r\nQ 19.734375 -1.421875 13.25 4.234375 \r\nQ 6.78125 9.90625 6.78125 20.515625 \r\nQ 6.78125 27.484375 10.78125 32.3125 \r\nQ 14.796875 37.15625 21.921875 38.8125 \r\nz\r\nM 18.3125 54.390625 \r\nQ 18.3125 48.734375 21.84375 45.5625 \r\nQ 25.390625 42.390625 31.78125 42.390625 \r\nQ 38.140625 42.390625 41.71875 45.5625 \r\nQ 45.3125 48.734375 45.3125 54.390625 \r\nQ 45.3125 60.0625 41.71875 63.234375 \r\nQ 38.140625 66.40625 31.78125 66.40625 \r\nQ 25.390625 66.40625 21.84375 63.234375 \r\nQ 18.3125 60.0625 18.3125 54.390625 \r\nz\r\n\" id=\"DejaVuSans-56\"/>\r\n      </defs>\r\n      <g transform=\"translate(13.5625 70.509217)scale(0.1 -0.1)\">\r\n       <use xlink:href=\"#DejaVuSans-56\"/>\r\n       <use x=\"63.623047\" xlink:href=\"#DejaVuSans-48\"/>\r\n       <use x=\"127.246094\" xlink:href=\"#DejaVuSans-48\"/>\r\n      </g>\r\n     </g>\r\n    </g>\r\n    <g id=\"ytick_6\">\r\n     <g id=\"line2d_21\">\r\n      <path clip-path=\"url(#pfa949ba816)\" d=\"M 39.65 27.227498 \r\nL 374.45 27.227498 \r\n\" style=\"fill:none;stroke:#b0b0b0;stroke-linecap:square;stroke-width:0.8;\"/>\r\n     </g>\r\n     <g id=\"line2d_22\">\r\n      <g>\r\n       <use style=\"stroke:#000000;stroke-width:0.8;\" x=\"39.65\" xlink:href=\"#m7358476cb4\" y=\"27.227498\"/>\r\n      </g>\r\n     </g>\r\n     <g id=\"text_11\">\r\n      <!-- 1000 -->\r\n      <g transform=\"translate(7.2 31.026717)scale(0.1 -0.1)\">\r\n       <use xlink:href=\"#DejaVuSans-49\"/>\r\n       <use x=\"63.623047\" xlink:href=\"#DejaVuSans-48\"/>\r\n       <use x=\"127.246094\" xlink:href=\"#DejaVuSans-48\"/>\r\n       <use x=\"190.869141\" xlink:href=\"#DejaVuSans-48\"/>\r\n      </g>\r\n     </g>\r\n    </g>\r\n   </g>\r\n   <g id=\"patch_63\">\r\n    <path d=\"M 39.65 224.64 \r\nL 39.65 7.2 \r\n\" style=\"fill:none;stroke:#000000;stroke-linecap:square;stroke-linejoin:miter;stroke-width:0.8;\"/>\r\n   </g>\r\n   <g id=\"patch_64\">\r\n    <path d=\"M 374.45 224.64 \r\nL 374.45 7.2 \r\n\" style=\"fill:none;stroke:#000000;stroke-linecap:square;stroke-linejoin:miter;stroke-width:0.8;\"/>\r\n   </g>\r\n   <g id=\"patch_65\">\r\n    <path d=\"M 39.65 224.64 \r\nL 374.45 224.64 \r\n\" style=\"fill:none;stroke:#000000;stroke-linecap:square;stroke-linejoin:miter;stroke-width:0.8;\"/>\r\n   </g>\r\n   <g id=\"patch_66\">\r\n    <path d=\"M 39.65 7.2 \r\nL 374.45 7.2 \r\n\" style=\"fill:none;stroke:#000000;stroke-linecap:square;stroke-linejoin:miter;stroke-width:0.8;\"/>\r\n   </g>\r\n  </g>\r\n </g>\r\n <defs>\r\n  <clipPath id=\"pfa949ba816\">\r\n   <rect height=\"217.44\" width=\"334.8\" x=\"39.65\" y=\"7.2\"/>\r\n  </clipPath>\r\n </defs>\r\n</svg>\r\n",
      "image/png": "[encoded data removed]"
     },
     "metadata": {
      "needs_background": "light"
     }
    }
   ],
   "source": [
    "np.log(df['revenue']).hist(bins=30)\n",
    "df['revenue'] = np.log(df['revenue'])\n",
    "np.log(df['budget']).hist(bins=30)\n",
    "df['budget']= np.log(df['budget'])"
   ]
  },
  {
   "cell_type": "code",
   "execution_count": 11,
   "metadata": {},
   "outputs": [
    {
     "output_type": "execute_result",
     "data": {
      "text/plain": [
       "<class 'statsmodels.iolib.summary.Summary'>\n",
       "\"\"\"\n",
       "                            OLS Regression Results                            \n",
       "==============================================================================\n",
       "Dep. Variable:                revenue   R-squared:                       0.561\n",
       "Model:                            OLS   Adj. R-squared:                  0.559\n",
       "Method:                 Least Squares   F-statistic:                     142.1\n",
       "Date:                Fri, 05 Feb 2021   Prob (F-statistic):               0.00\n",
       "Time:                        21:32:38   Log-Likelihood:                -10599.\n",
       "No. Observations:                5376   AIC:                         2.125e+04\n",
       "Df Residuals:                    5348   BIC:                         2.144e+04\n",
       "Df Model:                          27                                         \n",
       "Covariance Type:                  HC2                                         \n",
       "==========================================================================================\n",
       "                             coef    std err          z      P>|z|      [0.025      0.975]\n",
       "------------------------------------------------------------------------------------------\n",
       "const                     40.7531      4.441      9.177      0.000      32.049      49.457\n",
       "belongs_to_collection      1.0669      0.054     19.725      0.000       0.961       1.173\n",
       "budget                     0.8475      0.033     25.972      0.000       0.784       0.912\n",
       "genres_Adventure          -0.0333      0.067     -0.498      0.619      -0.164       0.098\n",
       "genres_Animation           0.2884      0.103      2.797      0.005       0.086       0.490\n",
       "genres_Comedy              0.1403      0.065      2.143      0.032       0.012       0.269\n",
       "genres_Crime              -0.0052      0.074     -0.071      0.943      -0.149       0.139\n",
       "genres_Documentary         0.0256      0.370      0.069      0.945      -0.700       0.751\n",
       "genres_Drama              -0.2302      0.064     -3.580      0.000      -0.356      -0.104\n",
       "genres_Family              0.2532      0.087      2.921      0.003       0.083       0.423\n",
       "genres_Fantasy            -0.0560      0.072     -0.776      0.438      -0.197       0.085\n",
       "genres_History            -0.0886      0.135     -0.657      0.511      -0.353       0.176\n",
       "genres_Horror              0.1720      0.090      1.902      0.057      -0.005       0.349\n",
       "genres_Music              -0.1376      0.137     -1.004      0.315      -0.406       0.131\n",
       "genres_Mystery            -0.0223      0.087     -0.258      0.797      -0.192       0.148\n",
       "genres_Romance             0.0998      0.073      1.371      0.170      -0.043       0.242\n",
       "genres_Science Fiction    -0.1625      0.074     -2.202      0.028      -0.307      -0.018\n",
       "genres_Thriller           -0.0614      0.065     -0.948      0.343      -0.188       0.066\n",
       "genres_War                -0.0815      0.145     -0.563      0.574      -0.365       0.202\n",
       "genres_Western            -0.4932      0.199     -2.480      0.013      -0.883      -0.103\n",
       "homepage                   0.4698      0.058      8.045      0.000       0.355       0.584\n",
       "month                      0.0063      0.007      0.856      0.392      -0.008       0.021\n",
       "original_language_en       0.0921      0.136      0.675      0.500      -0.175       0.359\n",
       "original_language_fr      -0.8917      0.252     -3.533      0.000      -1.386      -0.397\n",
       "original_language_hi       0.2362      0.182      1.301      0.193      -0.120       0.592\n",
       "original_language_ru      -0.4432      0.257     -1.723      0.085      -0.948       0.061\n",
       "runtime                    0.0129      0.002      7.507      0.000       0.010       0.016\n",
       "year                      -0.0198      0.002     -8.549      0.000      -0.024      -0.015\n",
       "==============================================================================\n",
       "Omnibus:                     2091.599   Durbin-Watson:                   1.927\n",
       "Prob(Omnibus):                  0.000   Jarque-Bera (JB):            33171.170\n",
       "Skew:                          -1.430   Prob(JB):                         0.00\n",
       "Kurtosis:                      14.828   Cond. No.                     2.98e+05\n",
       "==============================================================================\n",
       "\n",
       "Warnings:\n",
       "[1] Standard Errors are heteroscedasticity robust (HC2)\n",
       "[2] The condition number is large, 2.98e+05. This might indicate that there are\n",
       "strong multicollinearity or other numerical problems.\n",
       "\"\"\""
      ],
      "text/html": "<table class=\"simpletable\">\n<caption>OLS Regression Results</caption>\n<tr>\n  <th>Dep. Variable:</th>         <td>revenue</td>     <th>  R-squared:         </th> <td>   0.561</td> \n</tr>\n<tr>\n  <th>Model:</th>                   <td>OLS</td>       <th>  Adj. R-squared:    </th> <td>   0.559</td> \n</tr>\n<tr>\n  <th>Method:</th>             <td>Least Squares</td>  <th>  F-statistic:       </th> <td>   142.1</td> \n</tr>\n<tr>\n  <th>Date:</th>             <td>Fri, 05 Feb 2021</td> <th>  Prob (F-statistic):</th>  <td>  0.00</td>  \n</tr>\n<tr>\n  <th>Time:</th>                 <td>21:32:38</td>     <th>  Log-Likelihood:    </th> <td> -10599.</td> \n</tr>\n<tr>\n  <th>No. Observations:</th>      <td>  5376</td>      <th>  AIC:               </th> <td>2.125e+04</td>\n</tr>\n<tr>\n  <th>Df Residuals:</th>          <td>  5348</td>      <th>  BIC:               </th> <td>2.144e+04</td>\n</tr>\n<tr>\n  <th>Df Model:</th>              <td>    27</td>      <th>                     </th>     <td> </td>    \n</tr>\n<tr>\n  <th>Covariance Type:</th>         <td>HC2</td>       <th>                     </th>     <td> </td>    \n</tr>\n</table>\n<table class=\"simpletable\">\n<tr>\n             <td></td>               <th>coef</th>     <th>std err</th>      <th>z</th>      <th>P>|z|</th>  <th>[0.025</th>    <th>0.975]</th>  \n</tr>\n<tr>\n  <th>const</th>                  <td>   40.7531</td> <td>    4.441</td> <td>    9.177</td> <td> 0.000</td> <td>   32.049</td> <td>   49.457</td>\n</tr>\n<tr>\n  <th>belongs_to_collection</th>  <td>    1.0669</td> <td>    0.054</td> <td>   19.725</td> <td> 0.000</td> <td>    0.961</td> <td>    1.173</td>\n</tr>\n<tr>\n  <th>budget</th>                 <td>    0.8475</td> <td>    0.033</td> <td>   25.972</td> <td> 0.000</td> <td>    0.784</td> <td>    0.912</td>\n</tr>\n<tr>\n  <th>genres_Adventure</th>       <td>   -0.0333</td> <td>    0.067</td> <td>   -0.498</td> <td> 0.619</td> <td>   -0.164</td> <td>    0.098</td>\n</tr>\n<tr>\n  <th>genres_Animation</th>       <td>    0.2884</td> <td>    0.103</td> <td>    2.797</td> <td> 0.005</td> <td>    0.086</td> <td>    0.490</td>\n</tr>\n<tr>\n  <th>genres_Comedy</th>          <td>    0.1403</td> <td>    0.065</td> <td>    2.143</td> <td> 0.032</td> <td>    0.012</td> <td>    0.269</td>\n</tr>\n<tr>\n  <th>genres_Crime</th>           <td>   -0.0052</td> <td>    0.074</td> <td>   -0.071</td> <td> 0.943</td> <td>   -0.149</td> <td>    0.139</td>\n</tr>\n<tr>\n  <th>genres_Documentary</th>     <td>    0.0256</td> <td>    0.370</td> <td>    0.069</td> <td> 0.945</td> <td>   -0.700</td> <td>    0.751</td>\n</tr>\n<tr>\n  <th>genres_Drama</th>           <td>   -0.2302</td> <td>    0.064</td> <td>   -3.580</td> <td> 0.000</td> <td>   -0.356</td> <td>   -0.104</td>\n</tr>\n<tr>\n  <th>genres_Family</th>          <td>    0.2532</td> <td>    0.087</td> <td>    2.921</td> <td> 0.003</td> <td>    0.083</td> <td>    0.423</td>\n</tr>\n<tr>\n  <th>genres_Fantasy</th>         <td>   -0.0560</td> <td>    0.072</td> <td>   -0.776</td> <td> 0.438</td> <td>   -0.197</td> <td>    0.085</td>\n</tr>\n<tr>\n  <th>genres_History</th>         <td>   -0.0886</td> <td>    0.135</td> <td>   -0.657</td> <td> 0.511</td> <td>   -0.353</td> <td>    0.176</td>\n</tr>\n<tr>\n  <th>genres_Horror</th>          <td>    0.1720</td> <td>    0.090</td> <td>    1.902</td> <td> 0.057</td> <td>   -0.005</td> <td>    0.349</td>\n</tr>\n<tr>\n  <th>genres_Music</th>           <td>   -0.1376</td> <td>    0.137</td> <td>   -1.004</td> <td> 0.315</td> <td>   -0.406</td> <td>    0.131</td>\n</tr>\n<tr>\n  <th>genres_Mystery</th>         <td>   -0.0223</td> <td>    0.087</td> <td>   -0.258</td> <td> 0.797</td> <td>   -0.192</td> <td>    0.148</td>\n</tr>\n<tr>\n  <th>genres_Romance</th>         <td>    0.0998</td> <td>    0.073</td> <td>    1.371</td> <td> 0.170</td> <td>   -0.043</td> <td>    0.242</td>\n</tr>\n<tr>\n  <th>genres_Science Fiction</th> <td>   -0.1625</td> <td>    0.074</td> <td>   -2.202</td> <td> 0.028</td> <td>   -0.307</td> <td>   -0.018</td>\n</tr>\n<tr>\n  <th>genres_Thriller</th>        <td>   -0.0614</td> <td>    0.065</td> <td>   -0.948</td> <td> 0.343</td> <td>   -0.188</td> <td>    0.066</td>\n</tr>\n<tr>\n  <th>genres_War</th>             <td>   -0.0815</td> <td>    0.145</td> <td>   -0.563</td> <td> 0.574</td> <td>   -0.365</td> <td>    0.202</td>\n</tr>\n<tr>\n  <th>genres_Western</th>         <td>   -0.4932</td> <td>    0.199</td> <td>   -2.480</td> <td> 0.013</td> <td>   -0.883</td> <td>   -0.103</td>\n</tr>\n<tr>\n  <th>homepage</th>               <td>    0.4698</td> <td>    0.058</td> <td>    8.045</td> <td> 0.000</td> <td>    0.355</td> <td>    0.584</td>\n</tr>\n<tr>\n  <th>month</th>                  <td>    0.0063</td> <td>    0.007</td> <td>    0.856</td> <td> 0.392</td> <td>   -0.008</td> <td>    0.021</td>\n</tr>\n<tr>\n  <th>original_language_en</th>   <td>    0.0921</td> <td>    0.136</td> <td>    0.675</td> <td> 0.500</td> <td>   -0.175</td> <td>    0.359</td>\n</tr>\n<tr>\n  <th>original_language_fr</th>   <td>   -0.8917</td> <td>    0.252</td> <td>   -3.533</td> <td> 0.000</td> <td>   -1.386</td> <td>   -0.397</td>\n</tr>\n<tr>\n  <th>original_language_hi</th>   <td>    0.2362</td> <td>    0.182</td> <td>    1.301</td> <td> 0.193</td> <td>   -0.120</td> <td>    0.592</td>\n</tr>\n<tr>\n  <th>original_language_ru</th>   <td>   -0.4432</td> <td>    0.257</td> <td>   -1.723</td> <td> 0.085</td> <td>   -0.948</td> <td>    0.061</td>\n</tr>\n<tr>\n  <th>runtime</th>                <td>    0.0129</td> <td>    0.002</td> <td>    7.507</td> <td> 0.000</td> <td>    0.010</td> <td>    0.016</td>\n</tr>\n<tr>\n  <th>year</th>                   <td>   -0.0198</td> <td>    0.002</td> <td>   -8.549</td> <td> 0.000</td> <td>   -0.024</td> <td>   -0.015</td>\n</tr>\n</table>\n<table class=\"simpletable\">\n<tr>\n  <th>Omnibus:</th>       <td>2091.599</td> <th>  Durbin-Watson:     </th> <td>   1.927</td> \n</tr>\n<tr>\n  <th>Prob(Omnibus):</th>  <td> 0.000</td>  <th>  Jarque-Bera (JB):  </th> <td>33171.170</td>\n</tr>\n<tr>\n  <th>Skew:</th>           <td>-1.430</td>  <th>  Prob(JB):          </th> <td>    0.00</td> \n</tr>\n<tr>\n  <th>Kurtosis:</th>       <td>14.828</td>  <th>  Cond. No.          </th> <td>2.98e+05</td> \n</tr>\n</table><br/><br/>Warnings:<br/>[1] Standard Errors are heteroscedasticity robust (HC2)<br/>[2] The condition number is large, 2.98e+05. This might indicate that there are<br/>strong multicollinearity or other numerical problems."
     },
     "metadata": {},
     "execution_count": 11
    }
   ],
   "source": [
    "y = df['revenue']\n",
    "X = sm.add_constant(df.drop(columns='revenue'))\n",
    "\n",
    "est = sm.OLS(y, X).fit(cov_type='HC2')\n",
    "est.summary()"
   ]
  },
  {
   "cell_type": "code",
   "execution_count": 12,
   "metadata": {},
   "outputs": [
    {
     "output_type": "execute_result",
     "data": {
      "text/plain": [
       "<class 'statsmodels.iolib.summary.Summary'>\n",
       "\"\"\"\n",
       "                            OLS Regression Results                            \n",
       "==============================================================================\n",
       "Dep. Variable:                revenue   R-squared:                       0.560\n",
       "Model:                            OLS   Adj. R-squared:                  0.559\n",
       "Method:                 Least Squares   F-statistic:                     276.4\n",
       "Date:                Fri, 05 Feb 2021   Prob (F-statistic):               0.00\n",
       "Time:                        21:32:39   Log-Likelihood:                -10609.\n",
       "No. Observations:                5376   AIC:                         2.124e+04\n",
       "Df Residuals:                    5363   BIC:                         2.133e+04\n",
       "Df Model:                          12                                         \n",
       "Covariance Type:                  HC2                                         \n",
       "==========================================================================================\n",
       "                             coef    std err          z      P>|z|      [0.025      0.975]\n",
       "------------------------------------------------------------------------------------------\n",
       "const                     41.7917      3.859     10.830      0.000      34.228      49.355\n",
       "belongs_to_collection      1.0640      0.053     20.180      0.000       0.961       1.167\n",
       "budget                     0.8446      0.029     29.493      0.000       0.788       0.901\n",
       "genres_Animation           0.2520      0.099      2.541      0.011       0.058       0.446\n",
       "genres_Comedy              0.1650      0.057      2.905      0.004       0.054       0.276\n",
       "genres_Drama              -0.2260      0.060     -3.738      0.000      -0.345      -0.108\n",
       "genres_Family              0.2378      0.086      2.767      0.006       0.069       0.406\n",
       "genres_Science Fiction    -0.1610      0.071     -2.270      0.023      -0.300      -0.022\n",
       "genres_Western            -0.5106      0.196     -2.599      0.009      -0.896      -0.126\n",
       "homepage                   0.4776      0.058      8.250      0.000       0.364       0.591\n",
       "original_language_fr      -0.9739      0.221     -4.401      0.000      -1.408      -0.540\n",
       "runtime                    0.0127      0.001      8.466      0.000       0.010       0.016\n",
       "year                      -0.0203      0.002    -10.034      0.000      -0.024      -0.016\n",
       "==============================================================================\n",
       "Omnibus:                     2093.086   Durbin-Watson:                   1.926\n",
       "Prob(Omnibus):                  0.000   Jarque-Bera (JB):            32944.941\n",
       "Skew:                          -1.434   Prob(JB):                         0.00\n",
       "Kurtosis:                      14.783   Cond. No.                     2.82e+05\n",
       "==============================================================================\n",
       "\n",
       "Warnings:\n",
       "[1] Standard Errors are heteroscedasticity robust (HC2)\n",
       "[2] The condition number is large, 2.82e+05. This might indicate that there are\n",
       "strong multicollinearity or other numerical problems.\n",
       "\"\"\""
      ],
      "text/html": "<table class=\"simpletable\">\n<caption>OLS Regression Results</caption>\n<tr>\n  <th>Dep. Variable:</th>         <td>revenue</td>     <th>  R-squared:         </th> <td>   0.560</td> \n</tr>\n<tr>\n  <th>Model:</th>                   <td>OLS</td>       <th>  Adj. R-squared:    </th> <td>   0.559</td> \n</tr>\n<tr>\n  <th>Method:</th>             <td>Least Squares</td>  <th>  F-statistic:       </th> <td>   276.4</td> \n</tr>\n<tr>\n  <th>Date:</th>             <td>Fri, 05 Feb 2021</td> <th>  Prob (F-statistic):</th>  <td>  0.00</td>  \n</tr>\n<tr>\n  <th>Time:</th>                 <td>21:32:39</td>     <th>  Log-Likelihood:    </th> <td> -10609.</td> \n</tr>\n<tr>\n  <th>No. Observations:</th>      <td>  5376</td>      <th>  AIC:               </th> <td>2.124e+04</td>\n</tr>\n<tr>\n  <th>Df Residuals:</th>          <td>  5363</td>      <th>  BIC:               </th> <td>2.133e+04</td>\n</tr>\n<tr>\n  <th>Df Model:</th>              <td>    12</td>      <th>                     </th>     <td> </td>    \n</tr>\n<tr>\n  <th>Covariance Type:</th>         <td>HC2</td>       <th>                     </th>     <td> </td>    \n</tr>\n</table>\n<table class=\"simpletable\">\n<tr>\n             <td></td>               <th>coef</th>     <th>std err</th>      <th>z</th>      <th>P>|z|</th>  <th>[0.025</th>    <th>0.975]</th>  \n</tr>\n<tr>\n  <th>const</th>                  <td>   41.7917</td> <td>    3.859</td> <td>   10.830</td> <td> 0.000</td> <td>   34.228</td> <td>   49.355</td>\n</tr>\n<tr>\n  <th>belongs_to_collection</th>  <td>    1.0640</td> <td>    0.053</td> <td>   20.180</td> <td> 0.000</td> <td>    0.961</td> <td>    1.167</td>\n</tr>\n<tr>\n  <th>budget</th>                 <td>    0.8446</td> <td>    0.029</td> <td>   29.493</td> <td> 0.000</td> <td>    0.788</td> <td>    0.901</td>\n</tr>\n<tr>\n  <th>genres_Animation</th>       <td>    0.2520</td> <td>    0.099</td> <td>    2.541</td> <td> 0.011</td> <td>    0.058</td> <td>    0.446</td>\n</tr>\n<tr>\n  <th>genres_Comedy</th>          <td>    0.1650</td> <td>    0.057</td> <td>    2.905</td> <td> 0.004</td> <td>    0.054</td> <td>    0.276</td>\n</tr>\n<tr>\n  <th>genres_Drama</th>           <td>   -0.2260</td> <td>    0.060</td> <td>   -3.738</td> <td> 0.000</td> <td>   -0.345</td> <td>   -0.108</td>\n</tr>\n<tr>\n  <th>genres_Family</th>          <td>    0.2378</td> <td>    0.086</td> <td>    2.767</td> <td> 0.006</td> <td>    0.069</td> <td>    0.406</td>\n</tr>\n<tr>\n  <th>genres_Science Fiction</th> <td>   -0.1610</td> <td>    0.071</td> <td>   -2.270</td> <td> 0.023</td> <td>   -0.300</td> <td>   -0.022</td>\n</tr>\n<tr>\n  <th>genres_Western</th>         <td>   -0.5106</td> <td>    0.196</td> <td>   -2.599</td> <td> 0.009</td> <td>   -0.896</td> <td>   -0.126</td>\n</tr>\n<tr>\n  <th>homepage</th>               <td>    0.4776</td> <td>    0.058</td> <td>    8.250</td> <td> 0.000</td> <td>    0.364</td> <td>    0.591</td>\n</tr>\n<tr>\n  <th>original_language_fr</th>   <td>   -0.9739</td> <td>    0.221</td> <td>   -4.401</td> <td> 0.000</td> <td>   -1.408</td> <td>   -0.540</td>\n</tr>\n<tr>\n  <th>runtime</th>                <td>    0.0127</td> <td>    0.001</td> <td>    8.466</td> <td> 0.000</td> <td>    0.010</td> <td>    0.016</td>\n</tr>\n<tr>\n  <th>year</th>                   <td>   -0.0203</td> <td>    0.002</td> <td>  -10.034</td> <td> 0.000</td> <td>   -0.024</td> <td>   -0.016</td>\n</tr>\n</table>\n<table class=\"simpletable\">\n<tr>\n  <th>Omnibus:</th>       <td>2093.086</td> <th>  Durbin-Watson:     </th> <td>   1.926</td> \n</tr>\n<tr>\n  <th>Prob(Omnibus):</th>  <td> 0.000</td>  <th>  Jarque-Bera (JB):  </th> <td>32944.941</td>\n</tr>\n<tr>\n  <th>Skew:</th>           <td>-1.434</td>  <th>  Prob(JB):          </th> <td>    0.00</td> \n</tr>\n<tr>\n  <th>Kurtosis:</th>       <td>14.783</td>  <th>  Cond. No.          </th> <td>2.82e+05</td> \n</tr>\n</table><br/><br/>Warnings:<br/>[1] Standard Errors are heteroscedasticity robust (HC2)<br/>[2] The condition number is large, 2.82e+05. This might indicate that there are<br/>strong multicollinearity or other numerical problems."
     },
     "metadata": {},
     "execution_count": 12
    }
   ],
   "source": [
    "dropcol = (est.pvalues >= 0.05)\n",
    "dropcol = dropcol[dropcol==True].index\n",
    "X2 = X.drop(columns=dropcol)\n",
    "est2 = sm.OLS(y,sm.add_constant(X2)).fit(cov_type='HC2')\n",
    "est2.summary()"
   ]
  },
  {
   "cell_type": "markdown",
   "metadata": {},
   "source": [
    "# 2.2 Movies Manual Regression\n",
    "\n",
    "Use your `X` and `y` matrix from 2.1 to calculate the linear regression yourself using the normal equation $(X^T X)^{-1}X^Ty$.\n",
    "\n",
    "Verify that the coefficients are the same."
   ]
  },
  {
   "cell_type": "code",
   "execution_count": 13,
   "metadata": {},
   "outputs": [
    {
     "output_type": "execute_result",
     "data": {
      "text/plain": [
       "0     41.791691\n",
       "1      1.064022\n",
       "2      0.844560\n",
       "3      0.252035\n",
       "4      0.164996\n",
       "5     -0.226005\n",
       "6      0.237782\n",
       "7     -0.161045\n",
       "8     -0.510614\n",
       "9      0.477617\n",
       "10    -0.973928\n",
       "11     0.012652\n",
       "12    -0.020268\n",
       "dtype: float64"
      ]
     },
     "metadata": {},
     "execution_count": 13
    }
   ],
   "source": [
    "# Returns array with [intercept, slope]\n",
    "Xc = sm.add_constant(X2.copy())\n",
    "\n",
    "beta = np.linalg.inv(Xc.T @ Xc) @ Xc.T @ y\n",
    "beta"
   ]
  },
  {
   "cell_type": "code",
   "execution_count": 14,
   "metadata": {},
   "outputs": [
    {
     "output_type": "execute_result",
     "data": {
      "text/plain": [
       "const                     41.791691\n",
       "belongs_to_collection      1.064022\n",
       "budget                     0.844560\n",
       "genres_Animation           0.252035\n",
       "genres_Comedy              0.164996\n",
       "genres_Drama              -0.226005\n",
       "genres_Family              0.237782\n",
       "genres_Science Fiction    -0.161045\n",
       "genres_Western            -0.510614\n",
       "homepage                   0.477617\n",
       "original_language_fr      -0.973928\n",
       "runtime                    0.012652\n",
       "year                      -0.020268\n",
       "dtype: float64"
      ]
     },
     "metadata": {},
     "execution_count": 14
    }
   ],
   "source": [
    "est2.params"
   ]
  },
  {
   "cell_type": "markdown",
   "metadata": {},
   "source": [
    "# 2.3 Movies gradient descent regression\n",
    "\n",
    "Use your `X` and `y` matrix from 2.1 to calculate the linear regression yourself using **gradient descent**. \n",
    "\n",
    "Hint: use `scipy.optimize` and remember we're finding the $\\beta$ that minimizes the squared loss function of linear regression: $f(\\beta) = (\\beta X - y)^2$. This will look like part 3 of this lecture.\n",
    "\n",
    "Verify your coefficients are similar to the ones in 2.1 and 2.2. They won't necessarily be exactly the same, but should be roughly similar."
   ]
  },
  {
   "cell_type": "code",
   "execution_count": 15,
   "metadata": {},
   "outputs": [],
   "source": [
    "def GradientDescent(betas, y, x):\n",
    "    sq_loss = np.sum( (np.dot(x, betas) - y) ** 2 )\n",
    "    return sq_loss"
   ]
  },
  {
   "cell_type": "code",
   "execution_count": 16,
   "metadata": {},
   "outputs": [
    {
     "output_type": "execute_result",
     "data": {
      "text/plain": [
       "array([ 7.45123920e+00,  1.11895520e+00,  8.05377500e-01, -3.69433850e-03,\n",
       "        3.44592308e-01,  1.07446922e-01,  1.15603558e-02, -9.60325986e-02,\n",
       "       -2.50996045e-01,  2.63320308e-01, -4.22874906e-02, -5.35628896e-02,\n",
       "        1.60245976e-01, -4.71046356e-02,  1.33384346e-02,  1.30203492e-01,\n",
       "       -1.28120334e-01, -1.03778526e-01, -1.20671193e-02, -3.05728855e-01,\n",
       "        2.72716616e-01,  8.85586250e-03,  2.40678742e-01, -8.54100957e-01,\n",
       "        9.04730266e-02, -5.50612227e-01,  1.47415915e-02, -2.99356331e-03])"
      ]
     },
     "metadata": {},
     "execution_count": 16
    }
   ],
   "source": [
    "from scipy.optimize import minimize\n",
    "from sklearn import preprocessing \n",
    "mm_scaler = preprocessing.MinMaxScaler()\n",
    "\n",
    "\n",
    "# get x values with constant\n",
    "y = df['revenue']\n",
    "x = sm.add_constant(df.drop(columns='revenue'))\n",
    "\n",
    "#create beta hat vector to maximize on (initiatlized with zeros)\n",
    "#betas = np.random.rand(np.shape(x)[1])\n",
    "betas = np.zeros(np.shape(x)[1])\n",
    "\n",
    "#dg_est = minimize(GradientDescent, betas, args=(y,x), method='bfgs')\n",
    "#dg_est = minimize(GradientDescent, betas, args=(y,x), method='nelder-mead')\n",
    "#dg_est = minimize(GradientDescent, betas, args=(y,mm_scaler.fit_transform(x)), method='powell')\n",
    "dg_est = minimize(GradientDescent, betas, args=(y,x), method='powell')\n",
    "\n",
    "\n",
    "#print vector of maximized betahats\n",
    "dg_est['x']"
   ]
  },
  {
   "cell_type": "code",
   "execution_count": 17,
   "metadata": {},
   "outputs": [
    {
     "output_type": "execute_result",
     "data": {
      "text/plain": [
       "const                     41.791691\n",
       "belongs_to_collection      1.064022\n",
       "budget                     0.844560\n",
       "genres_Animation           0.252035\n",
       "genres_Comedy              0.164996\n",
       "genres_Drama              -0.226005\n",
       "genres_Family              0.237782\n",
       "genres_Science Fiction    -0.161045\n",
       "genres_Western            -0.510614\n",
       "homepage                   0.477617\n",
       "original_language_fr      -0.973928\n",
       "runtime                    0.012652\n",
       "year                      -0.020268\n",
       "dtype: float64"
      ]
     },
     "metadata": {},
     "execution_count": 17
    }
   ],
   "source": [
    "# compared to \n",
    "est2.params"
   ]
  },
  {
   "cell_type": "code",
   "execution_count": 18,
   "metadata": {},
   "outputs": [],
   "source": [
    "# I tought the difference in coefs was due to a local minimum\n",
    "# but even with scaling the beta values where off\n",
    "# Powell model gave the closest results"
   ]
  }
 ],
 "metadata": {
  "colab": {
   "authorship_tag": "ABX9TyPIPzivigAhB3FeR6Q96N8T",
   "collapsed_sections": [],
   "name": "Workshop: Maximum likelihood.ipynb",
   "provenance": []
  },
  "kernelspec": {
   "name": "python3",
   "display_name": "Python 3.8.3 64-bit (conda)",
   "metadata": {
    "interpreter": {
     "hash": "6d46af94c2bbce495f1e668725902fa517c90b1782bcfe2fce0dd9868df553d3"
    }
   }
  },
  "language_info": {
   "codemirror_mode": {
    "name": "ipython",
    "version": 3
   },
   "file_extension": ".py",
   "mimetype": "text/x-python",
   "name": "python",
   "nbconvert_exporter": "python",
   "pygments_lexer": "ipython3",
   "version": "3.8.3-final"
  }
 },
 "nbformat": 4,
 "nbformat_minor": 1
}