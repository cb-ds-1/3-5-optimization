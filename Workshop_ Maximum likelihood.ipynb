{
 "cells": [
  {
   "source": [
    "## Martin Dionne"
   ],
   "cell_type": "markdown",
   "metadata": {}
  },
  {
   "cell_type": "code",
   "execution_count": 1,
   "metadata": {},
   "outputs": [],
   "source": [
    "import pandas as pd \n",
    "import numpy as np \n",
    "import matplotlib.pyplot as plt\n",
    "import statsmodels.api as sm\n",
    "import scipy.optimize as opt\n",
    "from sklearn.preprocessing import MultiLabelBinarizer"
   ]
  },
  {
   "cell_type": "markdown",
   "metadata": {},
   "source": [
    "# 1. Bisection\n",
    "\n",
    "\n",
    "One of the most common algorithms for numerical root-finding is *bisection*.\n",
    "\n",
    "To understand the idea, recall the well-known game where:\n",
    "\n",
    "- Player A thinks of a secret number between 1 and 100  \n",
    "- Player B asks if it’s less than 50  \n",
    "  \n",
    "  - If yes, B asks if it’s less than 25  \n",
    "  - If no, B asks if it’s less than 75  \n",
    "  \n",
    "\n",
    "And so on.\n",
    "\n",
    "This is bisection, a relative of [binary search](https://en.wikipedia.org/wiki/Binary_search_algorithm). It works for all sufficiently well behaved increasing continuous functions with $ f(a) < 0 < f(b) $. \n",
    "\n",
    "Write an implementation of the bisection algorith, `bisect(f, lower, upper, tol)` which, given a function `f`, a lower bound `lower` and an upper bound `upper` finds the point `x` where `f(x) = 0`. The parameter `tol` is a numerical tolerance, you should stop once your step size is smaller than `tol`.\n",
    "\n",
    "\n",
    "Use it to minimize the function:\n",
    "\n",
    "$$\n",
    "f(x) = \\sin(4 (x - 1/4)) + x + x^{20} - 1 \\tag{2}\n",
    "$$\n",
    "\n",
    "in python: `lambda x: np.sin(4 * (x - 1/4)) + x + x**20 - 1`\n",
    "\n",
    "The value where f(x) = 0 should be around `0.408`"
   ]
  },
  {
   "cell_type": "code",
   "execution_count": 2,
   "metadata": {},
   "outputs": [
    {
     "output_type": "execute_result",
     "data": {
      "text/plain": [
       "[<matplotlib.lines.Line2D at 0x1ce191f8d90>]"
      ]
     },
     "metadata": {},
     "execution_count": 2
    },
    {
     "output_type": "display_data",
     "data": {
      "text/plain": "<Figure size 432x288 with 1 Axes>",
      "image/svg+xml": "<?xml version=\"1.0\" encoding=\"utf-8\" standalone=\"no\"?>\r\n<!DOCTYPE svg PUBLIC \"-//W3C//DTD SVG 1.1//EN\"\r\n  \"http://www.w3.org/Graphics/SVG/1.1/DTD/svg11.dtd\">\r\n<!-- Created with matplotlib (https://matplotlib.org/) -->\r\n<svg height=\"248.518125pt\" version=\"1.1\" viewBox=\"0 0 380.482812 248.518125\" width=\"380.482812pt\" xmlns=\"http://www.w3.org/2000/svg\" xmlns:xlink=\"http://www.w3.org/1999/xlink\">\r\n <defs>\r\n  <style type=\"text/css\">\r\n*{stroke-linecap:butt;stroke-linejoin:round;}\r\n  </style>\r\n </defs>\r\n <g id=\"figure_1\">\r\n  <g id=\"patch_1\">\r\n   <path d=\"M -0 248.518125 \r\nL 380.482812 248.518125 \r\nL 380.482812 0 \r\nL -0 0 \r\nz\r\n\" style=\"fill:none;\"/>\r\n  </g>\r\n  <g id=\"axes_1\">\r\n   <g id=\"patch_2\">\r\n    <path d=\"M 38.482813 224.64 \r\nL 373.282813 224.64 \r\nL 373.282813 7.2 \r\nL 38.482813 7.2 \r\nz\r\n\" style=\"fill:#ffffff;\"/>\r\n   </g>\r\n   <g id=\"matplotlib.axis_1\">\r\n    <g id=\"xtick_1\">\r\n     <g id=\"line2d_1\">\r\n      <defs>\r\n       <path d=\"M 0 0 \r\nL 0 3.5 \r\n\" id=\"m5ba501346e\" style=\"stroke:#000000;stroke-width:0.8;\"/>\r\n      </defs>\r\n      <g>\r\n       <use style=\"stroke:#000000;stroke-width:0.8;\" x=\"53.700994\" xlink:href=\"#m5ba501346e\" y=\"224.64\"/>\r\n      </g>\r\n     </g>\r\n     <g id=\"text_1\">\r\n      <!-- −1.00 -->\r\n      <defs>\r\n       <path d=\"M 10.59375 35.5 \r\nL 73.1875 35.5 \r\nL 73.1875 27.203125 \r\nL 10.59375 27.203125 \r\nz\r\n\" id=\"DejaVuSans-8722\"/>\r\n       <path d=\"M 12.40625 8.296875 \r\nL 28.515625 8.296875 \r\nL 28.515625 63.921875 \r\nL 10.984375 60.40625 \r\nL 10.984375 69.390625 \r\nL 28.421875 72.90625 \r\nL 38.28125 72.90625 \r\nL 38.28125 8.296875 \r\nL 54.390625 8.296875 \r\nL 54.390625 0 \r\nL 12.40625 0 \r\nz\r\n\" id=\"DejaVuSans-49\"/>\r\n       <path d=\"M 10.6875 12.40625 \r\nL 21 12.40625 \r\nL 21 0 \r\nL 10.6875 0 \r\nz\r\n\" id=\"DejaVuSans-46\"/>\r\n       <path d=\"M 31.78125 66.40625 \r\nQ 24.171875 66.40625 20.328125 58.90625 \r\nQ 16.5 51.421875 16.5 36.375 \r\nQ 16.5 21.390625 20.328125 13.890625 \r\nQ 24.171875 6.390625 31.78125 6.390625 \r\nQ 39.453125 6.390625 43.28125 13.890625 \r\nQ 47.125 21.390625 47.125 36.375 \r\nQ 47.125 51.421875 43.28125 58.90625 \r\nQ 39.453125 66.40625 31.78125 66.40625 \r\nz\r\nM 31.78125 74.21875 \r\nQ 44.046875 74.21875 50.515625 64.515625 \r\nQ 56.984375 54.828125 56.984375 36.375 \r\nQ 56.984375 17.96875 50.515625 8.265625 \r\nQ 44.046875 -1.421875 31.78125 -1.421875 \r\nQ 19.53125 -1.421875 13.0625 8.265625 \r\nQ 6.59375 17.96875 6.59375 36.375 \r\nQ 6.59375 54.828125 13.0625 64.515625 \r\nQ 19.53125 74.21875 31.78125 74.21875 \r\nz\r\n\" id=\"DejaVuSans-48\"/>\r\n      </defs>\r\n      <g transform=\"translate(38.378338 239.238437)scale(0.1 -0.1)\">\r\n       <use xlink:href=\"#DejaVuSans-8722\"/>\r\n       <use x=\"83.789062\" xlink:href=\"#DejaVuSans-49\"/>\r\n       <use x=\"147.412109\" xlink:href=\"#DejaVuSans-46\"/>\r\n       <use x=\"179.199219\" xlink:href=\"#DejaVuSans-48\"/>\r\n       <use x=\"242.822266\" xlink:href=\"#DejaVuSans-48\"/>\r\n      </g>\r\n     </g>\r\n    </g>\r\n    <g id=\"xtick_2\">\r\n     <g id=\"line2d_2\">\r\n      <g>\r\n       <use style=\"stroke:#000000;stroke-width:0.8;\" x=\"91.746449\" xlink:href=\"#m5ba501346e\" y=\"224.64\"/>\r\n      </g>\r\n     </g>\r\n     <g id=\"text_2\">\r\n      <!-- −0.75 -->\r\n      <defs>\r\n       <path d=\"M 8.203125 72.90625 \r\nL 55.078125 72.90625 \r\nL 55.078125 68.703125 \r\nL 28.609375 0 \r\nL 18.3125 0 \r\nL 43.21875 64.59375 \r\nL 8.203125 64.59375 \r\nz\r\n\" id=\"DejaVuSans-55\"/>\r\n       <path d=\"M 10.796875 72.90625 \r\nL 49.515625 72.90625 \r\nL 49.515625 64.59375 \r\nL 19.828125 64.59375 \r\nL 19.828125 46.734375 \r\nQ 21.96875 47.46875 24.109375 47.828125 \r\nQ 26.265625 48.1875 28.421875 48.1875 \r\nQ 40.625 48.1875 47.75 41.5 \r\nQ 54.890625 34.8125 54.890625 23.390625 \r\nQ 54.890625 11.625 47.5625 5.09375 \r\nQ 40.234375 -1.421875 26.90625 -1.421875 \r\nQ 22.3125 -1.421875 17.546875 -0.640625 \r\nQ 12.796875 0.140625 7.71875 1.703125 \r\nL 7.71875 11.625 \r\nQ 12.109375 9.234375 16.796875 8.0625 \r\nQ 21.484375 6.890625 26.703125 6.890625 \r\nQ 35.15625 6.890625 40.078125 11.328125 \r\nQ 45.015625 15.765625 45.015625 23.390625 \r\nQ 45.015625 31 40.078125 35.4375 \r\nQ 35.15625 39.890625 26.703125 39.890625 \r\nQ 22.75 39.890625 18.8125 39.015625 \r\nQ 14.890625 38.140625 10.796875 36.28125 \r\nz\r\n\" id=\"DejaVuSans-53\"/>\r\n      </defs>\r\n      <g transform=\"translate(76.423793 239.238437)scale(0.1 -0.1)\">\r\n       <use xlink:href=\"#DejaVuSans-8722\"/>\r\n       <use x=\"83.789062\" xlink:href=\"#DejaVuSans-48\"/>\r\n       <use x=\"147.412109\" xlink:href=\"#DejaVuSans-46\"/>\r\n       <use x=\"179.199219\" xlink:href=\"#DejaVuSans-55\"/>\r\n       <use x=\"242.822266\" xlink:href=\"#DejaVuSans-53\"/>\r\n      </g>\r\n     </g>\r\n    </g>\r\n    <g id=\"xtick_3\">\r\n     <g id=\"line2d_3\">\r\n      <g>\r\n       <use style=\"stroke:#000000;stroke-width:0.8;\" x=\"129.791903\" xlink:href=\"#m5ba501346e\" y=\"224.64\"/>\r\n      </g>\r\n     </g>\r\n     <g id=\"text_3\">\r\n      <!-- −0.50 -->\r\n      <g transform=\"translate(114.469247 239.238437)scale(0.1 -0.1)\">\r\n       <use xlink:href=\"#DejaVuSans-8722\"/>\r\n       <use x=\"83.789062\" xlink:href=\"#DejaVuSans-48\"/>\r\n       <use x=\"147.412109\" xlink:href=\"#DejaVuSans-46\"/>\r\n       <use x=\"179.199219\" xlink:href=\"#DejaVuSans-53\"/>\r\n       <use x=\"242.822266\" xlink:href=\"#DejaVuSans-48\"/>\r\n      </g>\r\n     </g>\r\n    </g>\r\n    <g id=\"xtick_4\">\r\n     <g id=\"line2d_4\">\r\n      <g>\r\n       <use style=\"stroke:#000000;stroke-width:0.8;\" x=\"167.837358\" xlink:href=\"#m5ba501346e\" y=\"224.64\"/>\r\n      </g>\r\n     </g>\r\n     <g id=\"text_4\">\r\n      <!-- −0.25 -->\r\n      <defs>\r\n       <path d=\"M 19.1875 8.296875 \r\nL 53.609375 8.296875 \r\nL 53.609375 0 \r\nL 7.328125 0 \r\nL 7.328125 8.296875 \r\nQ 12.9375 14.109375 22.625 23.890625 \r\nQ 32.328125 33.6875 34.8125 36.53125 \r\nQ 39.546875 41.84375 41.421875 45.53125 \r\nQ 43.3125 49.21875 43.3125 52.78125 \r\nQ 43.3125 58.59375 39.234375 62.25 \r\nQ 35.15625 65.921875 28.609375 65.921875 \r\nQ 23.96875 65.921875 18.8125 64.3125 \r\nQ 13.671875 62.703125 7.8125 59.421875 \r\nL 7.8125 69.390625 \r\nQ 13.765625 71.78125 18.9375 73 \r\nQ 24.125 74.21875 28.421875 74.21875 \r\nQ 39.75 74.21875 46.484375 68.546875 \r\nQ 53.21875 62.890625 53.21875 53.421875 \r\nQ 53.21875 48.921875 51.53125 44.890625 \r\nQ 49.859375 40.875 45.40625 35.40625 \r\nQ 44.1875 33.984375 37.640625 27.21875 \r\nQ 31.109375 20.453125 19.1875 8.296875 \r\nz\r\n\" id=\"DejaVuSans-50\"/>\r\n      </defs>\r\n      <g transform=\"translate(152.514702 239.238437)scale(0.1 -0.1)\">\r\n       <use xlink:href=\"#DejaVuSans-8722\"/>\r\n       <use x=\"83.789062\" xlink:href=\"#DejaVuSans-48\"/>\r\n       <use x=\"147.412109\" xlink:href=\"#DejaVuSans-46\"/>\r\n       <use x=\"179.199219\" xlink:href=\"#DejaVuSans-50\"/>\r\n       <use x=\"242.822266\" xlink:href=\"#DejaVuSans-53\"/>\r\n      </g>\r\n     </g>\r\n    </g>\r\n    <g id=\"xtick_5\">\r\n     <g id=\"line2d_5\">\r\n      <g>\r\n       <use style=\"stroke:#000000;stroke-width:0.8;\" x=\"205.882812\" xlink:href=\"#m5ba501346e\" y=\"224.64\"/>\r\n      </g>\r\n     </g>\r\n     <g id=\"text_5\">\r\n      <!-- 0.00 -->\r\n      <g transform=\"translate(194.75 239.238437)scale(0.1 -0.1)\">\r\n       <use xlink:href=\"#DejaVuSans-48\"/>\r\n       <use x=\"63.623047\" xlink:href=\"#DejaVuSans-46\"/>\r\n       <use x=\"95.410156\" xlink:href=\"#DejaVuSans-48\"/>\r\n       <use x=\"159.033203\" xlink:href=\"#DejaVuSans-48\"/>\r\n      </g>\r\n     </g>\r\n    </g>\r\n    <g id=\"xtick_6\">\r\n     <g id=\"line2d_6\">\r\n      <g>\r\n       <use style=\"stroke:#000000;stroke-width:0.8;\" x=\"243.928267\" xlink:href=\"#m5ba501346e\" y=\"224.64\"/>\r\n      </g>\r\n     </g>\r\n     <g id=\"text_6\">\r\n      <!-- 0.25 -->\r\n      <g transform=\"translate(232.795455 239.238437)scale(0.1 -0.1)\">\r\n       <use xlink:href=\"#DejaVuSans-48\"/>\r\n       <use x=\"63.623047\" xlink:href=\"#DejaVuSans-46\"/>\r\n       <use x=\"95.410156\" xlink:href=\"#DejaVuSans-50\"/>\r\n       <use x=\"159.033203\" xlink:href=\"#DejaVuSans-53\"/>\r\n      </g>\r\n     </g>\r\n    </g>\r\n    <g id=\"xtick_7\">\r\n     <g id=\"line2d_7\">\r\n      <g>\r\n       <use style=\"stroke:#000000;stroke-width:0.8;\" x=\"281.973722\" xlink:href=\"#m5ba501346e\" y=\"224.64\"/>\r\n      </g>\r\n     </g>\r\n     <g id=\"text_7\">\r\n      <!-- 0.50 -->\r\n      <g transform=\"translate(270.840909 239.238437)scale(0.1 -0.1)\">\r\n       <use xlink:href=\"#DejaVuSans-48\"/>\r\n       <use x=\"63.623047\" xlink:href=\"#DejaVuSans-46\"/>\r\n       <use x=\"95.410156\" xlink:href=\"#DejaVuSans-53\"/>\r\n       <use x=\"159.033203\" xlink:href=\"#DejaVuSans-48\"/>\r\n      </g>\r\n     </g>\r\n    </g>\r\n    <g id=\"xtick_8\">\r\n     <g id=\"line2d_8\">\r\n      <g>\r\n       <use style=\"stroke:#000000;stroke-width:0.8;\" x=\"320.019176\" xlink:href=\"#m5ba501346e\" y=\"224.64\"/>\r\n      </g>\r\n     </g>\r\n     <g id=\"text_8\">\r\n      <!-- 0.75 -->\r\n      <g transform=\"translate(308.886364 239.238437)scale(0.1 -0.1)\">\r\n       <use xlink:href=\"#DejaVuSans-48\"/>\r\n       <use x=\"63.623047\" xlink:href=\"#DejaVuSans-46\"/>\r\n       <use x=\"95.410156\" xlink:href=\"#DejaVuSans-55\"/>\r\n       <use x=\"159.033203\" xlink:href=\"#DejaVuSans-53\"/>\r\n      </g>\r\n     </g>\r\n    </g>\r\n    <g id=\"xtick_9\">\r\n     <g id=\"line2d_9\">\r\n      <g>\r\n       <use style=\"stroke:#000000;stroke-width:0.8;\" x=\"358.064631\" xlink:href=\"#m5ba501346e\" y=\"224.64\"/>\r\n      </g>\r\n     </g>\r\n     <g id=\"text_9\">\r\n      <!-- 1.00 -->\r\n      <g transform=\"translate(346.931818 239.238437)scale(0.1 -0.1)\">\r\n       <use xlink:href=\"#DejaVuSans-49\"/>\r\n       <use x=\"63.623047\" xlink:href=\"#DejaVuSans-46\"/>\r\n       <use x=\"95.410156\" xlink:href=\"#DejaVuSans-48\"/>\r\n       <use x=\"159.033203\" xlink:href=\"#DejaVuSans-48\"/>\r\n      </g>\r\n     </g>\r\n    </g>\r\n   </g>\r\n   <g id=\"matplotlib.axis_2\">\r\n    <g id=\"ytick_1\">\r\n     <g id=\"line2d_10\">\r\n      <defs>\r\n       <path d=\"M 0 0 \r\nL -3.5 0 \r\n\" id=\"m20ed414f43\" style=\"stroke:#000000;stroke-width:0.8;\"/>\r\n      </defs>\r\n      <g>\r\n       <use style=\"stroke:#000000;stroke-width:0.8;\" x=\"38.482813\" xlink:href=\"#m20ed414f43\" y=\"204.39173\"/>\r\n      </g>\r\n     </g>\r\n     <g id=\"text_10\">\r\n      <!-- −2.0 -->\r\n      <g transform=\"translate(7.2 208.190949)scale(0.1 -0.1)\">\r\n       <use xlink:href=\"#DejaVuSans-8722\"/>\r\n       <use x=\"83.789062\" xlink:href=\"#DejaVuSans-50\"/>\r\n       <use x=\"147.412109\" xlink:href=\"#DejaVuSans-46\"/>\r\n       <use x=\"179.199219\" xlink:href=\"#DejaVuSans-48\"/>\r\n      </g>\r\n     </g>\r\n    </g>\r\n    <g id=\"ytick_2\">\r\n     <g id=\"line2d_11\">\r\n      <g>\r\n       <use style=\"stroke:#000000;stroke-width:0.8;\" x=\"38.482813\" xlink:href=\"#m20ed414f43\" y=\"174.576235\"/>\r\n      </g>\r\n     </g>\r\n     <g id=\"text_11\">\r\n      <!-- −1.5 -->\r\n      <g transform=\"translate(7.2 178.375454)scale(0.1 -0.1)\">\r\n       <use xlink:href=\"#DejaVuSans-8722\"/>\r\n       <use x=\"83.789062\" xlink:href=\"#DejaVuSans-49\"/>\r\n       <use x=\"147.412109\" xlink:href=\"#DejaVuSans-46\"/>\r\n       <use x=\"179.199219\" xlink:href=\"#DejaVuSans-53\"/>\r\n      </g>\r\n     </g>\r\n    </g>\r\n    <g id=\"ytick_3\">\r\n     <g id=\"line2d_12\">\r\n      <g>\r\n       <use style=\"stroke:#000000;stroke-width:0.8;\" x=\"38.482813\" xlink:href=\"#m20ed414f43\" y=\"144.760741\"/>\r\n      </g>\r\n     </g>\r\n     <g id=\"text_12\">\r\n      <!-- −1.0 -->\r\n      <g transform=\"translate(7.2 148.559959)scale(0.1 -0.1)\">\r\n       <use xlink:href=\"#DejaVuSans-8722\"/>\r\n       <use x=\"83.789062\" xlink:href=\"#DejaVuSans-49\"/>\r\n       <use x=\"147.412109\" xlink:href=\"#DejaVuSans-46\"/>\r\n       <use x=\"179.199219\" xlink:href=\"#DejaVuSans-48\"/>\r\n      </g>\r\n     </g>\r\n    </g>\r\n    <g id=\"ytick_4\">\r\n     <g id=\"line2d_13\">\r\n      <g>\r\n       <use style=\"stroke:#000000;stroke-width:0.8;\" x=\"38.482813\" xlink:href=\"#m20ed414f43\" y=\"114.945246\"/>\r\n      </g>\r\n     </g>\r\n     <g id=\"text_13\">\r\n      <!-- −0.5 -->\r\n      <g transform=\"translate(7.2 118.744465)scale(0.1 -0.1)\">\r\n       <use xlink:href=\"#DejaVuSans-8722\"/>\r\n       <use x=\"83.789062\" xlink:href=\"#DejaVuSans-48\"/>\r\n       <use x=\"147.412109\" xlink:href=\"#DejaVuSans-46\"/>\r\n       <use x=\"179.199219\" xlink:href=\"#DejaVuSans-53\"/>\r\n      </g>\r\n     </g>\r\n    </g>\r\n    <g id=\"ytick_5\">\r\n     <g id=\"line2d_14\">\r\n      <g>\r\n       <use style=\"stroke:#000000;stroke-width:0.8;\" x=\"38.482813\" xlink:href=\"#m20ed414f43\" y=\"85.129751\"/>\r\n      </g>\r\n     </g>\r\n     <g id=\"text_14\">\r\n      <!-- 0.0 -->\r\n      <g transform=\"translate(15.579688 88.92897)scale(0.1 -0.1)\">\r\n       <use xlink:href=\"#DejaVuSans-48\"/>\r\n       <use x=\"63.623047\" xlink:href=\"#DejaVuSans-46\"/>\r\n       <use x=\"95.410156\" xlink:href=\"#DejaVuSans-48\"/>\r\n      </g>\r\n     </g>\r\n    </g>\r\n    <g id=\"ytick_6\">\r\n     <g id=\"line2d_15\">\r\n      <g>\r\n       <use style=\"stroke:#000000;stroke-width:0.8;\" x=\"38.482813\" xlink:href=\"#m20ed414f43\" y=\"55.314257\"/>\r\n      </g>\r\n     </g>\r\n     <g id=\"text_15\">\r\n      <!-- 0.5 -->\r\n      <g transform=\"translate(15.579688 59.113475)scale(0.1 -0.1)\">\r\n       <use xlink:href=\"#DejaVuSans-48\"/>\r\n       <use x=\"63.623047\" xlink:href=\"#DejaVuSans-46\"/>\r\n       <use x=\"95.410156\" xlink:href=\"#DejaVuSans-53\"/>\r\n      </g>\r\n     </g>\r\n    </g>\r\n    <g id=\"ytick_7\">\r\n     <g id=\"line2d_16\">\r\n      <g>\r\n       <use style=\"stroke:#000000;stroke-width:0.8;\" x=\"38.482813\" xlink:href=\"#m20ed414f43\" y=\"25.498762\"/>\r\n      </g>\r\n     </g>\r\n     <g id=\"text_16\">\r\n      <!-- 1.0 -->\r\n      <g transform=\"translate(15.579688 29.297981)scale(0.1 -0.1)\">\r\n       <use xlink:href=\"#DejaVuSans-49\"/>\r\n       <use x=\"63.623047\" xlink:href=\"#DejaVuSans-46\"/>\r\n       <use x=\"95.410156\" xlink:href=\"#DejaVuSans-48\"/>\r\n      </g>\r\n     </g>\r\n    </g>\r\n   </g>\r\n   <g id=\"line2d_17\">\r\n    <path clip-path=\"url(#pc24559df31)\" d=\"M 53.700994 87.579138 \r\nL 56.775374 105.180356 \r\nL 59.849755 116.688028 \r\nL 62.924135 124.13 \r\nL 65.998515 128.923956 \r\nL 69.072895 132.052398 \r\nL 72.147275 134.189502 \r\nL 75.221655 135.792446 \r\nL 78.296036 137.166687 \r\nL 81.370416 138.512279 \r\nL 84.444796 139.956478 \r\nL 87.519176 141.576521 \r\nL 90.593556 143.415414 \r\nL 93.667936 145.492793 \r\nL 96.742317 147.812335 \r\nL 99.816697 150.366793 \r\nL 102.891077 153.141394 \r\nL 105.965457 156.116132 \r\nL 109.039837 159.267324 \r\nL 112.114217 162.568673 \r\nL 115.188598 165.992013 \r\nL 118.262978 169.507853 \r\nL 121.337358 173.085787 \r\nL 124.411738 176.694824 \r\nL 127.486118 180.303665 \r\nL 130.560498 183.880961 \r\nL 133.634879 187.395533 \r\nL 136.709259 190.8166 \r\nL 139.783639 194.113979 \r\nL 142.858019 197.258292 \r\nL 145.932399 200.221157 \r\nL 149.006779 202.975378 \r\nL 152.08116 205.495115 \r\nL 155.15554 207.756064 \r\nL 158.22992 209.735605 \r\nL 161.3043 211.412958 \r\nL 164.37868 212.769313 \r\nL 167.45306 213.787956 \r\nL 170.527441 214.454376 \r\nL 173.601821 214.756364 \r\nL 176.676201 214.684084 \r\nL 179.750581 214.230148 \r\nL 182.824961 213.389655 \r\nL 185.899341 212.160228 \r\nL 188.973722 210.54203 \r\nL 192.048102 208.537759 \r\nL 195.122482 206.152634 \r\nL 198.196862 203.394358 \r\nL 201.271242 200.273072 \r\nL 204.345622 196.801284 \r\nL 207.420003 192.993789 \r\nL 210.494383 188.867576 \r\nL 213.568763 184.441711 \r\nL 216.643143 179.737217 \r\nL 219.717523 174.776935 \r\nL 222.791903 169.585377 \r\nL 225.866284 164.188561 \r\nL 228.940664 158.613848 \r\nL 232.015044 152.889758 \r\nL 235.089424 147.045786 \r\nL 238.163804 141.112212 \r\nL 241.238184 135.119897 \r\nL 244.312565 129.100087 \r\nL 247.386945 123.084208 \r\nL 250.461325 117.103661 \r\nL 253.535705 111.189613 \r\nL 256.610085 105.372801 \r\nL 259.684465 99.683325 \r\nL 262.758846 94.150454 \r\nL 265.833226 88.802437 \r\nL 268.907606 83.666313 \r\nL 271.981986 78.767741 \r\nL 275.056366 74.130826 \r\nL 278.130746 69.777966 \r\nL 281.205127 65.729698 \r\nL 284.279507 62.004564 \r\nL 287.353887 58.618982 \r\nL 290.428267 55.587123 \r\nL 293.502647 52.92079 \r\nL 296.577027 50.629304 \r\nL 299.651408 48.719354 \r\nL 302.725788 47.194832 \r\nL 305.800168 46.056582 \r\nL 308.874548 45.302039 \r\nL 311.948928 44.924672 \r\nL 315.023308 44.913119 \r\nL 318.097689 45.249831 \r\nL 321.172069 45.908996 \r\nL 324.246449 46.853353 \r\nL 327.320829 48.029377 \r\nL 330.395209 49.360089 \r\nL 333.469589 50.734418 \r\nL 336.54397 51.991632 \r\nL 339.61835 52.898781 \r\nL 342.69273 53.118298 \r\nL 345.76711 52.161903 \r\nL 348.84149 49.325521 \r\nL 351.91587 43.598148 \r\nL 354.990251 33.535186 \r\nL 358.064631 17.083636 \r\n\" style=\"fill:none;stroke:#1f77b4;stroke-linecap:square;stroke-width:1.5;\"/>\r\n   </g>\r\n   <g id=\"patch_3\">\r\n    <path d=\"M 38.482813 224.64 \r\nL 38.482813 7.2 \r\n\" style=\"fill:none;stroke:#000000;stroke-linecap:square;stroke-linejoin:miter;stroke-width:0.8;\"/>\r\n   </g>\r\n   <g id=\"patch_4\">\r\n    <path d=\"M 373.282813 224.64 \r\nL 373.282813 7.2 \r\n\" style=\"fill:none;stroke:#000000;stroke-linecap:square;stroke-linejoin:miter;stroke-width:0.8;\"/>\r\n   </g>\r\n   <g id=\"patch_5\">\r\n    <path d=\"M 38.482812 224.64 \r\nL 373.282812 224.64 \r\n\" style=\"fill:none;stroke:#000000;stroke-linecap:square;stroke-linejoin:miter;stroke-width:0.8;\"/>\r\n   </g>\r\n   <g id=\"patch_6\">\r\n    <path d=\"M 38.482812 7.2 \r\nL 373.282812 7.2 \r\n\" style=\"fill:none;stroke:#000000;stroke-linecap:square;stroke-linejoin:miter;stroke-width:0.8;\"/>\r\n   </g>\r\n  </g>\r\n </g>\r\n <defs>\r\n  <clipPath id=\"pc24559df31\">\r\n   <rect height=\"217.44\" width=\"334.8\" x=\"38.482813\" y=\"7.2\"/>\r\n  </clipPath>\r\n </defs>\r\n</svg>\r\n",
      "image/png": "[encoded data removed]"
     },
     "metadata": {
      "needs_background": "light"
     }
    }
   ],
   "source": [
    "x = np.linspace(-1,1,100)\n",
    "f = lambda x: np.sin(4 * (x - 1/4)) + x + x**20 - 1\n",
    "plt.plot(x, f(x))"
   ]
  },
  {
   "cell_type": "code",
   "execution_count": 3,
   "metadata": {},
   "outputs": [],
   "source": [
    "def bisect(f, lower, upper, tol):\n",
    "    x = (upper + lower) / 2\n",
    "    if np.abs(f(x)) > tol:\n",
    "        if f(x) > 0 : \n",
    "            upper = x \n",
    "        else: \n",
    "            lower = x\n",
    "        return bisect(f, lower, upper, tol)\n",
    "    return x"
   ]
  },
  {
   "cell_type": "code",
   "execution_count": 4,
   "metadata": {},
   "outputs": [
    {
     "output_type": "execute_result",
     "data": {
      "text/plain": [
       "0.408203125"
      ]
     },
     "metadata": {},
     "execution_count": 4
    }
   ],
   "source": [
    "bisect(f, -1, 1, 0.001) # 0.408"
   ]
  },
  {
   "cell_type": "code",
   "execution_count": 5,
   "metadata": {},
   "outputs": [
    {
     "output_type": "execute_result",
     "data": {
      "text/plain": [
       "0.4082935042806639"
      ]
     },
     "metadata": {},
     "execution_count": 5
    }
   ],
   "source": [
    "# verification\n",
    "opt.bisect(f, -1, 1)"
   ]
  },
  {
   "cell_type": "markdown",
   "metadata": {},
   "source": [
    "# 1.2 (stretch) Recursive Bisect\n",
    "\n",
    "Write a recursive version of the bisection algorithm"
   ]
  },
  {
   "cell_type": "code",
   "execution_count": 6,
   "metadata": {},
   "outputs": [
    {
     "output_type": "execute_result",
     "data": {
      "text/plain": [
       "0.408203125"
      ]
     },
     "metadata": {},
     "execution_count": 6
    }
   ],
   "source": [
    "bisect(f, -1, 1, 0.001) # 0.408"
   ]
  },
  {
   "cell_type": "markdown",
   "metadata": {},
   "source": [
    "# 2.1 Movies Regression\n",
    "\n",
    "Write the best linear regression model you can on the [Movies Dataset](https://www.kaggle.com/rounakbanik/the-movies-dataset?select=ratings.csv) to predict the profitability of a movie (revenue - budget). Maintain the interpretability of the model.\n",
    "\n",
    "Few notes:\n",
    "\n",
    "1. Clean your data! Movies where the budget or revenue are invalid should be thrown out\n",
    "\n",
    "2. Be creative with feature engineering. You can include processing to one-hot encode the type of movie, etc.\n",
    "\n",
    "3. The model should be useful for someone **who is thinking about making a movie**. So features like the popularity can't be used. You could, however, use the ratings to figure out if making \"good\" or \"oscar bait\" movies is a profitable strategy."
   ]
  },
  {
   "cell_type": "code",
   "execution_count": 7,
   "metadata": {
    "colab": {},
    "colab_type": "code",
    "id": "WPi9xcx3mywk"
   },
   "outputs": [
    {
     "output_type": "execute_result",
     "data": {
      "text/plain": [
       "   adult  belongs_to_collection      budget  \\\n",
       "0      0                      1  30000000.0   \n",
       "1      0                      0  65000000.0   \n",
       "3      0                      0  16000000.0   \n",
       "5      0                      0  60000000.0   \n",
       "8      0                      0  35000000.0   \n",
       "\n",
       "                                              genres  homepage  \\\n",
       "0  [{'id': 16, 'name': 'Animation'}, {'id': 35, '...         1   \n",
       "1  [{'id': 12, 'name': 'Adventure'}, {'id': 14, '...         0   \n",
       "3  [{'id': 35, 'name': 'Comedy'}, {'id': 18, 'nam...         0   \n",
       "5  [{'id': 28, 'name': 'Action'}, {'id': 80, 'nam...         0   \n",
       "8  [{'id': 28, 'name': 'Action'}, {'id': 12, 'nam...         0   \n",
       "\n",
       "  original_language                               production_companies  \\\n",
       "0                en     [{'name': 'Pixar Animation Studios', 'id': 3}]   \n",
       "1                en  [{'name': 'TriStar Pictures', 'id': 559}, {'na...   \n",
       "3                en  [{'name': 'Twentieth Century Fox Film Corporat...   \n",
       "5                en  [{'name': 'Regency Enterprises', 'id': 508}, {...   \n",
       "8                en  [{'name': 'Universal Pictures', 'id': 33}, {'n...   \n",
       "\n",
       "                                production_countries      revenue  runtime  \\\n",
       "0  [{'iso_3166_1': 'US', 'name': 'United States o...  373554033.0     81.0   \n",
       "1  [{'iso_3166_1': 'US', 'name': 'United States o...  262797249.0    104.0   \n",
       "3  [{'iso_3166_1': 'US', 'name': 'United States o...   81452156.0    127.0   \n",
       "5  [{'iso_3166_1': 'US', 'name': 'United States o...  187436818.0    170.0   \n",
       "8  [{'iso_3166_1': 'US', 'name': 'United States o...   64350171.0    106.0   \n",
       "\n",
       "                                    spoken_languages  video  month    year  \n",
       "0           [{'iso_639_1': 'en', 'name': 'English'}]      0   10.0  1995.0  \n",
       "1  [{'iso_639_1': 'en', 'name': 'English'}, {'iso...      0   12.0  1995.0  \n",
       "3           [{'iso_639_1': 'en', 'name': 'English'}]      0   12.0  1995.0  \n",
       "5  [{'iso_639_1': 'en', 'name': 'English'}, {'iso...      0   12.0  1995.0  \n",
       "8           [{'iso_639_1': 'en', 'name': 'English'}]      0   12.0  1995.0  "
      ],
      "text/html": "<div>\n<style scoped>\n    .dataframe tbody tr th:only-of-type {\n        vertical-align: middle;\n    }\n\n    .dataframe tbody tr th {\n        vertical-align: top;\n    }\n\n    .dataframe thead th {\n        text-align: right;\n    }\n</style>\n<table border=\"1\" class=\"dataframe\">\n  <thead>\n    <tr style=\"text-align: right;\">\n      <th></th>\n      <th>adult</th>\n      <th>belongs_to_collection</th>\n      <th>budget</th>\n      <th>genres</th>\n      <th>homepage</th>\n      <th>original_language</th>\n      <th>production_companies</th>\n      <th>production_countries</th>\n      <th>revenue</th>\n      <th>runtime</th>\n      <th>spoken_languages</th>\n      <th>video</th>\n      <th>month</th>\n      <th>year</th>\n    </tr>\n  </thead>\n  <tbody>\n    <tr>\n      <th>0</th>\n      <td>0</td>\n      <td>1</td>\n      <td>30000000.0</td>\n      <td>[{'id': 16, 'name': 'Animation'}, {'id': 35, '...</td>\n      <td>1</td>\n      <td>en</td>\n      <td>[{'name': 'Pixar Animation Studios', 'id': 3}]</td>\n      <td>[{'iso_3166_1': 'US', 'name': 'United States o...</td>\n      <td>373554033.0</td>\n      <td>81.0</td>\n      <td>[{'iso_639_1': 'en', 'name': 'English'}]</td>\n      <td>0</td>\n      <td>10.0</td>\n      <td>1995.0</td>\n    </tr>\n    <tr>\n      <th>1</th>\n      <td>0</td>\n      <td>0</td>\n      <td>65000000.0</td>\n      <td>[{'id': 12, 'name': 'Adventure'}, {'id': 14, '...</td>\n      <td>0</td>\n      <td>en</td>\n      <td>[{'name': 'TriStar Pictures', 'id': 559}, {'na...</td>\n      <td>[{'iso_3166_1': 'US', 'name': 'United States o...</td>\n      <td>262797249.0</td>\n      <td>104.0</td>\n      <td>[{'iso_639_1': 'en', 'name': 'English'}, {'iso...</td>\n      <td>0</td>\n      <td>12.0</td>\n      <td>1995.0</td>\n    </tr>\n    <tr>\n      <th>3</th>\n      <td>0</td>\n      <td>0</td>\n      <td>16000000.0</td>\n      <td>[{'id': 35, 'name': 'Comedy'}, {'id': 18, 'nam...</td>\n      <td>0</td>\n      <td>en</td>\n      <td>[{'name': 'Twentieth Century Fox Film Corporat...</td>\n      <td>[{'iso_3166_1': 'US', 'name': 'United States o...</td>\n      <td>81452156.0</td>\n      <td>127.0</td>\n      <td>[{'iso_639_1': 'en', 'name': 'English'}]</td>\n      <td>0</td>\n      <td>12.0</td>\n      <td>1995.0</td>\n    </tr>\n    <tr>\n      <th>5</th>\n      <td>0</td>\n      <td>0</td>\n      <td>60000000.0</td>\n      <td>[{'id': 28, 'name': 'Action'}, {'id': 80, 'nam...</td>\n      <td>0</td>\n      <td>en</td>\n      <td>[{'name': 'Regency Enterprises', 'id': 508}, {...</td>\n      <td>[{'iso_3166_1': 'US', 'name': 'United States o...</td>\n      <td>187436818.0</td>\n      <td>170.0</td>\n      <td>[{'iso_639_1': 'en', 'name': 'English'}, {'iso...</td>\n      <td>0</td>\n      <td>12.0</td>\n      <td>1995.0</td>\n    </tr>\n    <tr>\n      <th>8</th>\n      <td>0</td>\n      <td>0</td>\n      <td>35000000.0</td>\n      <td>[{'id': 28, 'name': 'Action'}, {'id': 12, 'nam...</td>\n      <td>0</td>\n      <td>en</td>\n      <td>[{'name': 'Universal Pictures', 'id': 33}, {'n...</td>\n      <td>[{'iso_3166_1': 'US', 'name': 'United States o...</td>\n      <td>64350171.0</td>\n      <td>106.0</td>\n      <td>[{'iso_639_1': 'en', 'name': 'English'}]</td>\n      <td>0</td>\n      <td>12.0</td>\n      <td>1995.0</td>\n    </tr>\n  </tbody>\n</table>\n</div>"
     },
     "metadata": {},
     "execution_count": 7
    }
   ],
   "source": [
    "df = pd.read_csv('data/movies_metadata.csv')\n",
    "\n",
    "# drop rows of Unreleased movies\n",
    "df = df[df.status == 'Released']\n",
    "\n",
    "# drop columns unique to the row\n",
    "df = df.drop(columns=['id', 'imdb_id', 'original_title', 'overview', 'poster_path', 'tagline', 'title', 'status'])\n",
    "\n",
    "# covert to boolean\n",
    "df['adult'] = df['adult'].replace(('False', 'True'), (0,1))\n",
    "df['belongs_to_collection'] = df['belongs_to_collection'].notna().replace((False, True), (0,1))\n",
    "df['homepage'] = df['homepage'].notna().replace((False, True), (0,1))\n",
    "df['video'] = df['video'].replace((False, True), (0,1))\n",
    "\n",
    "# covert to date\n",
    "df['release_date'] = pd.to_datetime(df['release_date'], format = '%Y-%m-%d', errors='coerce')\n",
    "df['day'] = df['release_date'].dt.day\n",
    "df['month'] = df['release_date'].dt.month\n",
    "df['year'] = df['release_date'].dt.year\n",
    "\n",
    "# drop features correlated to the popularity (after the fact)\n",
    "df = df.drop(columns=['popularity', 'vote_average', 'vote_count', 'release_date', 'day'])\n",
    "\n",
    "# fix revenue = 0, NaN budget = 0\n",
    "df['budget'] = df['budget'].astype('int')\n",
    "df.loc[df['budget'] == 0, 'budget'] = np.nan\n",
    "df.loc[df['revenue'] == 0, 'revenue'] = np.nan\n",
    "\n",
    "na = df.isnull().sum().to_frame(name = 'na')\n",
    "na = na.loc[na.na != 0]\n",
    "na\n",
    "\n",
    "df = df.dropna()\n",
    "df.head()"
   ]
  },
  {
   "cell_type": "code",
   "execution_count": 8,
   "metadata": {},
   "outputs": [],
   "source": [
    "# drop columns non numerical columns (for now)\n",
    "df = df.drop(columns=['genres', 'production_companies', 'production_countries', 'spoken_languages'])\n",
    "df = df.drop(columns=['original_language'])\n",
    "\n",
    "#json_features = ['genres', 'production_companies', 'production_countries', 'spoken_languages']\n",
    "if 'json_featuresif' in locals():\n",
    "    for f in json_features:\n",
    "        df[f] = (df[f]\n",
    "            .apply(eval)\n",
    "            .apply(lambda row : [d['name'] for d in row])\n",
    "            .astype(str)\n",
    "            .apply(eval)\n",
    "            )\n",
    "\n",
    "    for f in json_features:\n",
    "        df = df.join(pd.get_dummies(df[f].apply(pd.Series), prefix=f, prefix_sep=\"_\", drop_first=True)).drop(columns=[f])"
   ]
  },
  {
   "cell_type": "code",
   "execution_count": 9,
   "metadata": {},
   "outputs": [
    {
     "output_type": "execute_result",
     "data": {
      "text/plain": [
       "belongs_to_collection    1.223000e+03\n",
       "budget                   1.673032e+11\n",
       "homepage                 1.913000e+03\n",
       "revenue                  4.859818e+11\n",
       "runtime                  5.904820e+05\n",
       "month                    3.732100e+04\n",
       "year                     1.075066e+07\n",
       "dtype: float64"
      ]
     },
     "metadata": {},
     "execution_count": 9
    }
   ],
   "source": [
    "# drop column containing only zeros\n",
    "df = df.drop(columns=['adult', 'video'])\n",
    "df.sum()"
   ]
  },
  {
   "cell_type": "code",
   "execution_count": 10,
   "metadata": {},
   "outputs": [
    {
     "output_type": "stream",
     "name": "stderr",
     "text": [
      "C:\\Users\\user\\anaconda3\\lib\\site-packages\\statsmodels\\base\\model.py:1830: ValueWarning: covariance of constraints does not have full rank. The number of constraints is 6, but rank is 5\n  warnings.warn('covariance of constraints does not have full '\n"
     ]
    },
    {
     "output_type": "execute_result",
     "data": {
      "text/plain": [
       "<class 'statsmodels.iolib.summary.Summary'>\n",
       "\"\"\"\n",
       "                            OLS Regression Results                            \n",
       "==============================================================================\n",
       "Dep. Variable:                revenue   R-squared:                       0.585\n",
       "Model:                            OLS   Adj. R-squared:                  0.585\n",
       "Method:                 Least Squares   F-statistic:                     78.43\n",
       "Date:                Fri, 29 Jan 2021   Prob (F-statistic):           1.21e-79\n",
       "Time:                        19:04:47   Log-Likelihood:            -1.0702e+05\n",
       "No. Observations:                5376   AIC:                         2.141e+05\n",
       "Df Residuals:                    5369   BIC:                         2.141e+05\n",
       "Df Model:                           6                                         \n",
       "Covariance Type:                  HC2                                         \n",
       "=========================================================================================\n",
       "                            coef    std err          z      P>|z|      [0.025      0.975]\n",
       "-----------------------------------------------------------------------------------------\n",
       "const                  9.104e+08   1.49e+08      6.129      0.000    6.19e+08     1.2e+09\n",
       "belongs_to_collection   8.03e+07   4.48e+06     17.927      0.000    7.15e+07    8.91e+07\n",
       "budget                    2.7290      0.097     28.163      0.000       2.539       2.919\n",
       "homepage                 3.6e+07   3.19e+06     11.274      0.000    2.97e+07    4.23e+07\n",
       "runtime                5.453e+05   8.34e+04      6.541      0.000    3.82e+05    7.09e+05\n",
       "month                  4.577e+05   4.14e+05      1.106      0.269   -3.53e+05    1.27e+06\n",
       "year                  -4.996e+05   7.53e+04     -6.635      0.000   -6.47e+05   -3.52e+05\n",
       "==============================================================================\n",
       "Omnibus:                     4717.134   Durbin-Watson:                   1.963\n",
       "Prob(Omnibus):                  0.000   Jarque-Bera (JB):           420590.933\n",
       "Skew:                           3.766   Prob(JB):                         0.00\n",
       "Kurtosis:                      45.672   Cond. No.                     7.09e+09\n",
       "==============================================================================\n",
       "\n",
       "Warnings:\n",
       "[1] Standard Errors are heteroscedasticity robust (HC2)\n",
       "[2] The condition number is large, 7.09e+09. This might indicate that there are\n",
       "strong multicollinearity or other numerical problems.\n",
       "\"\"\""
      ],
      "text/html": "<table class=\"simpletable\">\n<caption>OLS Regression Results</caption>\n<tr>\n  <th>Dep. Variable:</th>         <td>revenue</td>     <th>  R-squared:         </th>  <td>   0.585</td>  \n</tr>\n<tr>\n  <th>Model:</th>                   <td>OLS</td>       <th>  Adj. R-squared:    </th>  <td>   0.585</td>  \n</tr>\n<tr>\n  <th>Method:</th>             <td>Least Squares</td>  <th>  F-statistic:       </th>  <td>   78.43</td>  \n</tr>\n<tr>\n  <th>Date:</th>             <td>Fri, 29 Jan 2021</td> <th>  Prob (F-statistic):</th>  <td>1.21e-79</td>  \n</tr>\n<tr>\n  <th>Time:</th>                 <td>19:04:47</td>     <th>  Log-Likelihood:    </th> <td>-1.0702e+05</td>\n</tr>\n<tr>\n  <th>No. Observations:</th>      <td>  5376</td>      <th>  AIC:               </th>  <td>2.141e+05</td> \n</tr>\n<tr>\n  <th>Df Residuals:</th>          <td>  5369</td>      <th>  BIC:               </th>  <td>2.141e+05</td> \n</tr>\n<tr>\n  <th>Df Model:</th>              <td>     6</td>      <th>                     </th>      <td> </td>     \n</tr>\n<tr>\n  <th>Covariance Type:</th>         <td>HC2</td>       <th>                     </th>      <td> </td>     \n</tr>\n</table>\n<table class=\"simpletable\">\n<tr>\n            <td></td>               <th>coef</th>     <th>std err</th>      <th>z</th>      <th>P>|z|</th>  <th>[0.025</th>    <th>0.975]</th>  \n</tr>\n<tr>\n  <th>const</th>                 <td> 9.104e+08</td> <td> 1.49e+08</td> <td>    6.129</td> <td> 0.000</td> <td> 6.19e+08</td> <td>  1.2e+09</td>\n</tr>\n<tr>\n  <th>belongs_to_collection</th> <td>  8.03e+07</td> <td> 4.48e+06</td> <td>   17.927</td> <td> 0.000</td> <td> 7.15e+07</td> <td> 8.91e+07</td>\n</tr>\n<tr>\n  <th>budget</th>                <td>    2.7290</td> <td>    0.097</td> <td>   28.163</td> <td> 0.000</td> <td>    2.539</td> <td>    2.919</td>\n</tr>\n<tr>\n  <th>homepage</th>              <td>   3.6e+07</td> <td> 3.19e+06</td> <td>   11.274</td> <td> 0.000</td> <td> 2.97e+07</td> <td> 4.23e+07</td>\n</tr>\n<tr>\n  <th>runtime</th>               <td> 5.453e+05</td> <td> 8.34e+04</td> <td>    6.541</td> <td> 0.000</td> <td> 3.82e+05</td> <td> 7.09e+05</td>\n</tr>\n<tr>\n  <th>month</th>                 <td> 4.577e+05</td> <td> 4.14e+05</td> <td>    1.106</td> <td> 0.269</td> <td>-3.53e+05</td> <td> 1.27e+06</td>\n</tr>\n<tr>\n  <th>year</th>                  <td>-4.996e+05</td> <td> 7.53e+04</td> <td>   -6.635</td> <td> 0.000</td> <td>-6.47e+05</td> <td>-3.52e+05</td>\n</tr>\n</table>\n<table class=\"simpletable\">\n<tr>\n  <th>Omnibus:</th>       <td>4717.134</td> <th>  Durbin-Watson:     </th>  <td>   1.963</td> \n</tr>\n<tr>\n  <th>Prob(Omnibus):</th>  <td> 0.000</td>  <th>  Jarque-Bera (JB):  </th> <td>420590.933</td>\n</tr>\n<tr>\n  <th>Skew:</th>           <td> 3.766</td>  <th>  Prob(JB):          </th>  <td>    0.00</td> \n</tr>\n<tr>\n  <th>Kurtosis:</th>       <td>45.672</td>  <th>  Cond. No.          </th>  <td>7.09e+09</td> \n</tr>\n</table><br/><br/>Warnings:<br/>[1] Standard Errors are heteroscedasticity robust (HC2)<br/>[2] The condition number is large, 7.09e+09. This might indicate that there are<br/>strong multicollinearity or other numerical problems."
     },
     "metadata": {},
     "execution_count": 10
    }
   ],
   "source": [
    "y = df['revenue']\n",
    "X = df.drop(columns='revenue')\n",
    "\n",
    "est = sm.OLS(y, sm.add_constant(X)).fit(cov_type='HC2')\n",
    "est.summary()"
   ]
  },
  {
   "cell_type": "code",
   "execution_count": 11,
   "metadata": {},
   "outputs": [],
   "source": [
    "#dropcol = (est.pvalues >= 0.05)\n",
    "#dropcol = dropcol[dropcol==True].index\n",
    "#X2 = X.drop(columns=dropcol)\n",
    "#est2 = sm.OLS(y,sm.add_constant(X2)).fit(cov_type='HC2')\n",
    "#est2.summary()"
   ]
  },
  {
   "cell_type": "markdown",
   "metadata": {},
   "source": [
    "# 2.2 Movies Manual Regression\n",
    "\n",
    "Use your `X` and `y` matrix from 2.1 to calculate the linear regression yourself using the normal equation $(X^T X)^{-1}X^Ty$.\n",
    "\n",
    "Verify that the coefficients are the same."
   ]
  },
  {
   "cell_type": "code",
   "execution_count": 12,
   "metadata": {},
   "outputs": [
    {
     "output_type": "execute_result",
     "data": {
      "text/plain": [
       "0    9.104082e+08\n",
       "1    8.029535e+07\n",
       "2    2.729012e+00\n",
       "3    3.600434e+07\n",
       "4    5.453352e+05\n",
       "5    4.577108e+05\n",
       "6   -4.996080e+05\n",
       "dtype: float64"
      ]
     },
     "metadata": {},
     "execution_count": 12
    }
   ],
   "source": [
    "# Returns array with [intercept, slope]\n",
    "Xc = sm.add_constant(X.copy())\n",
    "\n",
    "beta = np.linalg.inv(Xc.T @ Xc) @ Xc.T @ y\n",
    "beta"
   ]
  },
  {
   "cell_type": "code",
   "execution_count": 13,
   "metadata": {},
   "outputs": [
    {
     "output_type": "execute_result",
     "data": {
      "text/plain": [
       "<class 'statsmodels.iolib.table.SimpleTable'>"
      ],
      "text/html": "<table class=\"simpletable\">\n<tr>\n            <td></td>               <th>coef</th>     <th>std err</th>      <th>z</th>      <th>P>|z|</th>  <th>[0.025</th>    <th>0.975]</th>  \n</tr>\n<tr>\n  <th>const</th>                 <td> 9.104e+08</td> <td> 1.49e+08</td> <td>    6.129</td> <td> 0.000</td> <td> 6.19e+08</td> <td>  1.2e+09</td>\n</tr>\n<tr>\n  <th>belongs_to_collection</th> <td>  8.03e+07</td> <td> 4.48e+06</td> <td>   17.927</td> <td> 0.000</td> <td> 7.15e+07</td> <td> 8.91e+07</td>\n</tr>\n<tr>\n  <th>budget</th>                <td>    2.7290</td> <td>    0.097</td> <td>   28.163</td> <td> 0.000</td> <td>    2.539</td> <td>    2.919</td>\n</tr>\n<tr>\n  <th>homepage</th>              <td>   3.6e+07</td> <td> 3.19e+06</td> <td>   11.274</td> <td> 0.000</td> <td> 2.97e+07</td> <td> 4.23e+07</td>\n</tr>\n<tr>\n  <th>runtime</th>               <td> 5.453e+05</td> <td> 8.34e+04</td> <td>    6.541</td> <td> 0.000</td> <td> 3.82e+05</td> <td> 7.09e+05</td>\n</tr>\n<tr>\n  <th>month</th>                 <td> 4.577e+05</td> <td> 4.14e+05</td> <td>    1.106</td> <td> 0.269</td> <td>-3.53e+05</td> <td> 1.27e+06</td>\n</tr>\n<tr>\n  <th>year</th>                  <td>-4.996e+05</td> <td> 7.53e+04</td> <td>   -6.635</td> <td> 0.000</td> <td>-6.47e+05</td> <td>-3.52e+05</td>\n</tr>\n</table>"
     },
     "metadata": {},
     "execution_count": 13
    }
   ],
   "source": [
    "est.summary().tables[1]"
   ]
  },
  {
   "cell_type": "markdown",
   "metadata": {},
   "source": [
    "# 2.3 Movies gradient descent regression\n",
    "\n",
    "Use your `X` and `y` matrix from 2.1 to calculate the linear regression yourself using **gradient descent**. \n",
    "\n",
    "Hint: use `scipy.optimize` and remember we're finding the $\\beta$ that minimizes the squared loss function of linear regression: $f(\\beta) = (\\beta X - y)^2$. This will look like part 3 of this lecture.\n",
    "\n",
    "Verify your coefficients are similar to the ones in 2.1 and 2.2. They won't necessarily be exactly the same, but should be roughly similar."
   ]
  },
  {
   "cell_type": "code",
   "execution_count": 14,
   "metadata": {},
   "outputs": [],
   "source": [
    "def GradientDescent(betas, y, x):\n",
    "    sq_loss = np.sum( (np.dot(x, betas) - y) ** 2 )\n",
    "    return sq_loss"
   ]
  },
  {
   "cell_type": "code",
   "execution_count": 15,
   "metadata": {},
   "outputs": [
    {
     "output_type": "execute_result",
     "data": {
      "text/plain": [
       "array([-9.03292366e+07,  8.20200999e+07,  2.68498327e+00,  3.07130391e+07,\n",
       "        5.79176139e+05,  6.04544390e+05, -1.39448525e+02])"
      ]
     },
     "metadata": {},
     "execution_count": 15
    }
   ],
   "source": [
    "from scipy.optimize import minimize\n",
    "\n",
    "# get x values with constant\n",
    "y = df['revenue']\n",
    "x = sm.add_constant(df.drop(columns='revenue'))\n",
    "\n",
    "#create beta hat vector to maximize on (initiatlized with zeros)\n",
    "betas = np.zeros(np.shape(x)[1])\n",
    "\n",
    "#unvectorized MLE estimation\n",
    "#dg_est = minimize(GradientDescent, betas, args=(y,x), method='bfgs')\n",
    "dg_est = minimize(GradientDescent, betas, args=(y,x), method='Powell')\n",
    "\n",
    "#print vector of maximized betahats\n",
    "dg_est['x']"
   ]
  },
  {
   "cell_type": "code",
   "execution_count": 16,
   "metadata": {},
   "outputs": [
    {
     "output_type": "execute_result",
     "data": {
      "text/plain": [
       "0    9.104082e+08\n",
       "1    8.029535e+07\n",
       "2    2.729012e+00\n",
       "3    3.600434e+07\n",
       "4    5.453352e+05\n",
       "5    4.577108e+05\n",
       "6   -4.996080e+05\n",
       "dtype: float64"
      ]
     },
     "metadata": {},
     "execution_count": 16
    }
   ],
   "source": [
    "beta"
   ]
  },
  {
   "cell_type": "code",
   "execution_count": null,
   "metadata": {},
   "outputs": [],
   "source": []
  }
 ],
 "metadata": {
  "colab": {
   "authorship_tag": "ABX9TyPIPzivigAhB3FeR6Q96N8T",
   "collapsed_sections": [],
   "name": "Workshop: Maximum likelihood.ipynb",
   "provenance": []
  },
  "kernelspec": {
   "name": "python3",
   "display_name": "Python 3.8.3 64-bit (conda)",
   "metadata": {
    "interpreter": {
     "hash": "6d46af94c2bbce495f1e668725902fa517c90b1782bcfe2fce0dd9868df553d3"
    }
   }
  },
  "language_info": {
   "codemirror_mode": {
    "name": "ipython",
    "version": 3
   },
   "file_extension": ".py",
   "mimetype": "text/x-python",
   "name": "python",
   "nbconvert_exporter": "python",
   "pygments_lexer": "ipython3",
   "version": "3.8.3-final"
  }
 },
 "nbformat": 4,
 "nbformat_minor": 1
}