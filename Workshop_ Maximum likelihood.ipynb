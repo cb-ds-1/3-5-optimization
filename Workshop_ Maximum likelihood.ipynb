{
 "cells": [
  {
   "cell_type": "markdown",
   "metadata": {},
   "source": [
    "# 1. Bisection\n",
    "\n",
    "\n",
    "One of the most common algorithms for numerical root-finding is *bisection*.\n",
    "\n",
    "To understand the idea, recall the well-known game where:\n",
    "\n",
    "- Player A thinks of a secret number between 1 and 100  \n",
    "- Player B asks if it’s less than 50  \n",
    "  \n",
    "  - If yes, B asks if it’s less than 25  \n",
    "  - If no, B asks if it’s less than 75  \n",
    "  \n",
    "\n",
    "And so on.\n",
    "\n",
    "This is bisection, a relative of [binary search](https://en.wikipedia.org/wiki/Binary_search_algorithm). It works for all sufficiently well behaved increasing continuous functions with $ f(a) < 0 < f(b) $. \n",
    "\n",
    "Write an implementation of the bisection algorith, `bisect(f, lower, upper, tol)` which, given a function `f`, a lower bound `lower` and an upper bound `upper` finds the point `x` where `f(x) = 0`. The parameter `tol` is a numerical tolerance, you should stop once your step size is smaller than `tol`.\n",
    "\n",
    "\n",
    "Use it to minimize the function:\n",
    "\n",
    "$$\n",
    "f(x) = \\sin(4 (x - 1/4)) + x + x^{20} - 1 \\tag{2}\n",
    "$$\n",
    "\n",
    "in python: `lambda x: np.sin(4 * (x - 1/4)) + x + x**20 - 1`\n",
    "\n",
    "The value where f(x) = 0 should be around `0.408`"
   ]
  },
  {
   "cell_type": "code",
   "execution_count": 67,
   "metadata": {},
   "outputs": [],
   "source": [
    "import numpy as np\n",
    "import matplotlib.pyplot as plt\n"
   ]
  },
  {
   "cell_type": "code",
   "execution_count": 126,
   "metadata": {},
   "outputs": [
    {
     "output_type": "stream",
     "name": "stdout",
     "text": [
      "-1 1\n0.0 1\n0.0 0.5\n0.25 0.5\n0.375 0.5\n0.375 0.4375\n0.40625 0.4375\n0.40625 0.421875\n0.40625 0.4140625\n0.40625 0.41015625\n0.408203125 0.41015625\n"
     ]
    },
    {
     "output_type": "execute_result",
     "data": {
      "text/plain": [
       "0.40869140625"
      ]
     },
     "metadata": {},
     "execution_count": 126
    }
   ],
   "source": [
    "import numpy as np\n",
    "\n",
    "def bisect(f, lower, upper, tol):\n",
    "    #This means we didn't pick lower and upper values between which the function crosses 0. \n",
    "    if f(lower)*f(upper) >= 0: \n",
    "        print(\"Bisection method fails 1.\")\n",
    "        return None\n",
    "    lower_n = lower\n",
    "    upper_n = upper\n",
    "\n",
    "    #Because it'll keep going till we hit the precision with which we want the answer\n",
    "    while abs(lower_n - upper_n) > tol: \n",
    "        print(lower_n, upper_n)\n",
    "        middle_n = (lower_n + upper_n)/2\n",
    "        f_m_n = f(middle_n)\n",
    "        #If this value is neg (means function crosses 0 between the values), that means the lower value stays our lower value and the middle value because the upper.\n",
    "        if f(lower_n)*f_m_n < 0:\n",
    "            # lower_n = lower_n\n",
    "            upper_n = middle_n\n",
    "        #If this value is neg, then middle value because lower valuer and upper remains upper. \n",
    "        elif f(upper_n)*f_m_n < 0:\n",
    "            lower_n = middle_n\n",
    "            # upper_n = upper_n\n",
    "        elif f_m_n == 0:\n",
    "            print(\"Found exact solution.\")\n",
    "            return middle_n\n",
    "        else:\n",
    "            print(\"Bisection method fails 2.\")\n",
    "            return None\n",
    "    return (lower_n + upper_n)/2\n",
    "\n",
    "f = (lambda x: np.sin(4 * (x - 1/4)) + x + x**20 - 1)\n",
    "\n",
    "bisect(f, -1, 1, 0.001)"
   ]
  },
  {
   "cell_type": "code",
   "execution_count": 108,
   "metadata": {},
   "outputs": [
    {
     "output_type": "stream",
     "name": "stdout",
     "text": [
      "min:0.4082935042806639\n"
     ]
    }
   ],
   "source": [
    "# confirms the answer: \n",
    "import scipy.optimize as opt \n",
    "\n",
    "x_min = opt.bisect(f, -1, 1)\n",
    "\n",
    "print(f\"min:{x_min}\")"
   ]
  },
  {
   "cell_type": "markdown",
   "metadata": {},
   "source": [
    "# 1.2 (stretch) Recursive Bisect\n",
    "\n",
    "Write a recursive version of the bisection algorithm"
   ]
  },
  {
   "cell_type": "code",
   "execution_count": 69,
   "metadata": {
    "tags": []
   },
   "outputs": [
    {
     "output_type": "execute_result",
     "data": {
      "text/plain": [
       "0.408203125"
      ]
     },
     "metadata": {},
     "execution_count": 69
    }
   ],
   "source": [
    "f = (lambda x: np.sin(4 * (x - 1/4)) + x + x**20 - 1)\n",
    "\n",
    "def recursive_bisect(f, lower, upper, tol):\n",
    "    x = (upper + lower) / 2\n",
    "\n",
    "    if f(lower)*f(upper) >= 0: \n",
    "        return f\"Function does not cross y=0 between x={lower} and x={upper}\"\n",
    "\n",
    "    if np.abs(f(x)) > tol:\n",
    "        if f(x) > 0 : \n",
    "            upper = x \n",
    "        else: \n",
    "            lower = x\n",
    "        return recursive_bisect(f, lower, upper, tol)\n",
    "    return x\n",
    "\n",
    "recursive_bisect(f, -1, 1, 0.001)\n",
    "\n",
    "# does not work well with negative values, and in plot below it shows that there are actually 2 locations for x where y=0"
   ]
  },
  {
   "cell_type": "code",
   "execution_count": 111,
   "metadata": {},
   "outputs": [
    {
     "output_type": "execute_result",
     "data": {
      "text/plain": [
       "<matplotlib.collections.PathCollection at 0x7fe78fc74880>"
      ]
     },
     "metadata": {},
     "execution_count": 111
    },
    {
     "output_type": "display_data",
     "data": {
      "text/plain": "<Figure size 360x216 with 1 Axes>",
      "image/svg+xml": "<?xml version=\"1.0\" encoding=\"utf-8\" standalone=\"no\"?>\n<!DOCTYPE svg PUBLIC \"-//W3C//DTD SVG 1.1//EN\"\n  \"http://www.w3.org/Graphics/SVG/1.1/DTD/svg11.dtd\">\n<!-- Created with matplotlib (https://matplotlib.org/) -->\n<svg height=\"194.158125pt\" version=\"1.1\" viewBox=\"0 0 315.142187 194.158125\" width=\"315.142187pt\" xmlns=\"http://www.w3.org/2000/svg\" xmlns:xlink=\"http://www.w3.org/1999/xlink\">\n <defs>\n  <style type=\"text/css\">\n*{stroke-linecap:butt;stroke-linejoin:round;}\n  </style>\n </defs>\n <g id=\"figure_1\">\n  <g id=\"patch_1\">\n   <path d=\"M 0 194.158125 \nL 315.142187 194.158125 \nL 315.142187 0 \nL 0 0 \nz\n\" style=\"fill:none;\"/>\n  </g>\n  <g id=\"axes_1\">\n   <g id=\"patch_2\">\n    <path d=\"M 28.942187 170.28 \nL 307.942187 170.28 \nL 307.942187 7.2 \nL 28.942187 7.2 \nz\n\" style=\"fill:#ffffff;\"/>\n   </g>\n   <g id=\"matplotlib.axis_1\">\n    <g id=\"xtick_1\">\n     <g id=\"line2d_1\">\n      <defs>\n       <path d=\"M 0 0 \nL 0 3.5 \n\" id=\"mb582f577fc\" style=\"stroke:#000000;stroke-width:0.8;\"/>\n      </defs>\n      <g>\n       <use style=\"stroke:#000000;stroke-width:0.8;\" x=\"47.810258\" xlink:href=\"#mb582f577fc\" y=\"170.28\"/>\n      </g>\n     </g>\n     <g id=\"text_1\">\n      <!-- −1.0 -->\n      <defs>\n       <path d=\"M 10.59375 35.5 \nL 73.1875 35.5 \nL 73.1875 27.203125 \nL 10.59375 27.203125 \nz\n\" id=\"DejaVuSans-8722\"/>\n       <path d=\"M 12.40625 8.296875 \nL 28.515625 8.296875 \nL 28.515625 63.921875 \nL 10.984375 60.40625 \nL 10.984375 69.390625 \nL 28.421875 72.90625 \nL 38.28125 72.90625 \nL 38.28125 8.296875 \nL 54.390625 8.296875 \nL 54.390625 0 \nL 12.40625 0 \nz\n\" id=\"DejaVuSans-49\"/>\n       <path d=\"M 10.6875 12.40625 \nL 21 12.40625 \nL 21 0 \nL 10.6875 0 \nz\n\" id=\"DejaVuSans-46\"/>\n       <path d=\"M 31.78125 66.40625 \nQ 24.171875 66.40625 20.328125 58.90625 \nQ 16.5 51.421875 16.5 36.375 \nQ 16.5 21.390625 20.328125 13.890625 \nQ 24.171875 6.390625 31.78125 6.390625 \nQ 39.453125 6.390625 43.28125 13.890625 \nQ 47.125 21.390625 47.125 36.375 \nQ 47.125 51.421875 43.28125 58.90625 \nQ 39.453125 66.40625 31.78125 66.40625 \nz\nM 31.78125 74.21875 \nQ 44.046875 74.21875 50.515625 64.515625 \nQ 56.984375 54.828125 56.984375 36.375 \nQ 56.984375 17.96875 50.515625 8.265625 \nQ 44.046875 -1.421875 31.78125 -1.421875 \nQ 19.53125 -1.421875 13.0625 8.265625 \nQ 6.59375 17.96875 6.59375 36.375 \nQ 6.59375 54.828125 13.0625 64.515625 \nQ 19.53125 74.21875 31.78125 74.21875 \nz\n\" id=\"DejaVuSans-48\"/>\n      </defs>\n      <g transform=\"translate(35.668852 184.878438)scale(0.1 -0.1)\">\n       <use xlink:href=\"#DejaVuSans-8722\"/>\n       <use x=\"83.789062\" xlink:href=\"#DejaVuSans-49\"/>\n       <use x=\"147.412109\" xlink:href=\"#DejaVuSans-46\"/>\n       <use x=\"179.199219\" xlink:href=\"#DejaVuSans-48\"/>\n      </g>\n     </g>\n    </g>\n    <g id=\"xtick_2\">\n     <g id=\"line2d_2\">\n      <g>\n       <use style=\"stroke:#000000;stroke-width:0.8;\" x=\"109.672786\" xlink:href=\"#mb582f577fc\" y=\"170.28\"/>\n      </g>\n     </g>\n     <g id=\"text_2\">\n      <!-- −0.5 -->\n      <defs>\n       <path d=\"M 10.796875 72.90625 \nL 49.515625 72.90625 \nL 49.515625 64.59375 \nL 19.828125 64.59375 \nL 19.828125 46.734375 \nQ 21.96875 47.46875 24.109375 47.828125 \nQ 26.265625 48.1875 28.421875 48.1875 \nQ 40.625 48.1875 47.75 41.5 \nQ 54.890625 34.8125 54.890625 23.390625 \nQ 54.890625 11.625 47.5625 5.09375 \nQ 40.234375 -1.421875 26.90625 -1.421875 \nQ 22.3125 -1.421875 17.546875 -0.640625 \nQ 12.796875 0.140625 7.71875 1.703125 \nL 7.71875 11.625 \nQ 12.109375 9.234375 16.796875 8.0625 \nQ 21.484375 6.890625 26.703125 6.890625 \nQ 35.15625 6.890625 40.078125 11.328125 \nQ 45.015625 15.765625 45.015625 23.390625 \nQ 45.015625 31 40.078125 35.4375 \nQ 35.15625 39.890625 26.703125 39.890625 \nQ 22.75 39.890625 18.8125 39.015625 \nQ 14.890625 38.140625 10.796875 36.28125 \nz\n\" id=\"DejaVuSans-53\"/>\n      </defs>\n      <g transform=\"translate(97.53138 184.878438)scale(0.1 -0.1)\">\n       <use xlink:href=\"#DejaVuSans-8722\"/>\n       <use x=\"83.789062\" xlink:href=\"#DejaVuSans-48\"/>\n       <use x=\"147.412109\" xlink:href=\"#DejaVuSans-46\"/>\n       <use x=\"179.199219\" xlink:href=\"#DejaVuSans-53\"/>\n      </g>\n     </g>\n    </g>\n    <g id=\"xtick_3\">\n     <g id=\"line2d_3\">\n      <g>\n       <use style=\"stroke:#000000;stroke-width:0.8;\" x=\"171.535314\" xlink:href=\"#mb582f577fc\" y=\"170.28\"/>\n      </g>\n     </g>\n     <g id=\"text_3\">\n      <!-- 0.0 -->\n      <g transform=\"translate(163.583751 184.878438)scale(0.1 -0.1)\">\n       <use xlink:href=\"#DejaVuSans-48\"/>\n       <use x=\"63.623047\" xlink:href=\"#DejaVuSans-46\"/>\n       <use x=\"95.410156\" xlink:href=\"#DejaVuSans-48\"/>\n      </g>\n     </g>\n    </g>\n    <g id=\"xtick_4\">\n     <g id=\"line2d_4\">\n      <g>\n       <use style=\"stroke:#000000;stroke-width:0.8;\" x=\"233.397842\" xlink:href=\"#mb582f577fc\" y=\"170.28\"/>\n      </g>\n     </g>\n     <g id=\"text_4\">\n      <!-- 0.5 -->\n      <g transform=\"translate(225.446279 184.878438)scale(0.1 -0.1)\">\n       <use xlink:href=\"#DejaVuSans-48\"/>\n       <use x=\"63.623047\" xlink:href=\"#DejaVuSans-46\"/>\n       <use x=\"95.410156\" xlink:href=\"#DejaVuSans-53\"/>\n      </g>\n     </g>\n    </g>\n    <g id=\"xtick_5\">\n     <g id=\"line2d_5\">\n      <g>\n       <use style=\"stroke:#000000;stroke-width:0.8;\" x=\"295.260369\" xlink:href=\"#mb582f577fc\" y=\"170.28\"/>\n      </g>\n     </g>\n     <g id=\"text_5\">\n      <!-- 1.0 -->\n      <g transform=\"translate(287.308807 184.878438)scale(0.1 -0.1)\">\n       <use xlink:href=\"#DejaVuSans-49\"/>\n       <use x=\"63.623047\" xlink:href=\"#DejaVuSans-46\"/>\n       <use x=\"95.410156\" xlink:href=\"#DejaVuSans-48\"/>\n      </g>\n     </g>\n    </g>\n   </g>\n   <g id=\"matplotlib.axis_2\">\n    <g id=\"ytick_1\">\n     <g id=\"line2d_6\">\n      <defs>\n       <path d=\"M 0 0 \nL -3.5 0 \n\" id=\"mc1d61cd7d5\" style=\"stroke:#000000;stroke-width:0.8;\"/>\n      </defs>\n      <g>\n       <use style=\"stroke:#000000;stroke-width:0.8;\" x=\"28.942187\" xlink:href=\"#mc1d61cd7d5\" y=\"155.823185\"/>\n      </g>\n     </g>\n     <g id=\"text_6\">\n      <!-- −2 -->\n      <defs>\n       <path d=\"M 19.1875 8.296875 \nL 53.609375 8.296875 \nL 53.609375 0 \nL 7.328125 0 \nL 7.328125 8.296875 \nQ 12.9375 14.109375 22.625 23.890625 \nQ 32.328125 33.6875 34.8125 36.53125 \nQ 39.546875 41.84375 41.421875 45.53125 \nQ 43.3125 49.21875 43.3125 52.78125 \nQ 43.3125 58.59375 39.234375 62.25 \nQ 35.15625 65.921875 28.609375 65.921875 \nQ 23.96875 65.921875 18.8125 64.3125 \nQ 13.671875 62.703125 7.8125 59.421875 \nL 7.8125 69.390625 \nQ 13.765625 71.78125 18.9375 73 \nQ 24.125 74.21875 28.421875 74.21875 \nQ 39.75 74.21875 46.484375 68.546875 \nQ 53.21875 62.890625 53.21875 53.421875 \nQ 53.21875 48.921875 51.53125 44.890625 \nQ 49.859375 40.875 45.40625 35.40625 \nQ 44.1875 33.984375 37.640625 27.21875 \nQ 31.109375 20.453125 19.1875 8.296875 \nz\n\" id=\"DejaVuSans-50\"/>\n      </defs>\n      <g transform=\"translate(7.2 159.622404)scale(0.1 -0.1)\">\n       <use xlink:href=\"#DejaVuSans-8722\"/>\n       <use x=\"83.789062\" xlink:href=\"#DejaVuSans-50\"/>\n      </g>\n     </g>\n    </g>\n    <g id=\"ytick_2\">\n     <g id=\"line2d_7\">\n      <g>\n       <use style=\"stroke:#000000;stroke-width:0.8;\" x=\"28.942187\" xlink:href=\"#mc1d61cd7d5\" y=\"115.324049\"/>\n      </g>\n     </g>\n     <g id=\"text_7\">\n      <!-- −1 -->\n      <g transform=\"translate(7.2 119.123268)scale(0.1 -0.1)\">\n       <use xlink:href=\"#DejaVuSans-8722\"/>\n       <use x=\"83.789062\" xlink:href=\"#DejaVuSans-49\"/>\n      </g>\n     </g>\n    </g>\n    <g id=\"ytick_3\">\n     <g id=\"line2d_8\">\n      <g>\n       <use style=\"stroke:#000000;stroke-width:0.8;\" x=\"28.942187\" xlink:href=\"#mc1d61cd7d5\" y=\"74.824913\"/>\n      </g>\n     </g>\n     <g id=\"text_8\">\n      <!-- 0 -->\n      <g transform=\"translate(15.579687 78.624132)scale(0.1 -0.1)\">\n       <use xlink:href=\"#DejaVuSans-48\"/>\n      </g>\n     </g>\n    </g>\n    <g id=\"ytick_4\">\n     <g id=\"line2d_9\">\n      <g>\n       <use style=\"stroke:#000000;stroke-width:0.8;\" x=\"28.942187\" xlink:href=\"#mc1d61cd7d5\" y=\"34.325777\"/>\n      </g>\n     </g>\n     <g id=\"text_9\">\n      <!-- 1 -->\n      <g transform=\"translate(15.579687 38.124996)scale(0.1 -0.1)\">\n       <use xlink:href=\"#DejaVuSans-49\"/>\n      </g>\n     </g>\n    </g>\n   </g>\n   <g id=\"line2d_10\">\n    <path clip-path=\"url(#pfe132151a8)\" d=\"M 28.942187 74.824913 \nL 307.942187 74.824913 \n\" style=\"fill:none;stroke:#000000;stroke-linecap:square;stroke-width:1.5;\"/>\n   </g>\n   <g id=\"line2d_11\">\n    <path clip-path=\"url(#pfe132151a8)\" d=\"M 41.624006 14.612727 \nL 44.185989 47.634997 \nL 46.747973 69.701573 \nL 49.309956 84.251969 \nL 51.87194 93.714328 \nL 54.433923 99.790015 \nL 56.995907 103.661594 \nL 59.55789 106.14381 \nL 62.119873 107.792438 \nL 64.681857 108.982192 \nL 67.24384 109.962074 \nL 69.805824 110.89439 \nL 72.367807 111.882038 \nL 74.929791 112.987435 \nL 77.491774 114.245535 \nL 80.053758 115.672717 \nL 82.615741 117.272796 \nL 85.177725 119.041075 \nL 87.739708 120.967046 \nL 90.301692 123.036206 \nL 92.863675 125.231266 \nL 95.425659 127.532976 \nL 97.987642 129.920696 \nL 100.549626 132.372809 \nL 103.111609 134.86703 \nL 105.673592 137.380661 \nL 108.235576 139.890795 \nL 110.797559 142.374513 \nL 113.359543 144.809057 \nL 115.921526 147.171994 \nL 118.48351 149.441377 \nL 121.045493 151.595898 \nL 123.607477 153.615035 \nL 126.16946 155.479194 \nL 128.731444 157.169843 \nL 131.293427 158.669641 \nL 133.855411 159.962553 \nL 136.417394 161.033965 \nL 138.979378 161.870781 \nL 141.541361 162.461512 \nL 144.103345 162.796358 \nL 146.665328 162.867273 \nL 149.227311 162.668021 \nL 151.789295 162.194217 \nL 154.351278 161.443362 \nL 156.913262 160.414852 \nL 159.475245 159.10999 \nL 162.037229 157.531972 \nL 164.599212 155.685869 \nL 167.161196 153.578588 \nL 169.723179 151.218828 \nL 172.285163 148.617019 \nL 174.847146 145.78525 \nL 177.40913 142.737188 \nL 179.971113 139.487982 \nL 182.533097 136.05416 \nL 185.09508 132.453517 \nL 187.657064 128.704991 \nL 190.219047 124.828533 \nL 192.78103 120.844973 \nL 195.343014 116.775875 \nL 197.904997 112.643389 \nL 200.466981 108.470099 \nL 203.028964 104.278871 \nL 205.590948 100.092691 \nL 208.152931 95.934512 \nL 210.714915 91.827096 \nL 213.276898 87.792855 \nL 215.838882 83.853701 \nL 218.400865 80.030891 \nL 220.962849 76.344889 \nL 223.524832 72.815216 \nL 226.086816 69.460324 \nL 228.648799 66.297464 \nL 231.210783 63.342569 \nL 233.772766 60.610142 \nL 236.334749 58.113151 \nL 238.896733 55.862938 \nL 241.458716 53.869118 \nL 244.0207 52.139497 \nL 246.582683 50.679965 \nL 249.144667 49.494385 \nL 251.70665 48.584429 \nL 254.268634 47.94935 \nL 256.830617 47.585629 \nL 259.392601 47.486411 \nL 261.954584 47.640638 \nL 264.516568 48.031672 \nL 267.078551 48.635171 \nL 269.640535 49.415828 \nL 272.202518 50.322435 \nL 274.764502 51.280489 \nL 277.326485 52.181236 \nL 279.888468 52.865619 \nL 282.450452 53.100973 \nL 285.012435 52.54751 \nL 287.574419 50.710556 \nL 290.136402 46.873026 \nL 292.698386 40.000722 \nL 295.260369 28.610539 \n\" style=\"fill:none;stroke:#1f77b4;stroke-linecap:square;stroke-width:1.5;\"/>\n   </g>\n   <g id=\"patch_3\">\n    <path d=\"M 28.942187 170.28 \nL 28.942187 7.2 \n\" style=\"fill:none;stroke:#000000;stroke-linecap:square;stroke-linejoin:miter;stroke-width:0.8;\"/>\n   </g>\n   <g id=\"patch_4\">\n    <path d=\"M 307.942187 170.28 \nL 307.942187 7.2 \n\" style=\"fill:none;stroke:#000000;stroke-linecap:square;stroke-linejoin:miter;stroke-width:0.8;\"/>\n   </g>\n   <g id=\"patch_5\">\n    <path d=\"M 28.942187 170.28 \nL 307.942188 170.28 \n\" style=\"fill:none;stroke:#000000;stroke-linecap:square;stroke-linejoin:miter;stroke-width:0.8;\"/>\n   </g>\n   <g id=\"patch_6\">\n    <path d=\"M 28.942187 7.2 \nL 307.942188 7.2 \n\" style=\"fill:none;stroke:#000000;stroke-linecap:square;stroke-linejoin:miter;stroke-width:0.8;\"/>\n   </g>\n   <g id=\"PathCollection_1\">\n    <defs>\n     <path d=\"M 0 5 \nC 1.326016 5 2.597899 4.473168 3.535534 3.535534 \nC 4.473168 2.597899 5 1.326016 5 0 \nC 5 -1.326016 4.473168 -2.597899 3.535534 -3.535534 \nC 2.597899 -4.473168 1.326016 -5 0 -5 \nC -1.326016 -5 -2.597899 -4.473168 -3.535534 -3.535534 \nC -4.473168 -2.597899 -5 -1.326016 -5 0 \nC -5 1.326016 -4.473168 2.597899 -3.535534 3.535534 \nC -2.597899 4.473168 -1.326016 5 0 5 \nz\n\" id=\"mccf9658dc3\" style=\"stroke:#ff0000;\"/>\n    </defs>\n    <g clip-path=\"url(#pfe132151a8)\">\n     <use style=\"fill:#ff0000;stroke:#ff0000;\" x=\"222.05145\" xlink:href=\"#mccf9658dc3\" y=\"74.824913\"/>\n    </g>\n   </g>\n  </g>\n </g>\n <defs>\n  <clipPath id=\"pfe132151a8\">\n   <rect height=\"163.08\" width=\"279\" x=\"28.942187\" y=\"7.2\"/>\n  </clipPath>\n </defs>\n</svg>\n",
      "image/png": "[encoded data removed]"
     },
     "metadata": {
      "needs_background": "light"
     }
    }
   ],
   "source": [
    "# curious, let's plot it:\n",
    "fig, ax = plt.subplots(1,1,figsize=(5,3))\n",
    "ax.axhline(0, color='k')\n",
    "ax.plot(x,f(x))\n",
    "ax.scatter([x_min], [0], c='r', s=100, zorder=10)\n",
    "# ax.set_xlim(-5,5)"
   ]
  },
  {
   "cell_type": "markdown",
   "metadata": {},
   "source": [
    "# 2.1 Movies Regression\n",
    "\n",
    "Write the best linear regression model you can on the [Movies Dataset](https://www.kaggle.com/rounakbanik/the-movies-dataset?select=ratings.csv) to predict the profitability of a movie (revenue - budget). Maintain the interpretability of the model.\n",
    "\n",
    "Few notes:\n",
    "\n",
    "1. Clean your data! Movies where the budget or revenue are invalid should be thrown out\n",
    "\n",
    "2. Be creative with feature engineering. You can include processing to one-hot encode the type of movie, etc.\n",
    "\n",
    "3. The model should be useful for someone **who is thinking about making a movie**. So features like the popularity can't be used. You could, however, use the ratings to figure out if making \"good\" or \"oscar bait\" movies is a profitable strategy."
   ]
  },
  {
   "cell_type": "code",
   "execution_count": 72,
   "metadata": {},
   "outputs": [],
   "source": [
    "# Ideas:\n",
    "# Need budget, genre (categorical), original language (english yes or no), production company (famous yes or no), director (famous yes or no), runtime. \n",
    "# Not vote count or vote average cause that happens after the movie is released. "
   ]
  },
  {
   "cell_type": "code",
   "execution_count": 129,
   "metadata": {
    "colab": {},
    "colab_type": "code",
    "id": "WPi9xcx3mywk"
   },
   "outputs": [],
   "source": [
    "import pandas as pd\n",
    "\n",
    "movies_url = {\n",
    "\"movies_metadata\": \"1RLvh6rhzYiDDjPaudDgyS9LmqjbKH-wh\",\n",
    "\"keywords\": \"1YLOIxb-EPC_7QpkmRqkq9E6j7iqmoEh3\",\n",
    "\"ratings\": \"1_5HNurSOMnU0JIcXBJ5mv1NaXCx9oCVG\",\n",
    "\"credits\": \"1bX9othXfLu5NZbVZtIPGV5Hbn8b5URPf\",\n",
    "\"ratings_small\": \"1fCWT69efrj4Oxdm8ZNoTeSahCOy6_u6w\",\n",
    "\"links_small\": \"1fh6pS7XuNgnZk2J3EmYk_9jO_Au_6C15\",\n",
    "\"links\": \"1hWUSMo_GwkfmhehKqs8Rs6mWIauklkbP\",\n",
    "}\n",
    "def read_gdrive(url):\n",
    "    \"\"\"\n",
    "    Reads file from Google Drive sharing link\n",
    "    \"\"\"\n",
    "    path = 'https://drive.google.com/uc?export=download&id='+url\n",
    "    return pd.read_csv(path)"
   ]
  },
  {
   "cell_type": "code",
   "execution_count": 130,
   "metadata": {},
   "outputs": [],
   "source": [
    "movies_metadata = read_gdrive('1RLvh6rhzYiDDjPaudDgyS9LmqjbKH-wh')"
   ]
  },
  {
   "cell_type": "code",
   "execution_count": 173,
   "metadata": {},
   "outputs": [],
   "source": [
    "movies = movies_metadata.copy()"
   ]
  },
  {
   "cell_type": "code",
   "execution_count": 174,
   "metadata": {},
   "outputs": [],
   "source": [
    "# Dropping columns I know I won't use: \n",
    "movies  = movies.drop(['adult', 'homepage', 'imdb_id', 'original_title', 'overview', 'popularity', 'poster_path', 'spoken_languages', 'status', 'tagline', 'video', 'vote_average', 'vote_count'], axis = 1)"
   ]
  },
  {
   "cell_type": "code",
   "execution_count": 175,
   "metadata": {},
   "outputs": [
    {
     "output_type": "execute_result",
     "data": {
      "text/plain": [
       "                       Total     %\n",
       "belongs_to_collection  40972  90.1\n",
       "runtime                  263   0.6\n",
       "release_date              87   0.2\n",
       "original_language         11   0.0\n",
       "title                      6   0.0\n",
       "revenue                    6   0.0\n",
       "production_countries       3   0.0\n",
       "production_companies       3   0.0\n",
       "id                         0   0.0\n",
       "genres                     0   0.0\n",
       "budget                     0   0.0"
      ],
      "text/html": "<div>\n<style scoped>\n    .dataframe tbody tr th:only-of-type {\n        vertical-align: middle;\n    }\n\n    .dataframe tbody tr th {\n        vertical-align: top;\n    }\n\n    .dataframe thead th {\n        text-align: right;\n    }\n</style>\n<table border=\"1\" class=\"dataframe\">\n  <thead>\n    <tr style=\"text-align: right;\">\n      <th></th>\n      <th>Total</th>\n      <th>%</th>\n    </tr>\n  </thead>\n  <tbody>\n    <tr>\n      <th>belongs_to_collection</th>\n      <td>40972</td>\n      <td>90.1</td>\n    </tr>\n    <tr>\n      <th>runtime</th>\n      <td>263</td>\n      <td>0.6</td>\n    </tr>\n    <tr>\n      <th>release_date</th>\n      <td>87</td>\n      <td>0.2</td>\n    </tr>\n    <tr>\n      <th>original_language</th>\n      <td>11</td>\n      <td>0.0</td>\n    </tr>\n    <tr>\n      <th>title</th>\n      <td>6</td>\n      <td>0.0</td>\n    </tr>\n    <tr>\n      <th>revenue</th>\n      <td>6</td>\n      <td>0.0</td>\n    </tr>\n    <tr>\n      <th>production_countries</th>\n      <td>3</td>\n      <td>0.0</td>\n    </tr>\n    <tr>\n      <th>production_companies</th>\n      <td>3</td>\n      <td>0.0</td>\n    </tr>\n    <tr>\n      <th>id</th>\n      <td>0</td>\n      <td>0.0</td>\n    </tr>\n    <tr>\n      <th>genres</th>\n      <td>0</td>\n      <td>0.0</td>\n    </tr>\n    <tr>\n      <th>budget</th>\n      <td>0</td>\n      <td>0.0</td>\n    </tr>\n  </tbody>\n</table>\n</div>"
     },
     "metadata": {},
     "execution_count": 175
    }
   ],
   "source": [
    "# Data cleaning: Let's see where the na's are\n",
    "# movies = movies_metadata.copy()\n",
    "total = movies.isnull().sum().sort_values(ascending=False)\n",
    "percent_1 = movies.isnull().sum()/movies.isnull().count()*100\n",
    "percent_2 = (round(percent_1, 1)).sort_values(ascending=False)\n",
    "missing_data = pd.concat([total, percent_2], axis=1, keys=['Total', '%'])\n",
    "missing_data.head(20)"
   ]
  },
  {
   "cell_type": "code",
   "execution_count": 176,
   "metadata": {},
   "outputs": [],
   "source": [
    "# Cleaning data. Dropping movies where budget, revenue or runtime, are 0\n",
    "movies = movies[movies.budget != 0]\n",
    "movies = movies[movies.revenue != 0]\n",
    "movies = movies[movies.runtime != 0]\n",
    "\n",
    "# Removing entries that aren't numeric in budget\n",
    "movies = movies[~movies.budget.str.contains(\"jpg\")]\n",
    "\n",
    "# Turning budget into a float\n",
    "movies.budget = movies.budget.astype('float')\n",
    "\n",
    "# Removing Nan's\n",
    "movies = movies.dropna(subset=['budget', 'revenue', 'runtime'])\n"
   ]
  },
  {
   "cell_type": "code",
   "execution_count": 177,
   "metadata": {},
   "outputs": [],
   "source": [
    "# Making PROFIT column (will be target)\n",
    "movies['profit'] = movies.revenue - movies.budget\n",
    "\n",
    "# Making a OHE of whether part of a collection or not:\n",
    "movies['belongs_to_collection'] = movies['belongs_to_collection'].notna().astype(int)\n",
    "\n",
    "# Making a OHE of whether original language is English or not\n",
    "movies['lang_en'] = (movies.original_language=='en').astype(int)"
   ]
  },
  {
   "cell_type": "code",
   "execution_count": 178,
   "metadata": {},
   "outputs": [],
   "source": [
    "# Get primary genre of movie\n",
    "def get_genre(row):\n",
    "    row = eval(row)\n",
    "    for d in row:\n",
    "        return d['name']\n",
    "    return \" \"\n",
    "\n",
    "movies['genre1'] = movies.genres.apply(get_genre)\n",
    "\n",
    "\n",
    "#OHE of genre1\n",
    "name = 'genre' + \"_\"\n",
    "movies = movies.join(pd.get_dummies(movies['genre1'], drop_first = True, prefix = name))\n",
    "# X = X.drop(columns = ['genre1']) #if problems, comment this out\n",
    "# movies.columns"
   ]
  },
  {
   "cell_type": "code",
   "execution_count": 179,
   "metadata": {},
   "outputs": [],
   "source": [
    "# Engineering production company: \n",
    "def get_prod_comp(row):\n",
    "    row = eval(row)\n",
    "    for d in row:\n",
    "        return d['name']\n",
    "    return \" \"\n",
    "\n",
    "movies['prod_comp'] = movies.production_companies.apply(get_prod_comp)\n",
    "\n",
    "# https://www.the-numbers.com/movies/production-companies/#production_companies_overview=l10:od3\n",
    "\n",
    "prod_list = ['Warner Bros.',\n",
    "'Sony Pictures Motion Picture Group',\n",
    "'Walt Disney Studios',\n",
    "'Universal Pictures',\n",
    "'20th Century Fox',\n",
    "'Paramount Pictures',\n",
    "'Lionsgate Films',\n",
    "'The Weinstein Company',\n",
    "'Metro-Goldwyn-Mayer Studios',\n",
    "'DreamWorks Pictures',\n",
    "'Columbia Pictures',\n",
    "'Marvel Studios'\n",
    "            ]\n",
    "\n",
    "movies['prod_comp_yn'] = movies['prod_comp'].apply(lambda x: 1 if (x in prod_list) else 0)"
   ]
  },
  {
   "cell_type": "code",
   "execution_count": 180,
   "metadata": {},
   "outputs": [],
   "source": [
    "# Joining credits dataframe to this one, to get the director of the movie\n",
    "credits_df = pd.read_csv('/Users/mayarossi/ds-workshop/3-5-optimization/data/credits.csv')\n",
    "\n",
    "movies[\"id\"] =pd.to_numeric(movies['id'], errors='coerce',downcast=\"integer\")\n",
    "movies.dtypes\n",
    "movies = movies.merge(credits_df,on=[\"id\"],how=\"left\")\n",
    "# movies.head()"
   ]
  },
  {
   "cell_type": "code",
   "execution_count": 181,
   "metadata": {},
   "outputs": [],
   "source": [
    "# filling in missing crew info with \"Director ... unknown\" (to preserve rows instead of just dropping them)\n",
    "movies.crew = movies.crew.fillna(\"{'credit_id': '52fe4284c3a36847f8024f4f','department': 'Writing','gender': 2,'id': 12891, 'job':'Director','name': 'unknown','profile_path': '/dTiVsuaTVTeGmvkhcyJvKp2A5kr.jpg'}\")\n",
    "movies.crew = movies.crew.astype('str')\n"
   ]
  },
  {
   "cell_type": "code",
   "execution_count": 182,
   "metadata": {
    "tags": []
   },
   "outputs": [],
   "source": [
    "# Get director \n",
    "def get_director(row):\n",
    "    row = eval(row)\n",
    "    for d in row:\n",
    "        # print(type(d))\n",
    "        if type(d) is dict:\n",
    "            if d['job'].lower() == 'director':\n",
    "                return d['name']\n",
    "    return \" \"\n",
    "\n",
    "movies['director'] = movies.crew.apply(get_director)\n",
    "\n",
    "\n",
    "#list of top 10 famous directors (highest grossing films)\n",
    "# https://www.the-numbers.com/box-office-star-records/worldwide/lifetime-specific-technical-role/director\n",
    "\n",
    "f_dir = ['Steven Spielberg', 'Anthony Russo', 'Joe Russo', 'Peter Jackson', 'Michael Bay', 'James Cameron', 'David Yates', 'Christopher Nolan', 'J.J. Abrams', 'Tim Burton']\n",
    "\n",
    "movies['fam_dir2'] = movies['director'].apply(lambda x: 1 if (x in f_dir) else 0)"
   ]
  },
  {
   "cell_type": "code",
   "execution_count": 183,
   "metadata": {},
   "outputs": [
    {
     "output_type": "execute_result",
     "data": {
      "text/plain": [
       "       belongs_to_collection        budget             id       revenue  \\\n",
       "count            7401.000000  7.401000e+03    7401.000000  7.401000e+03   \n",
       "mean                0.200649  2.263261e+07   66554.896230  6.887489e+07   \n",
       "std                 0.400513  3.693766e+07   98591.813959  1.464675e+08   \n",
       "min                 0.000000  0.000000e+00       5.000000  1.000000e+00   \n",
       "25%                 0.000000  0.000000e+00    9594.000000  2.402459e+06   \n",
       "50%                 0.000000  8.000000e+06   19053.000000  1.692912e+07   \n",
       "75%                 0.000000  2.900000e+07   70981.000000  6.734701e+07   \n",
       "max                 1.000000  3.800000e+08  443319.000000  2.787965e+09   \n",
       "\n",
       "           runtime        profit      lang_en  genre__Action  \\\n",
       "count  7401.000000  7.401000e+03  7401.000000    7401.000000   \n",
       "mean    108.005405  4.624228e+07     0.859343       0.161194   \n",
       "std      20.711525  1.215058e+08     0.347691       0.367735   \n",
       "min      11.000000 -1.657101e+08     0.000000       0.000000   \n",
       "25%      94.000000  1.933700e+04     1.000000       0.000000   \n",
       "50%     104.000000  6.500000e+06     1.000000       0.000000   \n",
       "75%     118.000000  4.141057e+07     1.000000       0.000000   \n",
       "max     338.000000  2.550965e+09     1.000000       1.000000   \n",
       "\n",
       "       genre__Adventure  genre__Animation  ...  genre__Music  genre__Mystery  \\\n",
       "count       7401.000000       7401.000000  ...   7401.000000     7401.000000   \n",
       "mean           0.065667          0.025402  ...      0.006621        0.012296   \n",
       "std            0.247715          0.157353  ...      0.081104        0.110209   \n",
       "min            0.000000          0.000000  ...      0.000000        0.000000   \n",
       "25%            0.000000          0.000000  ...      0.000000        0.000000   \n",
       "50%            0.000000          0.000000  ...      0.000000        0.000000   \n",
       "75%            0.000000          0.000000  ...      0.000000        0.000000   \n",
       "max            1.000000          1.000000  ...      1.000000        1.000000   \n",
       "\n",
       "       genre__Romance  genre__Science Fiction  genre__TV Movie  \\\n",
       "count     7401.000000             7401.000000      7401.000000   \n",
       "mean         0.023510                0.015674         0.000135   \n",
       "std          0.151528                0.124217         0.011624   \n",
       "min          0.000000                0.000000         0.000000   \n",
       "25%          0.000000                0.000000         0.000000   \n",
       "50%          0.000000                0.000000         0.000000   \n",
       "75%          0.000000                0.000000         0.000000   \n",
       "max          1.000000                1.000000         1.000000   \n",
       "\n",
       "       genre__Thriller   genre__War  genre__Western  prod_comp_yn     fam_dir2  \n",
       "count      7401.000000  7401.000000     7401.000000   7401.000000  7401.000000  \n",
       "mean          0.034995     0.006756        0.005810      0.168221     0.014052  \n",
       "std           0.183780     0.081921        0.076007      0.374087     0.117714  \n",
       "min           0.000000     0.000000        0.000000      0.000000     0.000000  \n",
       "25%           0.000000     0.000000        0.000000      0.000000     0.000000  \n",
       "50%           0.000000     0.000000        0.000000      0.000000     0.000000  \n",
       "75%           0.000000     0.000000        0.000000      0.000000     0.000000  \n",
       "max           1.000000     1.000000        1.000000      1.000000     1.000000  \n",
       "\n",
       "[8 rows x 29 columns]"
      ],
      "text/html": "<div>\n<style scoped>\n    .dataframe tbody tr th:only-of-type {\n        vertical-align: middle;\n    }\n\n    .dataframe tbody tr th {\n        vertical-align: top;\n    }\n\n    .dataframe thead th {\n        text-align: right;\n    }\n</style>\n<table border=\"1\" class=\"dataframe\">\n  <thead>\n    <tr style=\"text-align: right;\">\n      <th></th>\n      <th>belongs_to_collection</th>\n      <th>budget</th>\n      <th>id</th>\n      <th>revenue</th>\n      <th>runtime</th>\n      <th>profit</th>\n      <th>lang_en</th>\n      <th>genre__Action</th>\n      <th>genre__Adventure</th>\n      <th>genre__Animation</th>\n      <th>...</th>\n      <th>genre__Music</th>\n      <th>genre__Mystery</th>\n      <th>genre__Romance</th>\n      <th>genre__Science Fiction</th>\n      <th>genre__TV Movie</th>\n      <th>genre__Thriller</th>\n      <th>genre__War</th>\n      <th>genre__Western</th>\n      <th>prod_comp_yn</th>\n      <th>fam_dir2</th>\n    </tr>\n  </thead>\n  <tbody>\n    <tr>\n      <th>count</th>\n      <td>7401.000000</td>\n      <td>7.401000e+03</td>\n      <td>7401.000000</td>\n      <td>7.401000e+03</td>\n      <td>7401.000000</td>\n      <td>7.401000e+03</td>\n      <td>7401.000000</td>\n      <td>7401.000000</td>\n      <td>7401.000000</td>\n      <td>7401.000000</td>\n      <td>...</td>\n      <td>7401.000000</td>\n      <td>7401.000000</td>\n      <td>7401.000000</td>\n      <td>7401.000000</td>\n      <td>7401.000000</td>\n      <td>7401.000000</td>\n      <td>7401.000000</td>\n      <td>7401.000000</td>\n      <td>7401.000000</td>\n      <td>7401.000000</td>\n    </tr>\n    <tr>\n      <th>mean</th>\n      <td>0.200649</td>\n      <td>2.263261e+07</td>\n      <td>66554.896230</td>\n      <td>6.887489e+07</td>\n      <td>108.005405</td>\n      <td>4.624228e+07</td>\n      <td>0.859343</td>\n      <td>0.161194</td>\n      <td>0.065667</td>\n      <td>0.025402</td>\n      <td>...</td>\n      <td>0.006621</td>\n      <td>0.012296</td>\n      <td>0.023510</td>\n      <td>0.015674</td>\n      <td>0.000135</td>\n      <td>0.034995</td>\n      <td>0.006756</td>\n      <td>0.005810</td>\n      <td>0.168221</td>\n      <td>0.014052</td>\n    </tr>\n    <tr>\n      <th>std</th>\n      <td>0.400513</td>\n      <td>3.693766e+07</td>\n      <td>98591.813959</td>\n      <td>1.464675e+08</td>\n      <td>20.711525</td>\n      <td>1.215058e+08</td>\n      <td>0.347691</td>\n      <td>0.367735</td>\n      <td>0.247715</td>\n      <td>0.157353</td>\n      <td>...</td>\n      <td>0.081104</td>\n      <td>0.110209</td>\n      <td>0.151528</td>\n      <td>0.124217</td>\n      <td>0.011624</td>\n      <td>0.183780</td>\n      <td>0.081921</td>\n      <td>0.076007</td>\n      <td>0.374087</td>\n      <td>0.117714</td>\n    </tr>\n    <tr>\n      <th>min</th>\n      <td>0.000000</td>\n      <td>0.000000e+00</td>\n      <td>5.000000</td>\n      <td>1.000000e+00</td>\n      <td>11.000000</td>\n      <td>-1.657101e+08</td>\n      <td>0.000000</td>\n      <td>0.000000</td>\n      <td>0.000000</td>\n      <td>0.000000</td>\n      <td>...</td>\n      <td>0.000000</td>\n      <td>0.000000</td>\n      <td>0.000000</td>\n      <td>0.000000</td>\n      <td>0.000000</td>\n      <td>0.000000</td>\n      <td>0.000000</td>\n      <td>0.000000</td>\n      <td>0.000000</td>\n      <td>0.000000</td>\n    </tr>\n    <tr>\n      <th>25%</th>\n      <td>0.000000</td>\n      <td>0.000000e+00</td>\n      <td>9594.000000</td>\n      <td>2.402459e+06</td>\n      <td>94.000000</td>\n      <td>1.933700e+04</td>\n      <td>1.000000</td>\n      <td>0.000000</td>\n      <td>0.000000</td>\n      <td>0.000000</td>\n      <td>...</td>\n      <td>0.000000</td>\n      <td>0.000000</td>\n      <td>0.000000</td>\n      <td>0.000000</td>\n      <td>0.000000</td>\n      <td>0.000000</td>\n      <td>0.000000</td>\n      <td>0.000000</td>\n      <td>0.000000</td>\n      <td>0.000000</td>\n    </tr>\n    <tr>\n      <th>50%</th>\n      <td>0.000000</td>\n      <td>8.000000e+06</td>\n      <td>19053.000000</td>\n      <td>1.692912e+07</td>\n      <td>104.000000</td>\n      <td>6.500000e+06</td>\n      <td>1.000000</td>\n      <td>0.000000</td>\n      <td>0.000000</td>\n      <td>0.000000</td>\n      <td>...</td>\n      <td>0.000000</td>\n      <td>0.000000</td>\n      <td>0.000000</td>\n      <td>0.000000</td>\n      <td>0.000000</td>\n      <td>0.000000</td>\n      <td>0.000000</td>\n      <td>0.000000</td>\n      <td>0.000000</td>\n      <td>0.000000</td>\n    </tr>\n    <tr>\n      <th>75%</th>\n      <td>0.000000</td>\n      <td>2.900000e+07</td>\n      <td>70981.000000</td>\n      <td>6.734701e+07</td>\n      <td>118.000000</td>\n      <td>4.141057e+07</td>\n      <td>1.000000</td>\n      <td>0.000000</td>\n      <td>0.000000</td>\n      <td>0.000000</td>\n      <td>...</td>\n      <td>0.000000</td>\n      <td>0.000000</td>\n      <td>0.000000</td>\n      <td>0.000000</td>\n      <td>0.000000</td>\n      <td>0.000000</td>\n      <td>0.000000</td>\n      <td>0.000000</td>\n      <td>0.000000</td>\n      <td>0.000000</td>\n    </tr>\n    <tr>\n      <th>max</th>\n      <td>1.000000</td>\n      <td>3.800000e+08</td>\n      <td>443319.000000</td>\n      <td>2.787965e+09</td>\n      <td>338.000000</td>\n      <td>2.550965e+09</td>\n      <td>1.000000</td>\n      <td>1.000000</td>\n      <td>1.000000</td>\n      <td>1.000000</td>\n      <td>...</td>\n      <td>1.000000</td>\n      <td>1.000000</td>\n      <td>1.000000</td>\n      <td>1.000000</td>\n      <td>1.000000</td>\n      <td>1.000000</td>\n      <td>1.000000</td>\n      <td>1.000000</td>\n      <td>1.000000</td>\n      <td>1.000000</td>\n    </tr>\n  </tbody>\n</table>\n<p>8 rows × 29 columns</p>\n</div>"
     },
     "metadata": {},
     "execution_count": 183
    }
   ],
   "source": [
    "# make sure no missing values\n",
    "movies.describe()"
   ]
  },
  {
   "cell_type": "code",
   "execution_count": 184,
   "metadata": {},
   "outputs": [
    {
     "output_type": "execute_result",
     "data": {
      "text/plain": [
       "Index(['belongs_to_collection', 'budget', 'runtime', 'lang_en',\n",
       "       'genre__Action', 'genre__Adventure', 'genre__Animation',\n",
       "       'genre__Comedy', 'genre__Crime', 'genre__Documentary', 'genre__Drama',\n",
       "       'genre__Family', 'genre__Fantasy', 'genre__Foreign', 'genre__History',\n",
       "       'genre__Horror', 'genre__Music', 'genre__Mystery', 'genre__Romance',\n",
       "       'genre__Science Fiction', 'genre__TV Movie', 'genre__Thriller',\n",
       "       'genre__War', 'genre__Western', 'prod_comp_yn', 'fam_dir2'],\n",
       "      dtype='object')"
      ]
     },
     "metadata": {},
     "execution_count": 184
    }
   ],
   "source": [
    "X = movies.drop(columns = ['genres', 'id', 'original_language', \n",
    "                           'production_companies', 'production_countries', \n",
    "                           'release_date', 'revenue', 'title', 'genre1', \n",
    "                           'cast', 'crew', 'director', 'profit', 'prod_comp'])\n",
    "\n",
    "X.columns"
   ]
  },
  {
   "cell_type": "code",
   "execution_count": 185,
   "metadata": {},
   "outputs": [
    {
     "output_type": "execute_result",
     "data": {
      "text/plain": [
       "Index(['belongs_to_collection', 'budget', 'runtime', 'lang_en',\n",
       "       'genre__Action', 'genre__Adventure', 'genre__Animation',\n",
       "       'genre__Comedy', 'genre__Crime', 'genre__Documentary', 'genre__Drama',\n",
       "       'genre__Family', 'genre__Fantasy', 'genre__Foreign', 'genre__History',\n",
       "       'genre__Horror', 'genre__Music', 'genre__Mystery', 'genre__Romance',\n",
       "       'genre__Science Fiction', 'genre__TV Movie', 'genre__Thriller',\n",
       "       'genre__War', 'genre__Western', 'prod_comp_yn', 'fam_dir2'],\n",
       "      dtype='object')"
      ]
     },
     "metadata": {},
     "execution_count": 185
    }
   ],
   "source": [
    "X.columns"
   ]
  },
  {
   "cell_type": "code",
   "execution_count": 186,
   "metadata": {},
   "outputs": [
    {
     "output_type": "stream",
     "name": "stderr",
     "text": [
      "/Users/mayarossi/opt/anaconda3/lib/python3.8/site-packages/statsmodels/base/model.py:1830: ValueWarning: covariance of constraints does not have full rank. The number of constraints is 26, but rank is 25\n  warnings.warn('covariance of constraints does not have full '\n"
     ]
    },
    {
     "output_type": "execute_result",
     "data": {
      "text/plain": [
       "<class 'statsmodels.iolib.summary.Summary'>\n",
       "\"\"\"\n",
       "                            OLS Regression Results                            \n",
       "==============================================================================\n",
       "Dep. Variable:                 profit   R-squared:                       0.436\n",
       "Model:                            OLS   Adj. R-squared:                  0.434\n",
       "Method:                 Least Squares   F-statistic:                     60.71\n",
       "Date:                Fri, 05 Feb 2021   Prob (F-statistic):          2.41e-276\n",
       "Time:                        18:36:37   Log-Likelihood:            -1.4615e+05\n",
       "No. Observations:                7401   AIC:                         2.924e+05\n",
       "Df Residuals:                    7374   BIC:                         2.925e+05\n",
       "Df Model:                          26                                         \n",
       "Covariance Type:                  HC2                                         \n",
       "==========================================================================================\n",
       "                             coef    std err          z      P>|z|      [0.025      0.975]\n",
       "------------------------------------------------------------------------------------------\n",
       "belongs_to_collection   6.771e+07   3.66e+06     18.492      0.000    6.05e+07    7.49e+07\n",
       "budget                     1.5763      0.088     17.992      0.000       1.405       1.748\n",
       "runtime                 5.001e+05   6.49e+04      7.701      0.000    3.73e+05    6.27e+05\n",
       "lang_en                 6.684e+06   2.19e+06      3.056      0.002     2.4e+06     1.1e+07\n",
       "genre__Action          -2.024e+07    7.4e+06     -2.735      0.006   -3.48e+07   -5.74e+06\n",
       "genre__Adventure       -8.573e+06   1.01e+07     -0.853      0.394   -2.83e+07    1.11e+07\n",
       "genre__Animation        3.785e+07   1.44e+07      2.624      0.009    9.58e+06    6.61e+07\n",
       "genre__Comedy           -1.07e+06   7.06e+06     -0.152      0.879   -1.49e+07    1.28e+07\n",
       "genre__Crime           -1.835e+07   7.51e+06     -2.442      0.015   -3.31e+07   -3.62e+06\n",
       "genre__Documentary      8.909e+05   7.14e+06      0.125      0.901   -1.31e+07    1.49e+07\n",
       "genre__Drama           -9.357e+06   6.99e+06     -1.338      0.181   -2.31e+07    4.35e+06\n",
       "genre__Family           3.793e+07   2.36e+07      1.606      0.108   -8.37e+06    8.42e+07\n",
       "genre__Fantasy         -1.382e+07   1.05e+07     -1.312      0.190   -3.45e+07    6.83e+06\n",
       "genre__Foreign         -5.911e+06   1.07e+07     -0.550      0.582    -2.7e+07    1.51e+07\n",
       "genre__History         -1.436e+07   1.13e+07     -1.268      0.205   -3.66e+07    7.84e+06\n",
       "genre__Horror          -1.889e+07   7.57e+06     -2.495      0.013   -3.37e+07   -4.05e+06\n",
       "genre__Music           -1.688e+07   9.47e+06     -1.782      0.075   -3.54e+07    1.68e+06\n",
       "genre__Mystery         -7.764e+06   1.11e+07     -0.698      0.485   -2.96e+07     1.4e+07\n",
       "genre__Romance           8.68e+06   9.22e+06      0.941      0.347    -9.4e+06    2.68e+07\n",
       "genre__Science Fiction  -5.95e+06   1.57e+07     -0.379      0.705   -3.68e+07    2.48e+07\n",
       "genre__TV Movie         3.517e+07    6.9e+06      5.099      0.000    2.17e+07    4.87e+07\n",
       "genre__Thriller        -1.593e+07   8.15e+06     -1.955      0.051   -3.19e+07    4.33e+04\n",
       "genre__War             -3.643e+07   1.43e+07     -2.547      0.011   -6.45e+07   -8.39e+06\n",
       "genre__Western         -2.066e+07   1.34e+07     -1.538      0.124    -4.7e+07    5.67e+06\n",
       "prod_comp_yn            2.696e+06   3.71e+06      0.727      0.467   -4.58e+06    9.97e+06\n",
       "fam_dir2                 1.72e+08   3.15e+07      5.468      0.000     1.1e+08    2.34e+08\n",
       "constant               -5.725e+07   1.02e+07     -5.615      0.000   -7.72e+07   -3.73e+07\n",
       "==============================================================================\n",
       "Omnibus:                     6842.731   Durbin-Watson:                   1.952\n",
       "Prob(Omnibus):                  0.000   Jarque-Bera (JB):           806504.516\n",
       "Skew:                           4.031   Prob(JB):                         0.00\n",
       "Kurtosis:                      53.501   Cond. No.                     4.18e+09\n",
       "==============================================================================\n",
       "\n",
       "Warnings:\n",
       "[1] Standard Errors are heteroscedasticity robust (HC2)\n",
       "[2] The condition number is large, 4.18e+09. This might indicate that there are\n",
       "strong multicollinearity or other numerical problems.\n",
       "\"\"\""
      ],
      "text/html": "<table class=\"simpletable\">\n<caption>OLS Regression Results</caption>\n<tr>\n  <th>Dep. Variable:</th>         <td>profit</td>      <th>  R-squared:         </th>  <td>   0.436</td>  \n</tr>\n<tr>\n  <th>Model:</th>                   <td>OLS</td>       <th>  Adj. R-squared:    </th>  <td>   0.434</td>  \n</tr>\n<tr>\n  <th>Method:</th>             <td>Least Squares</td>  <th>  F-statistic:       </th>  <td>   60.71</td>  \n</tr>\n<tr>\n  <th>Date:</th>             <td>Fri, 05 Feb 2021</td> <th>  Prob (F-statistic):</th>  <td>2.41e-276</td> \n</tr>\n<tr>\n  <th>Time:</th>                 <td>18:36:37</td>     <th>  Log-Likelihood:    </th> <td>-1.4615e+05</td>\n</tr>\n<tr>\n  <th>No. Observations:</th>      <td>  7401</td>      <th>  AIC:               </th>  <td>2.924e+05</td> \n</tr>\n<tr>\n  <th>Df Residuals:</th>          <td>  7374</td>      <th>  BIC:               </th>  <td>2.925e+05</td> \n</tr>\n<tr>\n  <th>Df Model:</th>              <td>    26</td>      <th>                     </th>      <td> </td>     \n</tr>\n<tr>\n  <th>Covariance Type:</th>         <td>HC2</td>       <th>                     </th>      <td> </td>     \n</tr>\n</table>\n<table class=\"simpletable\">\n<tr>\n             <td></td>               <th>coef</th>     <th>std err</th>      <th>z</th>      <th>P>|z|</th>  <th>[0.025</th>    <th>0.975]</th>  \n</tr>\n<tr>\n  <th>belongs_to_collection</th>  <td> 6.771e+07</td> <td> 3.66e+06</td> <td>   18.492</td> <td> 0.000</td> <td> 6.05e+07</td> <td> 7.49e+07</td>\n</tr>\n<tr>\n  <th>budget</th>                 <td>    1.5763</td> <td>    0.088</td> <td>   17.992</td> <td> 0.000</td> <td>    1.405</td> <td>    1.748</td>\n</tr>\n<tr>\n  <th>runtime</th>                <td> 5.001e+05</td> <td> 6.49e+04</td> <td>    7.701</td> <td> 0.000</td> <td> 3.73e+05</td> <td> 6.27e+05</td>\n</tr>\n<tr>\n  <th>lang_en</th>                <td> 6.684e+06</td> <td> 2.19e+06</td> <td>    3.056</td> <td> 0.002</td> <td>  2.4e+06</td> <td>  1.1e+07</td>\n</tr>\n<tr>\n  <th>genre__Action</th>          <td>-2.024e+07</td> <td>  7.4e+06</td> <td>   -2.735</td> <td> 0.006</td> <td>-3.48e+07</td> <td>-5.74e+06</td>\n</tr>\n<tr>\n  <th>genre__Adventure</th>       <td>-8.573e+06</td> <td> 1.01e+07</td> <td>   -0.853</td> <td> 0.394</td> <td>-2.83e+07</td> <td> 1.11e+07</td>\n</tr>\n<tr>\n  <th>genre__Animation</th>       <td> 3.785e+07</td> <td> 1.44e+07</td> <td>    2.624</td> <td> 0.009</td> <td> 9.58e+06</td> <td> 6.61e+07</td>\n</tr>\n<tr>\n  <th>genre__Comedy</th>          <td> -1.07e+06</td> <td> 7.06e+06</td> <td>   -0.152</td> <td> 0.879</td> <td>-1.49e+07</td> <td> 1.28e+07</td>\n</tr>\n<tr>\n  <th>genre__Crime</th>           <td>-1.835e+07</td> <td> 7.51e+06</td> <td>   -2.442</td> <td> 0.015</td> <td>-3.31e+07</td> <td>-3.62e+06</td>\n</tr>\n<tr>\n  <th>genre__Documentary</th>     <td> 8.909e+05</td> <td> 7.14e+06</td> <td>    0.125</td> <td> 0.901</td> <td>-1.31e+07</td> <td> 1.49e+07</td>\n</tr>\n<tr>\n  <th>genre__Drama</th>           <td>-9.357e+06</td> <td> 6.99e+06</td> <td>   -1.338</td> <td> 0.181</td> <td>-2.31e+07</td> <td> 4.35e+06</td>\n</tr>\n<tr>\n  <th>genre__Family</th>          <td> 3.793e+07</td> <td> 2.36e+07</td> <td>    1.606</td> <td> 0.108</td> <td>-8.37e+06</td> <td> 8.42e+07</td>\n</tr>\n<tr>\n  <th>genre__Fantasy</th>         <td>-1.382e+07</td> <td> 1.05e+07</td> <td>   -1.312</td> <td> 0.190</td> <td>-3.45e+07</td> <td> 6.83e+06</td>\n</tr>\n<tr>\n  <th>genre__Foreign</th>         <td>-5.911e+06</td> <td> 1.07e+07</td> <td>   -0.550</td> <td> 0.582</td> <td> -2.7e+07</td> <td> 1.51e+07</td>\n</tr>\n<tr>\n  <th>genre__History</th>         <td>-1.436e+07</td> <td> 1.13e+07</td> <td>   -1.268</td> <td> 0.205</td> <td>-3.66e+07</td> <td> 7.84e+06</td>\n</tr>\n<tr>\n  <th>genre__Horror</th>          <td>-1.889e+07</td> <td> 7.57e+06</td> <td>   -2.495</td> <td> 0.013</td> <td>-3.37e+07</td> <td>-4.05e+06</td>\n</tr>\n<tr>\n  <th>genre__Music</th>           <td>-1.688e+07</td> <td> 9.47e+06</td> <td>   -1.782</td> <td> 0.075</td> <td>-3.54e+07</td> <td> 1.68e+06</td>\n</tr>\n<tr>\n  <th>genre__Mystery</th>         <td>-7.764e+06</td> <td> 1.11e+07</td> <td>   -0.698</td> <td> 0.485</td> <td>-2.96e+07</td> <td>  1.4e+07</td>\n</tr>\n<tr>\n  <th>genre__Romance</th>         <td>  8.68e+06</td> <td> 9.22e+06</td> <td>    0.941</td> <td> 0.347</td> <td> -9.4e+06</td> <td> 2.68e+07</td>\n</tr>\n<tr>\n  <th>genre__Science Fiction</th> <td> -5.95e+06</td> <td> 1.57e+07</td> <td>   -0.379</td> <td> 0.705</td> <td>-3.68e+07</td> <td> 2.48e+07</td>\n</tr>\n<tr>\n  <th>genre__TV Movie</th>        <td> 3.517e+07</td> <td>  6.9e+06</td> <td>    5.099</td> <td> 0.000</td> <td> 2.17e+07</td> <td> 4.87e+07</td>\n</tr>\n<tr>\n  <th>genre__Thriller</th>        <td>-1.593e+07</td> <td> 8.15e+06</td> <td>   -1.955</td> <td> 0.051</td> <td>-3.19e+07</td> <td> 4.33e+04</td>\n</tr>\n<tr>\n  <th>genre__War</th>             <td>-3.643e+07</td> <td> 1.43e+07</td> <td>   -2.547</td> <td> 0.011</td> <td>-6.45e+07</td> <td>-8.39e+06</td>\n</tr>\n<tr>\n  <th>genre__Western</th>         <td>-2.066e+07</td> <td> 1.34e+07</td> <td>   -1.538</td> <td> 0.124</td> <td> -4.7e+07</td> <td> 5.67e+06</td>\n</tr>\n<tr>\n  <th>prod_comp_yn</th>           <td> 2.696e+06</td> <td> 3.71e+06</td> <td>    0.727</td> <td> 0.467</td> <td>-4.58e+06</td> <td> 9.97e+06</td>\n</tr>\n<tr>\n  <th>fam_dir2</th>               <td>  1.72e+08</td> <td> 3.15e+07</td> <td>    5.468</td> <td> 0.000</td> <td>  1.1e+08</td> <td> 2.34e+08</td>\n</tr>\n<tr>\n  <th>constant</th>               <td>-5.725e+07</td> <td> 1.02e+07</td> <td>   -5.615</td> <td> 0.000</td> <td>-7.72e+07</td> <td>-3.73e+07</td>\n</tr>\n</table>\n<table class=\"simpletable\">\n<tr>\n  <th>Omnibus:</th>       <td>6842.731</td> <th>  Durbin-Watson:     </th>  <td>   1.952</td> \n</tr>\n<tr>\n  <th>Prob(Omnibus):</th>  <td> 0.000</td>  <th>  Jarque-Bera (JB):  </th> <td>806504.516</td>\n</tr>\n<tr>\n  <th>Skew:</th>           <td> 4.031</td>  <th>  Prob(JB):          </th>  <td>    0.00</td> \n</tr>\n<tr>\n  <th>Kurtosis:</th>       <td>53.501</td>  <th>  Cond. No.          </th>  <td>4.18e+09</td> \n</tr>\n</table><br/><br/>Warnings:<br/>[1] Standard Errors are heteroscedasticity robust (HC2)<br/>[2] The condition number is large, 4.18e+09. This might indicate that there are<br/>strong multicollinearity or other numerical problems."
     },
     "metadata": {},
     "execution_count": 186
    }
   ],
   "source": [
    "# Model time \n",
    "\n",
    "import pandas as pd\n",
    "import statsmodels.api as sm\n",
    "import matplotlib.pyplot as plt\n",
    "import numpy as np\n",
    "import seaborn as sns\n",
    "\n",
    "# For X, see cell above\n",
    "X['constant'] = 1\n",
    "\n",
    "y = movies['profit']\n",
    "\n",
    "est = sm.OLS(y, X).fit(cov_type = 'HC2')\n",
    "\n",
    "est.summary()\n"
   ]
  },
  {
   "cell_type": "code",
   "execution_count": 187,
   "metadata": {},
   "outputs": [],
   "source": [
    "# Recycling my recursion function from previous workshop\n",
    "def myrecur(mymodel, my_X, mypval=0.05):\n",
    "    \"\"\"\n",
    "    Removes all the p's > mypval and reruns \n",
    "    to see if there are any more\n",
    "    to remove, until there aren't.\n",
    "    \"\"\"\n",
    "    p_vals= pd.DataFrame(mymodel.pvalues)\n",
    "    p_vals.columns = ['pvalue']\n",
    "    coefs = pd.DataFrame(mymodel.params)\n",
    "    coefs.columns = ['coefs_col']\n",
    "\n",
    "    #BASE CASE should be when there are no more pvalues > mypval, and \n",
    "    # then we return the list of features with all pvalues under mypval. \n",
    "\n",
    "    if len(list(p_vals[p_vals['pvalue'] > mypval].index)) <= 0:  \n",
    "        print(f'features kept: {list(my_X)}, R2 = {mymodel.rsquared}, AIC = {mymodel.aic}')\n",
    "        return mymodel.summary() \n",
    "        \n",
    "    else:\n",
    "        to_remove = list(p_vals[p_vals['pvalue'] > mypval].index)\n",
    "        new_X = my_X.drop(columns=to_remove)\n",
    "        mymodel = sm.OLS(y, new_X).fit(cov_type='HC2')\n",
    "    return myrecur(mymodel, new_X)"
   ]
  },
  {
   "cell_type": "code",
   "execution_count": 188,
   "metadata": {},
   "outputs": [
    {
     "output_type": "stream",
     "name": "stdout",
     "text": [
      "features kept: ['belongs_to_collection', 'budget', 'runtime', 'lang_en', 'genre__Action', 'genre__Animation', 'genre__Crime', 'genre__Horror', 'genre__TV Movie', 'genre__War', 'fam_dir2', 'constant'], R2 = 0.4332750037518649, AIC = 292369.46717283764\n",
      "/Users/mayarossi/opt/anaconda3/lib/python3.8/site-packages/statsmodels/base/model.py:1830: ValueWarning: covariance of constraints does not have full rank. The number of constraints is 11, but rank is 10\n",
      "  warnings.warn('covariance of constraints does not have full '\n"
     ]
    },
    {
     "output_type": "execute_result",
     "data": {
      "text/plain": [
       "<class 'statsmodels.iolib.summary.Summary'>\n",
       "\"\"\"\n",
       "                            OLS Regression Results                            \n",
       "==============================================================================\n",
       "Dep. Variable:                 profit   R-squared:                       0.433\n",
       "Model:                            OLS   Adj. R-squared:                  0.432\n",
       "Method:                 Least Squares   F-statistic:                     125.6\n",
       "Date:                Fri, 05 Feb 2021   Prob (F-statistic):          4.83e-243\n",
       "Time:                        18:36:44   Log-Likelihood:            -1.4617e+05\n",
       "No. Observations:                7401   AIC:                         2.924e+05\n",
       "Df Residuals:                    7389   BIC:                         2.925e+05\n",
       "Df Model:                          11                                         \n",
       "Covariance Type:                  HC2                                         \n",
       "=========================================================================================\n",
       "                            coef    std err          z      P>|z|      [0.025      0.975]\n",
       "-----------------------------------------------------------------------------------------\n",
       "belongs_to_collection  6.829e+07   3.66e+06     18.680      0.000    6.11e+07    7.55e+07\n",
       "budget                    1.5835      0.082     19.294      0.000       1.423       1.744\n",
       "runtime                4.444e+05   6.29e+04      7.062      0.000    3.21e+05    5.68e+05\n",
       "lang_en                7.082e+06   2.14e+06      3.310      0.001    2.89e+06    1.13e+07\n",
       "genre__Action         -1.453e+07   3.38e+06     -4.299      0.000   -2.12e+07   -7.91e+06\n",
       "genre__Animation       4.204e+07   1.27e+07      3.301      0.001    1.71e+07     6.7e+07\n",
       "genre__Crime           -1.24e+07    3.1e+06     -4.000      0.000   -1.85e+07   -6.32e+06\n",
       "genre__Horror         -1.398e+07    3.3e+06     -4.235      0.000   -2.04e+07   -7.51e+06\n",
       "genre__TV Movie        3.946e+07   1.81e+06     21.828      0.000    3.59e+07     4.3e+07\n",
       "genre__War            -2.969e+07   1.25e+07     -2.369      0.018   -5.43e+07   -5.13e+06\n",
       "fam_dir2                1.72e+08   3.14e+07      5.484      0.000    1.11e+08    2.33e+08\n",
       "constant              -5.701e+07   7.54e+06     -7.566      0.000   -7.18e+07   -4.22e+07\n",
       "==============================================================================\n",
       "Omnibus:                     6872.942   Durbin-Watson:                   1.954\n",
       "Prob(Omnibus):                  0.000   Jarque-Bera (JB):           812333.251\n",
       "Skew:                           4.061   Prob(JB):                         0.00\n",
       "Kurtosis:                      53.678   Cond. No.                     3.73e+09\n",
       "==============================================================================\n",
       "\n",
       "Warnings:\n",
       "[1] Standard Errors are heteroscedasticity robust (HC2)\n",
       "[2] The condition number is large, 3.73e+09. This might indicate that there are\n",
       "strong multicollinearity or other numerical problems.\n",
       "\"\"\""
      ],
      "text/html": "<table class=\"simpletable\">\n<caption>OLS Regression Results</caption>\n<tr>\n  <th>Dep. Variable:</th>         <td>profit</td>      <th>  R-squared:         </th>  <td>   0.433</td>  \n</tr>\n<tr>\n  <th>Model:</th>                   <td>OLS</td>       <th>  Adj. R-squared:    </th>  <td>   0.432</td>  \n</tr>\n<tr>\n  <th>Method:</th>             <td>Least Squares</td>  <th>  F-statistic:       </th>  <td>   125.6</td>  \n</tr>\n<tr>\n  <th>Date:</th>             <td>Fri, 05 Feb 2021</td> <th>  Prob (F-statistic):</th>  <td>4.83e-243</td> \n</tr>\n<tr>\n  <th>Time:</th>                 <td>18:36:44</td>     <th>  Log-Likelihood:    </th> <td>-1.4617e+05</td>\n</tr>\n<tr>\n  <th>No. Observations:</th>      <td>  7401</td>      <th>  AIC:               </th>  <td>2.924e+05</td> \n</tr>\n<tr>\n  <th>Df Residuals:</th>          <td>  7389</td>      <th>  BIC:               </th>  <td>2.925e+05</td> \n</tr>\n<tr>\n  <th>Df Model:</th>              <td>    11</td>      <th>                     </th>      <td> </td>     \n</tr>\n<tr>\n  <th>Covariance Type:</th>         <td>HC2</td>       <th>                     </th>      <td> </td>     \n</tr>\n</table>\n<table class=\"simpletable\">\n<tr>\n            <td></td>               <th>coef</th>     <th>std err</th>      <th>z</th>      <th>P>|z|</th>  <th>[0.025</th>    <th>0.975]</th>  \n</tr>\n<tr>\n  <th>belongs_to_collection</th> <td> 6.829e+07</td> <td> 3.66e+06</td> <td>   18.680</td> <td> 0.000</td> <td> 6.11e+07</td> <td> 7.55e+07</td>\n</tr>\n<tr>\n  <th>budget</th>                <td>    1.5835</td> <td>    0.082</td> <td>   19.294</td> <td> 0.000</td> <td>    1.423</td> <td>    1.744</td>\n</tr>\n<tr>\n  <th>runtime</th>               <td> 4.444e+05</td> <td> 6.29e+04</td> <td>    7.062</td> <td> 0.000</td> <td> 3.21e+05</td> <td> 5.68e+05</td>\n</tr>\n<tr>\n  <th>lang_en</th>               <td> 7.082e+06</td> <td> 2.14e+06</td> <td>    3.310</td> <td> 0.001</td> <td> 2.89e+06</td> <td> 1.13e+07</td>\n</tr>\n<tr>\n  <th>genre__Action</th>         <td>-1.453e+07</td> <td> 3.38e+06</td> <td>   -4.299</td> <td> 0.000</td> <td>-2.12e+07</td> <td>-7.91e+06</td>\n</tr>\n<tr>\n  <th>genre__Animation</th>      <td> 4.204e+07</td> <td> 1.27e+07</td> <td>    3.301</td> <td> 0.001</td> <td> 1.71e+07</td> <td>  6.7e+07</td>\n</tr>\n<tr>\n  <th>genre__Crime</th>          <td> -1.24e+07</td> <td>  3.1e+06</td> <td>   -4.000</td> <td> 0.000</td> <td>-1.85e+07</td> <td>-6.32e+06</td>\n</tr>\n<tr>\n  <th>genre__Horror</th>         <td>-1.398e+07</td> <td>  3.3e+06</td> <td>   -4.235</td> <td> 0.000</td> <td>-2.04e+07</td> <td>-7.51e+06</td>\n</tr>\n<tr>\n  <th>genre__TV Movie</th>       <td> 3.946e+07</td> <td> 1.81e+06</td> <td>   21.828</td> <td> 0.000</td> <td> 3.59e+07</td> <td>  4.3e+07</td>\n</tr>\n<tr>\n  <th>genre__War</th>            <td>-2.969e+07</td> <td> 1.25e+07</td> <td>   -2.369</td> <td> 0.018</td> <td>-5.43e+07</td> <td>-5.13e+06</td>\n</tr>\n<tr>\n  <th>fam_dir2</th>              <td>  1.72e+08</td> <td> 3.14e+07</td> <td>    5.484</td> <td> 0.000</td> <td> 1.11e+08</td> <td> 2.33e+08</td>\n</tr>\n<tr>\n  <th>constant</th>              <td>-5.701e+07</td> <td> 7.54e+06</td> <td>   -7.566</td> <td> 0.000</td> <td>-7.18e+07</td> <td>-4.22e+07</td>\n</tr>\n</table>\n<table class=\"simpletable\">\n<tr>\n  <th>Omnibus:</th>       <td>6872.942</td> <th>  Durbin-Watson:     </th>  <td>   1.954</td> \n</tr>\n<tr>\n  <th>Prob(Omnibus):</th>  <td> 0.000</td>  <th>  Jarque-Bera (JB):  </th> <td>812333.251</td>\n</tr>\n<tr>\n  <th>Skew:</th>           <td> 4.061</td>  <th>  Prob(JB):          </th>  <td>    0.00</td> \n</tr>\n<tr>\n  <th>Kurtosis:</th>       <td>53.678</td>  <th>  Cond. No.          </th>  <td>3.73e+09</td> \n</tr>\n</table><br/><br/>Warnings:<br/>[1] Standard Errors are heteroscedasticity robust (HC2)<br/>[2] The condition number is large, 3.73e+09. This might indicate that there are<br/>strong multicollinearity or other numerical problems."
     },
     "metadata": {},
     "execution_count": 188
    }
   ],
   "source": [
    "myrecur(est, X)"
   ]
  },
  {
   "cell_type": "code",
   "execution_count": 146,
   "metadata": {},
   "outputs": [],
   "source": [
    "#"
   ]
  },
  {
   "cell_type": "code",
   "execution_count": 147,
   "metadata": {},
   "outputs": [],
   "source": [
    "# Feature_selection below for comparison: "
   ]
  },
  {
   "cell_type": "code",
   "execution_count": 189,
   "metadata": {},
   "outputs": [
    {
     "output_type": "stream",
     "name": "stdout",
     "text": [
      "Fitting estimator with 27 features.\n",
      "Fitting estimator with 17 features.\n",
      "['belongs_to_collection', 'budget', 'runtime', 'genre__Action', 'genre__Animation', 'genre__Crime', 'genre__Family', 'genre__Horror', 'genre__TV Movie', 'genre__War', 'genre__Western', 'fam_dir2']\n",
      "/Users/mayarossi/opt/anaconda3/lib/python3.8/site-packages/statsmodels/base/model.py:1830: ValueWarning: covariance of constraints does not have full rank. The number of constraints is 12, but rank is 11\n",
      "  warnings.warn('covariance of constraints does not have full '\n"
     ]
    },
    {
     "output_type": "execute_result",
     "data": {
      "text/plain": [
       "<class 'statsmodels.iolib.summary.Summary'>\n",
       "\"\"\"\n",
       "                            OLS Regression Results                            \n",
       "==============================================================================\n",
       "Dep. Variable:                 profit   R-squared:                       0.434\n",
       "Model:                            OLS   Adj. R-squared:                  0.433\n",
       "Method:                 Least Squares   F-statistic:                     141.2\n",
       "Date:                Fri, 05 Feb 2021   Prob (F-statistic):          6.80e-296\n",
       "Time:                        18:36:56   Log-Likelihood:            -1.4617e+05\n",
       "No. Observations:                7401   AIC:                         2.924e+05\n",
       "Df Residuals:                    7388   BIC:                         2.924e+05\n",
       "Df Model:                          12                                         \n",
       "Covariance Type:                  HC2                                         \n",
       "=========================================================================================\n",
       "                            coef    std err          z      P>|z|      [0.025      0.975]\n",
       "-----------------------------------------------------------------------------------------\n",
       "const                 -5.106e+07   6.69e+06     -7.637      0.000   -6.42e+07    -3.8e+07\n",
       "belongs_to_collection  6.728e+07   3.62e+06     18.575      0.000    6.02e+07    7.44e+07\n",
       "budget                    1.5920      0.079     20.090      0.000       1.437       1.747\n",
       "runtime                4.403e+05   6.02e+04      7.310      0.000    3.22e+05    5.58e+05\n",
       "genre__Action         -1.398e+07   3.33e+06     -4.194      0.000   -2.05e+07   -7.45e+06\n",
       "genre__Animation       4.205e+07   1.26e+07      3.329      0.001    1.73e+07    6.68e+07\n",
       "genre__Crime           -1.17e+07   3.09e+06     -3.787      0.000   -1.78e+07   -5.64e+06\n",
       "genre__Family          4.339e+07   2.28e+07      1.903      0.057   -1.31e+06    8.81e+07\n",
       "genre__Horror         -1.252e+07   3.26e+06     -3.846      0.000   -1.89e+07   -6.14e+06\n",
       "genre__TV Movie        4.091e+07   1.65e+06     24.840      0.000    3.77e+07    4.41e+07\n",
       "genre__War            -3.016e+07   1.25e+07     -2.422      0.015   -5.46e+07   -5.76e+06\n",
       "genre__Western        -1.336e+07   1.16e+07     -1.150      0.250   -3.61e+07    9.41e+06\n",
       "fam_dir2               1.722e+08   3.12e+07      5.514      0.000    1.11e+08    2.33e+08\n",
       "==============================================================================\n",
       "Omnibus:                     6835.525   Durbin-Watson:                   1.954\n",
       "Prob(Omnibus):                  0.000   Jarque-Bera (JB):           801028.509\n",
       "Skew:                           4.025   Prob(JB):                         0.00\n",
       "Kurtosis:                      53.327   Cond. No.                     3.73e+09\n",
       "==============================================================================\n",
       "\n",
       "Warnings:\n",
       "[1] Standard Errors are heteroscedasticity robust (HC2)\n",
       "[2] The condition number is large, 3.73e+09. This might indicate that there are\n",
       "strong multicollinearity or other numerical problems.\n",
       "\"\"\""
      ],
      "text/html": "<table class=\"simpletable\">\n<caption>OLS Regression Results</caption>\n<tr>\n  <th>Dep. Variable:</th>         <td>profit</td>      <th>  R-squared:         </th>  <td>   0.434</td>  \n</tr>\n<tr>\n  <th>Model:</th>                   <td>OLS</td>       <th>  Adj. R-squared:    </th>  <td>   0.433</td>  \n</tr>\n<tr>\n  <th>Method:</th>             <td>Least Squares</td>  <th>  F-statistic:       </th>  <td>   141.2</td>  \n</tr>\n<tr>\n  <th>Date:</th>             <td>Fri, 05 Feb 2021</td> <th>  Prob (F-statistic):</th>  <td>6.80e-296</td> \n</tr>\n<tr>\n  <th>Time:</th>                 <td>18:36:56</td>     <th>  Log-Likelihood:    </th> <td>-1.4617e+05</td>\n</tr>\n<tr>\n  <th>No. Observations:</th>      <td>  7401</td>      <th>  AIC:               </th>  <td>2.924e+05</td> \n</tr>\n<tr>\n  <th>Df Residuals:</th>          <td>  7388</td>      <th>  BIC:               </th>  <td>2.924e+05</td> \n</tr>\n<tr>\n  <th>Df Model:</th>              <td>    12</td>      <th>                     </th>      <td> </td>     \n</tr>\n<tr>\n  <th>Covariance Type:</th>         <td>HC2</td>       <th>                     </th>      <td> </td>     \n</tr>\n</table>\n<table class=\"simpletable\">\n<tr>\n            <td></td>               <th>coef</th>     <th>std err</th>      <th>z</th>      <th>P>|z|</th>  <th>[0.025</th>    <th>0.975]</th>  \n</tr>\n<tr>\n  <th>const</th>                 <td>-5.106e+07</td> <td> 6.69e+06</td> <td>   -7.637</td> <td> 0.000</td> <td>-6.42e+07</td> <td> -3.8e+07</td>\n</tr>\n<tr>\n  <th>belongs_to_collection</th> <td> 6.728e+07</td> <td> 3.62e+06</td> <td>   18.575</td> <td> 0.000</td> <td> 6.02e+07</td> <td> 7.44e+07</td>\n</tr>\n<tr>\n  <th>budget</th>                <td>    1.5920</td> <td>    0.079</td> <td>   20.090</td> <td> 0.000</td> <td>    1.437</td> <td>    1.747</td>\n</tr>\n<tr>\n  <th>runtime</th>               <td> 4.403e+05</td> <td> 6.02e+04</td> <td>    7.310</td> <td> 0.000</td> <td> 3.22e+05</td> <td> 5.58e+05</td>\n</tr>\n<tr>\n  <th>genre__Action</th>         <td>-1.398e+07</td> <td> 3.33e+06</td> <td>   -4.194</td> <td> 0.000</td> <td>-2.05e+07</td> <td>-7.45e+06</td>\n</tr>\n<tr>\n  <th>genre__Animation</th>      <td> 4.205e+07</td> <td> 1.26e+07</td> <td>    3.329</td> <td> 0.001</td> <td> 1.73e+07</td> <td> 6.68e+07</td>\n</tr>\n<tr>\n  <th>genre__Crime</th>          <td> -1.17e+07</td> <td> 3.09e+06</td> <td>   -3.787</td> <td> 0.000</td> <td>-1.78e+07</td> <td>-5.64e+06</td>\n</tr>\n<tr>\n  <th>genre__Family</th>         <td> 4.339e+07</td> <td> 2.28e+07</td> <td>    1.903</td> <td> 0.057</td> <td>-1.31e+06</td> <td> 8.81e+07</td>\n</tr>\n<tr>\n  <th>genre__Horror</th>         <td>-1.252e+07</td> <td> 3.26e+06</td> <td>   -3.846</td> <td> 0.000</td> <td>-1.89e+07</td> <td>-6.14e+06</td>\n</tr>\n<tr>\n  <th>genre__TV Movie</th>       <td> 4.091e+07</td> <td> 1.65e+06</td> <td>   24.840</td> <td> 0.000</td> <td> 3.77e+07</td> <td> 4.41e+07</td>\n</tr>\n<tr>\n  <th>genre__War</th>            <td>-3.016e+07</td> <td> 1.25e+07</td> <td>   -2.422</td> <td> 0.015</td> <td>-5.46e+07</td> <td>-5.76e+06</td>\n</tr>\n<tr>\n  <th>genre__Western</th>        <td>-1.336e+07</td> <td> 1.16e+07</td> <td>   -1.150</td> <td> 0.250</td> <td>-3.61e+07</td> <td> 9.41e+06</td>\n</tr>\n<tr>\n  <th>fam_dir2</th>              <td> 1.722e+08</td> <td> 3.12e+07</td> <td>    5.514</td> <td> 0.000</td> <td> 1.11e+08</td> <td> 2.33e+08</td>\n</tr>\n</table>\n<table class=\"simpletable\">\n<tr>\n  <th>Omnibus:</th>       <td>6835.525</td> <th>  Durbin-Watson:     </th>  <td>   1.954</td> \n</tr>\n<tr>\n  <th>Prob(Omnibus):</th>  <td> 0.000</td>  <th>  Jarque-Bera (JB):  </th> <td>801028.509</td>\n</tr>\n<tr>\n  <th>Skew:</th>           <td> 4.025</td>  <th>  Prob(JB):          </th>  <td>    0.00</td> \n</tr>\n<tr>\n  <th>Kurtosis:</th>       <td>53.327</td>  <th>  Cond. No.          </th>  <td>3.73e+09</td> \n</tr>\n</table><br/><br/>Warnings:<br/>[1] Standard Errors are heteroscedasticity robust (HC2)<br/>[2] The condition number is large, 3.73e+09. This might indicate that there are<br/>strong multicollinearity or other numerical problems."
     },
     "metadata": {},
     "execution_count": 189
    }
   ],
   "source": [
    "from sklearn.feature_selection import RFE\n",
    "from sklearn.linear_model import LinearRegression\n",
    "from sklearn.preprocessing import MinMaxScaler\n",
    "\n",
    "X = X\n",
    "# X['constant'] = 1\n",
    "y = y\n",
    "\n",
    "num_feats=12\n",
    "X_norm = MinMaxScaler().fit_transform(X)\n",
    "rfe_selector = RFE(estimator=LinearRegression(), n_features_to_select=num_feats, step=10, verbose=5)\n",
    "rfe_selector.fit(X_norm, y)\n",
    "rfe_support = rfe_selector.get_support()\n",
    "rfe_feature = X.loc[:,rfe_support].columns.tolist()\n",
    "# print(str(len(rfe_feature)), 'selected features')\n",
    "print(list(rfe_feature))\n",
    "\n",
    "RFE_X = X[list(rfe_feature)]\n",
    "\n",
    "feat_sel_est = sm.OLS(y, sm.add_constant(RFE_X)).fit(cov_type='HC2')\n",
    "feat_sel_est.summary()\n"
   ]
  },
  {
   "source": [],
   "cell_type": "markdown",
   "metadata": {}
  },
  {
   "cell_type": "markdown",
   "metadata": {},
   "source": [
    "# 2.2 Movies Manual Regression\n",
    "\n",
    "Use your `X` and `y` matrix from 2.1 to calculate the linear regression yourself using the normal equation $(X^T X)^{-1}X^Ty$.\n",
    "\n",
    "Verify that the coefficients are the same."
   ]
  },
  {
   "cell_type": "code",
   "execution_count": 149,
   "metadata": {},
   "outputs": [],
   "source": [
    "# Both options below work: "
   ]
  },
  {
   "cell_type": "code",
   "execution_count": 190,
   "metadata": {},
   "outputs": [
    {
     "output_type": "stream",
     "name": "stdout",
     "text": [
      "[-5.10605991e+07  6.72764814e+07  1.59200586e+00  4.40337025e+05\n -1.39798682e+07  4.20541281e+07 -1.16976925e+07  4.33928637e+07\n -1.25198470e+07  4.09105746e+07 -3.01593203e+07 -1.33551956e+07\n  1.72203917e+08]\n"
     ]
    }
   ],
   "source": [
    "X = sm.add_constant(RFE_X)\n",
    "\n",
    "Xt = np.transpose(X)\n",
    "XtX = np.dot(Xt,X)\n",
    "Xty = np.dot(Xt,y)\n",
    "beta = np.linalg.solve(XtX,Xty)\n",
    "\n",
    "print(beta)\n"
   ]
  },
  {
   "cell_type": "code",
   "execution_count": 191,
   "metadata": {},
   "outputs": [
    {
     "output_type": "execute_result",
     "data": {
      "text/plain": [
       "array([-5.10605991e+07,  6.72764814e+07,  1.59200586e+00,  4.40337025e+05,\n",
       "       -1.39798682e+07,  4.20541281e+07, -1.16976925e+07,  4.33928637e+07,\n",
       "       -1.25198470e+07,  4.09105746e+07, -3.01593203e+07, -1.33551956e+07,\n",
       "        1.72203917e+08])"
      ]
     },
     "metadata": {},
     "execution_count": 191
    }
   ],
   "source": [
    "np.linalg.inv(X.T.dot(X)).dot(X.T).dot(y)"
   ]
  },
  {
   "cell_type": "code",
   "execution_count": 192,
   "metadata": {},
   "outputs": [
    {
     "output_type": "execute_result",
     "data": {
      "text/plain": [
       "const                   -5.106060e+07\n",
       "belongs_to_collection    6.727648e+07\n",
       "budget                   1.592006e+00\n",
       "runtime                  4.403370e+05\n",
       "genre__Action           -1.397987e+07\n",
       "genre__Animation         4.205413e+07\n",
       "genre__Crime            -1.169769e+07\n",
       "genre__Family            4.339286e+07\n",
       "genre__Horror           -1.251985e+07\n",
       "genre__TV Movie          4.091057e+07\n",
       "genre__War              -3.015932e+07\n",
       "genre__Western          -1.335520e+07\n",
       "fam_dir2                 1.722039e+08\n",
       "dtype: float64"
      ]
     },
     "metadata": {},
     "execution_count": 192
    }
   ],
   "source": [
    "feat_sel_est.params\n",
    "# same coeffs "
   ]
  },
  {
   "cell_type": "markdown",
   "metadata": {},
   "source": [
    "# 2.3 Movies gradient descent regression\n",
    "\n",
    "Use your `X` and `y` matrix from 2.1 to calculate the linear regression yourself using **gradient descent**. \n",
    "\n",
    "Hint: use `scipy.optimize` and remember we're finding the $\\beta$ that minimizes the squared loss function of linear regression: $f(\\beta) = (\\beta X - y)^2$. This will look like part 3 of this lecture.\n",
    "\n",
    "Verify your coefficients are similar to the ones in 2.1 and 2.2. They won't necessarily be exactly the same, but should be roughly similar."
   ]
  },
  {
   "cell_type": "code",
   "execution_count": 193,
   "metadata": {},
   "outputs": [],
   "source": [
    "# sum of squares: \n",
    "def gradient_SSE(b_hat,y,X):\n",
    "    res = np.sum(((X.dot(b_hat)) - y)**2)\n",
    "    return res"
   ]
  },
  {
   "cell_type": "code",
   "execution_count": 197,
   "metadata": {},
   "outputs": [
    {
     "output_type": "execute_result",
     "data": {
      "text/plain": [
       "array([ 6.45200609e+07,  1.62730150e+00, -1.02464239e+04, -1.58711043e+07,\n",
       "        3.03355859e+07, -1.28810769e+07,  3.41893821e+07, -1.89235296e+07,\n",
       "        2.97753410e+07, -2.56476054e+07, -1.21199995e+07,  1.79413807e+08])"
      ]
     },
     "metadata": {},
     "execution_count": 197
    }
   ],
   "source": [
    "from scipy.optimize import minimize\n",
    "\n",
    "# We have X from before (RFE_X)\n",
    "y = movies.profit\n",
    "\n",
    "#create beta hat vector to maximize on\n",
    "#will store the values of maximum likelihood beta parameters\n",
    "#Arbitrarily initialized to all zeros\n",
    "b_hat = np.zeros(np.shape(RFE_X)[1])\n",
    "\n",
    "# β that minimizes the squared loss function (gradient_SSE) of linear regression:\n",
    "gradient_est = minimize(gradient_SSE, b_hat, args=(y,RFE_X), method='powell')\n",
    "\n",
    "#print vector of betahats (maximized)\n",
    "gradient_est['x']\n",
    "\n",
    "## values are a litte different from above. "
   ]
  },
  {
   "cell_type": "code",
   "execution_count": null,
   "metadata": {},
   "outputs": [],
   "source": []
  }
 ],
 "metadata": {
  "colab": {
   "authorship_tag": "ABX9TyPIPzivigAhB3FeR6Q96N8T",
   "collapsed_sections": [],
   "name": "Workshop: Maximum likelihood.ipynb",
   "provenance": []
  },
  "kernelspec": {
   "display_name": "Python 3",
   "language": "python",
   "name": "python3"
  },
  "language_info": {
   "codemirror_mode": {
    "name": "ipython",
    "version": 3
   },
   "file_extension": ".py",
   "mimetype": "text/x-python",
   "name": "python",
   "nbconvert_exporter": "python",
   "pygments_lexer": "ipython3",
   "version": "3.8.3-final"
  }
 },
 "nbformat": 4,
 "nbformat_minor": 1
}