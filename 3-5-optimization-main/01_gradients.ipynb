{
 "cells": [
  {
   "cell_type": "markdown",
   "metadata": {},
   "source": [
    "# Derivatives\n",
    "\n",
    "The derivative of a function is the rate of change or that function. For instance, if a function described the speed of a car, the derivative would describe the acceleration or deceleration.\n",
    "\n",
    "In practice, this translates to the tangent of the function:\n",
    "\n",
    "![](derivative_plot.png)\n",
    "\n",
    "For [differentiable functions](), you have derivatives everywhere, which look like this:\n",
    "\n",
    "\n",
    "\n",
    "Note that not all continuous functions are [differentiable](https://math.stackexchange.com/questions/386967/necessary-and-sufficient-conditions-for-differentiability), but a function must be continuous to be differentiable (recall the definition of continuous functions from module 1).\n",
    "\n",
    "You could use [Wolfram Alpha](https://www.wolframalpha.com/) to calculate derivatives of function, but within python there's Sympy:"
   ]
  },
  {
   "cell_type": "code",
   "execution_count": 1,
   "metadata": {},
   "outputs": [
    {
     "data": {
      "image/png": "[encoded data removed]",
      "text/latex": [
       "$\\displaystyle - \\sin{\\left(x \\right)}$"
      ],
      "text/plain": [
       "-sin(x)"
      ]
     },
     "execution_count": 1,
     "metadata": {},
     "output_type": "execute_result"
    }
   ],
   "source": [
    "import matplotlib.pyplot as plt\n",
    "import numpy as np\n",
    "import sympy as sy\n",
    "\n",
    "x, y, z = sy.symbols('x y z')\n",
    "\n",
    "sy.init_printing(use_unicode=True)\n",
    "\n",
    "sy.diff(sy.cos(x), x)"
   ]
  },
  {
   "cell_type": "code",
   "execution_count": 3,
   "metadata": {},
   "outputs": [
    {
     "data": {
      "image/png": "[encoded data removed]",
      "text/latex": [
       "$\\displaystyle 2 x e^{x^{2}}$"
      ],
      "text/plain": [
       "     ⎛ 2⎞\n",
       "     ⎝x ⎠\n",
       "2⋅x⋅ℯ    "
      ]
     },
     "execution_count": 3,
     "metadata": {},
     "output_type": "execute_result"
    }
   ],
   "source": [
    "sy.diff(sy.exp(x**2), x)"
   ]
  },
  {
   "cell_type": "code",
   "execution_count": 4,
   "metadata": {},
   "outputs": [
    {
     "data": {
      "image/png": "[encoded data removed]",
      "text/latex": [
       "$\\displaystyle y z e^{x y z}$"
      ],
      "text/plain": [
       "     x⋅y⋅z\n",
       "y⋅z⋅ℯ     "
      ]
     },
     "execution_count": 4,
     "metadata": {},
     "output_type": "execute_result"
    }
   ],
   "source": [
    "expr = sy.exp(x*y*z)\n",
    "\n",
    "sy.diff(expr, x)"
   ]
  },
  {
   "cell_type": "markdown",
   "metadata": {},
   "source": [
    "**Partial derivatives**\n",
    "\n",
    "In a function of many inputs, we can take derivatives with respect to one of the inputs:"
   ]
  },
  {
   "cell_type": "code",
   "execution_count": 6,
   "metadata": {},
   "outputs": [
    {
     "data": {
      "image/png": "[encoded data removed]",
      "text/latex": [
       "$\\displaystyle x z e^{x y z}$"
      ],
      "text/plain": [
       "     x⋅y⋅z\n",
       "x⋅z⋅ℯ     "
      ]
     },
     "execution_count": 6,
     "metadata": {},
     "output_type": "execute_result"
    }
   ],
   "source": [
    "sy.diff(expr, y)"
   ]
  },
  {
   "cell_type": "code",
   "execution_count": 6,
   "metadata": {},
   "outputs": [
    {
     "data": {
      "image/png": "[encoded data removed]",
      "text/latex": [
       "$\\displaystyle \\frac{\\partial^{n}}{\\partial x^{n}} \\left(a x + b\\right)^{m}$"
      ],
      "text/plain": [
       "  n            \n",
       " ∂ ⎛         m⎞\n",
       "───⎝(a⋅x + b) ⎠\n",
       "  n            \n",
       "∂x             "
      ]
     },
     "execution_count": 6,
     "metadata": {},
     "output_type": "execute_result"
    }
   ],
   "source": [
    "m, n, a, b = sy.symbols('m n a b')\n",
    "\n",
    "expr = (a*x + b)**m\n",
    "\n",
    "expr.diff((x, n))"
   ]
  },
  {
   "cell_type": "markdown",
   "metadata": {},
   "source": [
    "**2nd derivatives** are the rate of change of the rate of change.\n",
    "\n",
    "In a moving car, velocity would be the function, acceleration the derivative, and \"jerk\" would be the second derivative."
   ]
  },
  {
   "cell_type": "code",
   "execution_count": 5,
   "metadata": {},
   "outputs": [
    {
     "data": {
      "image/png": "[encoded data removed]",
      "text/latex": [
       "$\\displaystyle y^{2} z^{2} e^{x y z}$"
      ],
      "text/plain": [
       " 2  2  x⋅y⋅z\n",
       "y ⋅z ⋅ℯ     "
      ]
     },
     "execution_count": 5,
     "metadata": {},
     "output_type": "execute_result"
    }
   ],
   "source": [
    "sy.diff(expr, x, x)"
   ]
  },
  {
   "cell_type": "markdown",
   "metadata": {},
   "source": [
    "# Gradients\n",
    "\n",
    "In a function taking in a vector, the **gradient** is the vector of partial derivatives of all the inputs of a function.\n",
    "\n",
    "Here it is represented on a 3d field of a $f(x_1, X_2) = y$ function:\n",
    "\n",
    "![](gradient_field.png)"
   ]
  },
  {
   "cell_type": "markdown",
   "metadata": {},
   "source": [
    "# Minimization\n",
    "\n",
    "Take a differentiable function and a starting point. The derivative will always point us \"where to go\" to find a minimum or maximum from where you are. This is called gradient descent or \"hill climbing\".\n",
    "\n",
    "From now on we'll only talk about minimizing functions, because $min(-f(x)) = max(f(x))$.\n",
    "\n",
    "Remember, a minimum has a derivative of 0 (the tangent gradient is flat at that point by definition)."
   ]
  },
  {
   "cell_type": "code",
   "execution_count": 11,
   "metadata": {},
   "outputs": [
    {
     "data": {
      "image/png": "[encoded data removed]",
      "text/plain": [
       "<Figure size 432x288 with 1 Axes>"
      ]
     },
     "metadata": {
      "needs_background": "light"
     },
     "output_type": "display_data"
    }
   ],
   "source": [
    "f_x = lambda x: (x**3)-4*(x**2)+6  \n",
    "\n",
    "x = np.linspace(-1,4,1000)\n",
    "\n",
    "#Plot the curve\n",
    "plt.plot(x, f_x(x))\n",
    "plt.show()"
   ]
  },
  {
   "cell_type": "code",
   "execution_count": 12,
   "metadata": {},
   "outputs": [],
   "source": [
    "f_x_derivative = lambda x: 3*(x**2)-8*x"
   ]
  },
  {
   "cell_type": "markdown",
   "metadata": {},
   "source": [
    "Let's write functions to plot gradient descent and also calulate minimum using gradient descent algorithm.We will be passing x_start(starting value of x), iterations, learning rate as parameters."
   ]
  },
  {
   "cell_type": "code",
   "execution_count": 13,
   "metadata": {},
   "outputs": [],
   "source": [
    "def plot_gradient(x, y, x_vis, y_vis):\n",
    "    plt.subplot(1,2,2)\n",
    "    plt.scatter(x_vis, y_vis, c = \"b\")\n",
    "    plt.plot(x, f_x(x), c = \"r\")\n",
    "    plt.title(\"Gradient Descent\")\n",
    "    plt.show()\n",
    "\n",
    "    plt.subplot(1,2,1)\n",
    "    plt.scatter(x_vis, y_vis, c = \"b\")\n",
    "    plt.plot(x,f_x(x), c = \"r\")\n",
    "    plt.xlim([2.0,3.0])\n",
    "    plt.title(\"Zoomed in Figure\")\n",
    "    plt.show()\n",
    "    \n",
    "def gradient_iteration(x_start, iterations, learning_rate):\n",
    "    \n",
    "    # These x and y value lists will be used later for visualisation.\n",
    "    x_grad = [x_start]\n",
    "    y_grad = [f_x(x_start)]\n",
    "    # Keep looping until number of iterations\n",
    "    for i in range(iterations):\n",
    "        \n",
    "        # Get the Slope value from the derivative function for x_start\n",
    "        # Since we need negative descent (towards minimum), we use '-' of derivative\n",
    "        x_start_derivative = - f_x_derivative(x_start)\n",
    "        \n",
    "        # calculate x_start by adding the previous value to \n",
    "        # the product of the derivative and the learning rate calculated above.\n",
    "        x_start += (learning_rate * x_start_derivative)        \n",
    "        \n",
    "        x_grad.append(x_start)\n",
    "        y_grad.append(f_x(x_start))\n",
    "\n",
    "    print (\"Local minimum occurs at: {:.2f}\".format(x_start))\n",
    "    print (\"Number of steps: \",len(x_grad)-1)\n",
    "    plot_gradient(x, f_x(x) ,x_grad, y_grad)"
   ]
  },
  {
   "cell_type": "markdown",
   "metadata": {},
   "source": [
    "Now , let's run gradient_iteration function with <br>\n",
    "x_start = 0.5, iterations = 1000, learning rate = 0.05"
   ]
  },
  {
   "cell_type": "code",
   "execution_count": 14,
   "metadata": {},
   "outputs": [
    {
     "name": "stdout",
     "output_type": "stream",
     "text": [
      "Local minimum occurs at: 2.67\n",
      "Number of steps:  1000\n"
     ]
    },
    {
     "data": {
      "image/png": "[encoded data removed]",
      "text/plain": [
       "<Figure size 432x288 with 1 Axes>"
      ]
     },
     "metadata": {
      "needs_background": "light"
     },
     "output_type": "display_data"
    },
    {
     "data": {
      "image/png": "[encoded data removed]",
      "text/plain": [
       "<Figure size 432x288 with 1 Axes>"
      ]
     },
     "metadata": {
      "needs_background": "light"
     },
     "output_type": "display_data"
    }
   ],
   "source": [
    "gradient_iteration(0.5, 1000, 0.05)"
   ]
  },
  {
   "cell_type": "code",
   "execution_count": null,
   "metadata": {},
   "outputs": [],
   "source": []
  },
  {
   "cell_type": "code",
   "execution_count": null,
   "metadata": {},
   "outputs": [],
   "source": []
  },
  {
   "cell_type": "code",
   "execution_count": null,
   "metadata": {},
   "outputs": [],
   "source": []
  }
 ],
 "metadata": {
  "kernelspec": {
   "display_name": "Python 3",
   "language": "python",
   "name": "python3"
  },
  "language_info": {
   "codemirror_mode": {
    "name": "ipython",
    "version": 3
   },
   "file_extension": ".py",
   "mimetype": "text/x-python",
   "name": "python",
   "nbconvert_exporter": "python",
   "pygments_lexer": "ipython3",
   "version": "3.8.3"
  }
 },
 "nbformat": 4,
 "nbformat_minor": 2
}
